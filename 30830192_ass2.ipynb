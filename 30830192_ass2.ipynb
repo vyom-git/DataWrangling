{
 "cells": [
  {
   "cell_type": "markdown",
   "metadata": {},
   "source": [
    "# FIT5196 Assessment 2\n",
    "#### Student Name: Vyom Chauhan\n",
    "#### Student ID: 30830192\n",
    "\n",
    "Date: 21/10/2020\n",
    "\n",
    "Version: 1.0\n",
    "\n",
    "Environment: Python 3.6.0 and Anaconda 4.3.0 (64-bit)\n",
    "\n",
    "Libraries used:\n",
    "- pandas\n",
    "- numpy\n",
    "- nltk\n",
    "- nltk.sentiment.vader\n",
    "- seaborn\n",
    "\n",
    "\n",
    "## 1. Introduction\n",
    "The assignment has the following tasks:\n",
    "- Detect and fix errors in 30830192_dirty_data.csv\n",
    "- Detect and remove outlier rows in 30830192_outlier_data.csv with respect to delivery_charges\n",
    "- Impute the missing values in 30830192_missing_data.csv"
   ]
  },
  {
   "cell_type": "markdown",
   "metadata": {},
   "source": [
    "## 2.  Import libraries "
   ]
  },
  {
   "cell_type": "code",
   "execution_count": 1,
   "metadata": {},
   "outputs": [],
   "source": [
    "# Basic scientific python libraries\n",
    "import pandas as pd\n",
    "import numpy as np\n",
    "import nltk\n",
    "from nltk.sentiment.vader import SentimentIntensityAnalyzer\n",
    "# Visualisation\n",
    "import seaborn as sns\n",
    "import matplotlib.pyplot as plt"
   ]
  },
  {
   "cell_type": "code",
   "execution_count": 2,
   "metadata": {},
   "outputs": [],
   "source": [
    "pd.set_option('display.max_rows', 500)"
   ]
  },
  {
   "cell_type": "markdown",
   "metadata": {},
   "source": [
    "## 3. Examining and loading data"
   ]
  },
  {
   "cell_type": "markdown",
   "metadata": {},
   "source": [
    "The input files of dirty_data, missing_data, outlier_data and warehouse in csv formats are read and stored as a dataframe."
   ]
  },
  {
   "cell_type": "code",
   "execution_count": 3,
   "metadata": {},
   "outputs": [],
   "source": [
    "# reading the input files\n",
    "dirty_data = pd.read_csv('30830192_dirty_data.csv')\n",
    "outlier_data = pd.read_csv('30830192_outlier_data.csv')\n",
    "missing_data = pd.read_csv('30830192_missing_data.csv')\n",
    "warehouse = pd.read_csv('warehouses.csv')"
   ]
  },
  {
   "cell_type": "markdown",
   "metadata": {},
   "source": [
    "#### The dirty_data file has 500 rows and 16 columns. The first 5 rows of the dirty_data file have been displayed below."
   ]
  },
  {
   "cell_type": "code",
   "execution_count": 4,
   "metadata": {},
   "outputs": [
    {
     "name": "stdout",
     "output_type": "stream",
     "text": [
      "(500, 16)\n"
     ]
    },
    {
     "data": {
      "text/html": [
       "<div>\n",
       "<style scoped>\n",
       "    .dataframe tbody tr th:only-of-type {\n",
       "        vertical-align: middle;\n",
       "    }\n",
       "\n",
       "    .dataframe tbody tr th {\n",
       "        vertical-align: top;\n",
       "    }\n",
       "\n",
       "    .dataframe thead th {\n",
       "        text-align: right;\n",
       "    }\n",
       "</style>\n",
       "<table border=\"1\" class=\"dataframe\">\n",
       "  <thead>\n",
       "    <tr style=\"text-align: right;\">\n",
       "      <th></th>\n",
       "      <th>order_id</th>\n",
       "      <th>customer_id</th>\n",
       "      <th>date</th>\n",
       "      <th>nearest_warehouse</th>\n",
       "      <th>shopping_cart</th>\n",
       "      <th>order_price</th>\n",
       "      <th>delivery_charges</th>\n",
       "      <th>customer_lat</th>\n",
       "      <th>customer_long</th>\n",
       "      <th>coupon_discount</th>\n",
       "      <th>order_total</th>\n",
       "      <th>season</th>\n",
       "      <th>is_expedited_delivery</th>\n",
       "      <th>distance_to_nearest_warehouse</th>\n",
       "      <th>latest_customer_review</th>\n",
       "      <th>is_happy_customer</th>\n",
       "    </tr>\n",
       "  </thead>\n",
       "  <tbody>\n",
       "    <tr>\n",
       "      <th>0</th>\n",
       "      <td>ORD405753</td>\n",
       "      <td>ID3202364313</td>\n",
       "      <td>2019-10-05</td>\n",
       "      <td>Thompson</td>\n",
       "      <td>[('Lucent 330S', 2), ('pearTV', 1)]</td>\n",
       "      <td>8770</td>\n",
       "      <td>103.35</td>\n",
       "      <td>-37.815399</td>\n",
       "      <td>144.957489</td>\n",
       "      <td>25</td>\n",
       "      <td>6680.85</td>\n",
       "      <td>Spring</td>\n",
       "      <td>True</td>\n",
       "      <td>0.9653</td>\n",
       "      <td>awesome this is a great phone for it's price.</td>\n",
       "      <td>True</td>\n",
       "    </tr>\n",
       "    <tr>\n",
       "      <th>1</th>\n",
       "      <td>ORD269977</td>\n",
       "      <td>ID0233274930</td>\n",
       "      <td>2019-03-01</td>\n",
       "      <td>Nickolson</td>\n",
       "      <td>[('pearTV', 1), ('Alcon 10', 2), ('Universe No...</td>\n",
       "      <td>31110</td>\n",
       "      <td>82.52</td>\n",
       "      <td>-37.807989</td>\n",
       "      <td>144.975727</td>\n",
       "      <td>10</td>\n",
       "      <td>28081.52</td>\n",
       "      <td>Autumn</td>\n",
       "      <td>True</td>\n",
       "      <td>1.2996</td>\n",
       "      <td>None</td>\n",
       "      <td>True</td>\n",
       "    </tr>\n",
       "    <tr>\n",
       "      <th>2</th>\n",
       "      <td>ORD014605</td>\n",
       "      <td>ID0122705650</td>\n",
       "      <td>2019-05-23</td>\n",
       "      <td>Thompson</td>\n",
       "      <td>[('Universe Note', 1), ('Lucent 330S', 1), ('T...</td>\n",
       "      <td>14180</td>\n",
       "      <td>50.90</td>\n",
       "      <td>-37.821712</td>\n",
       "      <td>144.952560</td>\n",
       "      <td>15</td>\n",
       "      <td>12103.90</td>\n",
       "      <td>Autumn</td>\n",
       "      <td>True</td>\n",
       "      <td>1.1160</td>\n",
       "      <td>one star just don't buy you'll thank me</td>\n",
       "      <td>False</td>\n",
       "    </tr>\n",
       "    <tr>\n",
       "      <th>3</th>\n",
       "      <td>ORD101531</td>\n",
       "      <td>ID4520380504</td>\n",
       "      <td>2019-02-21</td>\n",
       "      <td>Thompson</td>\n",
       "      <td>[('Universe Note', 2), ('Alcon 10', 2)]</td>\n",
       "      <td>24800</td>\n",
       "      <td>92.21</td>\n",
       "      <td>-37.811777</td>\n",
       "      <td>144.956457</td>\n",
       "      <td>5</td>\n",
       "      <td>23652.21</td>\n",
       "      <td>Summer</td>\n",
       "      <td>True</td>\n",
       "      <td>1.3621</td>\n",
       "      <td>four stars the item is working fine</td>\n",
       "      <td>True</td>\n",
       "    </tr>\n",
       "    <tr>\n",
       "      <th>4</th>\n",
       "      <td>ORD152435</td>\n",
       "      <td>ID6167279402</td>\n",
       "      <td>2019-20-04</td>\n",
       "      <td>Nickolson</td>\n",
       "      <td>[('Alcon 10', 2), ('Lucent 330S', 1), ('iStrea...</td>\n",
       "      <td>19280</td>\n",
       "      <td>51.61</td>\n",
       "      <td>-37.810368</td>\n",
       "      <td>144.960934</td>\n",
       "      <td>5</td>\n",
       "      <td>18367.61</td>\n",
       "      <td>Autumn</td>\n",
       "      <td>False</td>\n",
       "      <td>1.1887</td>\n",
       "      <td>don’t buy item arrived with cracked screen, no...</td>\n",
       "      <td>False</td>\n",
       "    </tr>\n",
       "  </tbody>\n",
       "</table>\n",
       "</div>"
      ],
      "text/plain": [
       "    order_id   customer_id        date nearest_warehouse  \\\n",
       "0  ORD405753  ID3202364313  2019-10-05          Thompson   \n",
       "1  ORD269977  ID0233274930  2019-03-01         Nickolson   \n",
       "2  ORD014605  ID0122705650  2019-05-23          Thompson   \n",
       "3  ORD101531  ID4520380504  2019-02-21          Thompson   \n",
       "4  ORD152435  ID6167279402  2019-20-04         Nickolson   \n",
       "\n",
       "                                       shopping_cart  order_price  \\\n",
       "0                [('Lucent 330S', 2), ('pearTV', 1)]         8770   \n",
       "1  [('pearTV', 1), ('Alcon 10', 2), ('Universe No...        31110   \n",
       "2  [('Universe Note', 1), ('Lucent 330S', 1), ('T...        14180   \n",
       "3            [('Universe Note', 2), ('Alcon 10', 2)]        24800   \n",
       "4  [('Alcon 10', 2), ('Lucent 330S', 1), ('iStrea...        19280   \n",
       "\n",
       "   delivery_charges  customer_lat  customer_long  coupon_discount  \\\n",
       "0            103.35    -37.815399     144.957489               25   \n",
       "1             82.52    -37.807989     144.975727               10   \n",
       "2             50.90    -37.821712     144.952560               15   \n",
       "3             92.21    -37.811777     144.956457                5   \n",
       "4             51.61    -37.810368     144.960934                5   \n",
       "\n",
       "   order_total  season  is_expedited_delivery  distance_to_nearest_warehouse  \\\n",
       "0      6680.85  Spring                   True                         0.9653   \n",
       "1     28081.52  Autumn                   True                         1.2996   \n",
       "2     12103.90  Autumn                   True                         1.1160   \n",
       "3     23652.21  Summer                   True                         1.3621   \n",
       "4     18367.61  Autumn                  False                         1.1887   \n",
       "\n",
       "                              latest_customer_review  is_happy_customer  \n",
       "0      awesome this is a great phone for it's price.               True  \n",
       "1                                               None               True  \n",
       "2            one star just don't buy you'll thank me              False  \n",
       "3                four stars the item is working fine               True  \n",
       "4  don’t buy item arrived with cracked screen, no...              False  "
      ]
     },
     "execution_count": 4,
     "metadata": {},
     "output_type": "execute_result"
    }
   ],
   "source": [
    "# display shape of the dirty_data\n",
    "print(dirty_data.shape)\n",
    "# first 5 rows of dirty_data\n",
    "dirty_data.head()"
   ]
  },
  {
   "cell_type": "code",
   "execution_count": 5,
   "metadata": {},
   "outputs": [
    {
     "name": "stdout",
     "output_type": "stream",
     "text": [
      "<class 'pandas.core.frame.DataFrame'>\n",
      "RangeIndex: 500 entries, 0 to 499\n",
      "Data columns (total 16 columns):\n",
      " #   Column                         Non-Null Count  Dtype  \n",
      "---  ------                         --------------  -----  \n",
      " 0   order_id                       500 non-null    object \n",
      " 1   customer_id                    500 non-null    object \n",
      " 2   date                           500 non-null    object \n",
      " 3   nearest_warehouse              500 non-null    object \n",
      " 4   shopping_cart                  500 non-null    object \n",
      " 5   order_price                    500 non-null    int64  \n",
      " 6   delivery_charges               500 non-null    float64\n",
      " 7   customer_lat                   500 non-null    float64\n",
      " 8   customer_long                  500 non-null    float64\n",
      " 9   coupon_discount                500 non-null    int64  \n",
      " 10  order_total                    500 non-null    float64\n",
      " 11  season                         500 non-null    object \n",
      " 12  is_expedited_delivery          500 non-null    bool   \n",
      " 13  distance_to_nearest_warehouse  500 non-null    float64\n",
      " 14  latest_customer_review         500 non-null    object \n",
      " 15  is_happy_customer              500 non-null    bool   \n",
      "dtypes: bool(2), float64(5), int64(2), object(7)\n",
      "memory usage: 55.8+ KB\n"
     ]
    }
   ],
   "source": [
    "# the data type and non-null counts for different columns in dirty_data\n",
    "dirty_data.info()"
   ]
  },
  {
   "cell_type": "markdown",
   "metadata": {},
   "source": [
    "#### The summary statistics of both the numerical and categorical columns of the dirty_data file have been shown below. We can observe some anomalies in the customer_lat and the customer_long columns by examining the minimum and maximum values. "
   ]
  },
  {
   "cell_type": "code",
   "execution_count": 6,
   "metadata": {},
   "outputs": [
    {
     "data": {
      "text/html": [
       "<div>\n",
       "<style scoped>\n",
       "    .dataframe tbody tr th:only-of-type {\n",
       "        vertical-align: middle;\n",
       "    }\n",
       "\n",
       "    .dataframe tbody tr th {\n",
       "        vertical-align: top;\n",
       "    }\n",
       "\n",
       "    .dataframe thead th {\n",
       "        text-align: right;\n",
       "    }\n",
       "</style>\n",
       "<table border=\"1\" class=\"dataframe\">\n",
       "  <thead>\n",
       "    <tr style=\"text-align: right;\">\n",
       "      <th></th>\n",
       "      <th>order_price</th>\n",
       "      <th>delivery_charges</th>\n",
       "      <th>customer_lat</th>\n",
       "      <th>customer_long</th>\n",
       "      <th>coupon_discount</th>\n",
       "      <th>order_total</th>\n",
       "      <th>distance_to_nearest_warehouse</th>\n",
       "    </tr>\n",
       "  </thead>\n",
       "  <tbody>\n",
       "    <tr>\n",
       "      <th>count</th>\n",
       "      <td>500.000000</td>\n",
       "      <td>500.000000</td>\n",
       "      <td>500.000000</td>\n",
       "      <td>500.000000</td>\n",
       "      <td>500.000000</td>\n",
       "      <td>500.000000</td>\n",
       "      <td>500.000000</td>\n",
       "    </tr>\n",
       "    <tr>\n",
       "      <th>mean</th>\n",
       "      <td>13477.980000</td>\n",
       "      <td>76.239040</td>\n",
       "      <td>-27.942212</td>\n",
       "      <td>135.097053</td>\n",
       "      <td>10.890000</td>\n",
       "      <td>12179.077300</td>\n",
       "      <td>1.072540</td>\n",
       "    </tr>\n",
       "    <tr>\n",
       "      <th>std</th>\n",
       "      <td>8005.040942</td>\n",
       "      <td>14.646582</td>\n",
       "      <td>41.353189</td>\n",
       "      <td>41.353238</td>\n",
       "      <td>8.438027</td>\n",
       "      <td>7186.359177</td>\n",
       "      <td>0.469844</td>\n",
       "    </tr>\n",
       "    <tr>\n",
       "      <th>min</th>\n",
       "      <td>730.000000</td>\n",
       "      <td>45.910000</td>\n",
       "      <td>-37.827738</td>\n",
       "      <td>-37.826018</td>\n",
       "      <td>0.000000</td>\n",
       "      <td>652.860000</td>\n",
       "      <td>0.046900</td>\n",
       "    </tr>\n",
       "    <tr>\n",
       "      <th>25%</th>\n",
       "      <td>7116.250000</td>\n",
       "      <td>65.645000</td>\n",
       "      <td>-37.818156</td>\n",
       "      <td>144.949317</td>\n",
       "      <td>5.000000</td>\n",
       "      <td>6271.225000</td>\n",
       "      <td>0.729525</td>\n",
       "    </tr>\n",
       "    <tr>\n",
       "      <th>50%</th>\n",
       "      <td>12497.500000</td>\n",
       "      <td>76.375000</td>\n",
       "      <td>-37.812058</td>\n",
       "      <td>144.963150</td>\n",
       "      <td>10.000000</td>\n",
       "      <td>11512.675000</td>\n",
       "      <td>1.057850</td>\n",
       "    </tr>\n",
       "    <tr>\n",
       "      <th>75%</th>\n",
       "      <td>18966.250000</td>\n",
       "      <td>83.432500</td>\n",
       "      <td>-37.805216</td>\n",
       "      <td>144.982361</td>\n",
       "      <td>15.000000</td>\n",
       "      <td>16654.932500</td>\n",
       "      <td>1.373925</td>\n",
       "    </tr>\n",
       "    <tr>\n",
       "      <th>max</th>\n",
       "      <td>43520.000000</td>\n",
       "      <td>111.910000</td>\n",
       "      <td>145.009558</td>\n",
       "      <td>145.015651</td>\n",
       "      <td>25.000000</td>\n",
       "      <td>37361.420000</td>\n",
       "      <td>2.781600</td>\n",
       "    </tr>\n",
       "  </tbody>\n",
       "</table>\n",
       "</div>"
      ],
      "text/plain": [
       "        order_price  delivery_charges  customer_lat  customer_long  \\\n",
       "count    500.000000        500.000000    500.000000     500.000000   \n",
       "mean   13477.980000         76.239040    -27.942212     135.097053   \n",
       "std     8005.040942         14.646582     41.353189      41.353238   \n",
       "min      730.000000         45.910000    -37.827738     -37.826018   \n",
       "25%     7116.250000         65.645000    -37.818156     144.949317   \n",
       "50%    12497.500000         76.375000    -37.812058     144.963150   \n",
       "75%    18966.250000         83.432500    -37.805216     144.982361   \n",
       "max    43520.000000        111.910000    145.009558     145.015651   \n",
       "\n",
       "       coupon_discount   order_total  distance_to_nearest_warehouse  \n",
       "count       500.000000    500.000000                     500.000000  \n",
       "mean         10.890000  12179.077300                       1.072540  \n",
       "std           8.438027   7186.359177                       0.469844  \n",
       "min           0.000000    652.860000                       0.046900  \n",
       "25%           5.000000   6271.225000                       0.729525  \n",
       "50%          10.000000  11512.675000                       1.057850  \n",
       "75%          15.000000  16654.932500                       1.373925  \n",
       "max          25.000000  37361.420000                       2.781600  "
      ]
     },
     "execution_count": 6,
     "metadata": {},
     "output_type": "execute_result"
    }
   ],
   "source": [
    "# summary stats for dirty data columns(numeric)\n",
    "dirty_data.describe()"
   ]
  },
  {
   "cell_type": "code",
   "execution_count": 7,
   "metadata": {},
   "outputs": [
    {
     "data": {
      "text/html": [
       "<div>\n",
       "<style scoped>\n",
       "    .dataframe tbody tr th:only-of-type {\n",
       "        vertical-align: middle;\n",
       "    }\n",
       "\n",
       "    .dataframe tbody tr th {\n",
       "        vertical-align: top;\n",
       "    }\n",
       "\n",
       "    .dataframe thead th {\n",
       "        text-align: right;\n",
       "    }\n",
       "</style>\n",
       "<table border=\"1\" class=\"dataframe\">\n",
       "  <thead>\n",
       "    <tr style=\"text-align: right;\">\n",
       "      <th></th>\n",
       "      <th>order_id</th>\n",
       "      <th>customer_id</th>\n",
       "      <th>date</th>\n",
       "      <th>nearest_warehouse</th>\n",
       "      <th>shopping_cart</th>\n",
       "      <th>season</th>\n",
       "      <th>latest_customer_review</th>\n",
       "    </tr>\n",
       "  </thead>\n",
       "  <tbody>\n",
       "    <tr>\n",
       "      <th>count</th>\n",
       "      <td>500</td>\n",
       "      <td>500</td>\n",
       "      <td>500</td>\n",
       "      <td>500</td>\n",
       "      <td>500</td>\n",
       "      <td>500</td>\n",
       "      <td>500</td>\n",
       "    </tr>\n",
       "    <tr>\n",
       "      <th>unique</th>\n",
       "      <td>500</td>\n",
       "      <td>491</td>\n",
       "      <td>290</td>\n",
       "      <td>6</td>\n",
       "      <td>469</td>\n",
       "      <td>8</td>\n",
       "      <td>500</td>\n",
       "    </tr>\n",
       "    <tr>\n",
       "      <th>top</th>\n",
       "      <td>ORD201065</td>\n",
       "      <td>ID0589398318</td>\n",
       "      <td>2019-12-01</td>\n",
       "      <td>Thompson</td>\n",
       "      <td>[('Candle Inferno', 1), ('iAssist Line', 2)]</td>\n",
       "      <td>Autumn</td>\n",
       "      <td>battery its not true 4000 mah ugly battery eve...</td>\n",
       "    </tr>\n",
       "    <tr>\n",
       "      <th>freq</th>\n",
       "      <td>1</td>\n",
       "      <td>2</td>\n",
       "      <td>5</td>\n",
       "      <td>187</td>\n",
       "      <td>4</td>\n",
       "      <td>126</td>\n",
       "      <td>1</td>\n",
       "    </tr>\n",
       "  </tbody>\n",
       "</table>\n",
       "</div>"
      ],
      "text/plain": [
       "         order_id   customer_id        date nearest_warehouse  \\\n",
       "count         500           500         500               500   \n",
       "unique        500           491         290                 6   \n",
       "top     ORD201065  ID0589398318  2019-12-01          Thompson   \n",
       "freq            1             2           5               187   \n",
       "\n",
       "                                       shopping_cart  season  \\\n",
       "count                                            500     500   \n",
       "unique                                           469       8   \n",
       "top     [('Candle Inferno', 1), ('iAssist Line', 2)]  Autumn   \n",
       "freq                                               4     126   \n",
       "\n",
       "                                   latest_customer_review  \n",
       "count                                                 500  \n",
       "unique                                                500  \n",
       "top     battery its not true 4000 mah ugly battery eve...  \n",
       "freq                                                    1  "
      ]
     },
     "execution_count": 7,
     "metadata": {},
     "output_type": "execute_result"
    }
   ],
   "source": [
    "# summary stats for dirty data columns(categorical)\n",
    "dirty_data.describe(include=['O'])"
   ]
  },
  {
   "cell_type": "markdown",
   "metadata": {},
   "source": [
    "#### We check the unique values in each column of the dirty_data. We observe that there are 8 unique calues in the season column and 6 unique values in the nearest_warehouse column. This is an anomaly since the number of seasons is 4 and there are only 3 warehouses."
   ]
  },
  {
   "cell_type": "code",
   "execution_count": 8,
   "metadata": {},
   "outputs": [
    {
     "data": {
      "text/plain": [
       "order_id                         500\n",
       "customer_id                      491\n",
       "date                             290\n",
       "nearest_warehouse                  6\n",
       "shopping_cart                    469\n",
       "order_price                      383\n",
       "delivery_charges                 464\n",
       "customer_lat                     491\n",
       "customer_long                    491\n",
       "coupon_discount                    5\n",
       "order_total                      475\n",
       "season                             8\n",
       "is_expedited_delivery              2\n",
       "distance_to_nearest_warehouse    464\n",
       "latest_customer_review           500\n",
       "is_happy_customer                  2\n",
       "dtype: int64"
      ]
     },
     "execution_count": 8,
     "metadata": {},
     "output_type": "execute_result"
    }
   ],
   "source": [
    "# unique values in different columns of dirty data\n",
    "dirty_data.nunique(axis=0)"
   ]
  },
  {
   "cell_type": "markdown",
   "metadata": {},
   "source": [
    "## 4. Fixing the anomalies in dirty_data."
   ]
  },
  {
   "cell_type": "markdown",
   "metadata": {},
   "source": [
    "#### On checking the unique values and their counts in the season column of dirty_data we see that some of the seasons start with small letters while most of them start with capitals. Therefore we fix this anomaly in the next few steps."
   ]
  },
  {
   "cell_type": "code",
   "execution_count": 9,
   "metadata": {
    "scrolled": true
   },
   "outputs": [
    {
     "data": {
      "text/plain": [
       "Autumn    126\n",
       "Winter    125\n",
       "Summer    116\n",
       "Spring    115\n",
       "spring      6\n",
       "winter      5\n",
       "autumn      4\n",
       "summer      3\n",
       "Name: season, dtype: int64"
      ]
     },
     "execution_count": 9,
     "metadata": {},
     "output_type": "execute_result"
    }
   ],
   "source": [
    "# count of different values in season column of dirty data\n",
    "dirty_data.season.value_counts()"
   ]
  },
  {
   "cell_type": "markdown",
   "metadata": {},
   "source": [
    "#### We store the indexes of the rows with anomalies so that we don't have to go through them again since there is only one anomaly per row of the dataset. We use the replace function to replace the incorrect season names with the correct ones."
   ]
  },
  {
   "cell_type": "code",
   "execution_count": 10,
   "metadata": {
    "scrolled": true
   },
   "outputs": [],
   "source": [
    "# index of season column containing values 'spring', 'autumn', 'winter', 'summer'\n",
    "idx = dirty_data.index[dirty_data['season'].isin({'spring', 'autumn', 'winter', 'summer'})].tolist()\n",
    "# replacing the dirty values\n",
    "dirty_data.season.replace({'spring':'Spring', 'autumn':'Autumn', 'winter':'Winter', 'summer':'Summer'}, inplace=True)"
   ]
  },
  {
   "cell_type": "markdown",
   "metadata": {},
   "source": [
    "#### On checking the unique values and their counts in the nearest_warehouse column of dirty_data we see that some of the warehouse names start with small letters while most of them start with capitals. Therefore we fix this anomaly in the next few steps."
   ]
  },
  {
   "cell_type": "code",
   "execution_count": 11,
   "metadata": {
    "scrolled": true
   },
   "outputs": [
    {
     "data": {
      "text/plain": [
       "Thompson     187\n",
       "Nickolson    173\n",
       "Bakers       121\n",
       "bakers        10\n",
       "thompson       6\n",
       "nickolson      3\n",
       "Name: nearest_warehouse, dtype: int64"
      ]
     },
     "execution_count": 11,
     "metadata": {},
     "output_type": "execute_result"
    }
   ],
   "source": [
    "# count of different values in nearest_warehouse column\n",
    "dirty_data.nearest_warehouse.value_counts()"
   ]
  },
  {
   "cell_type": "markdown",
   "metadata": {},
   "source": [
    "#### We store the indexes of the rows with anomalies so that we don't have to go through them again since there is only one anomaly per row of the dataset. We use the replace function to replace the incorrect warehouse names with the correct ones."
   ]
  },
  {
   "cell_type": "code",
   "execution_count": 12,
   "metadata": {},
   "outputs": [],
   "source": [
    "# extending the index list\n",
    "idx.extend(dirty_data.index[dirty_data['nearest_warehouse'].isin({'thompson', 'bakers', 'nickolson'})].tolist())\n",
    "# replacing the dirty values\n",
    "dirty_data.nearest_warehouse.replace({'thompson':'Thompson', 'bakers':'Bakers', 'nickolson':'Nickolson'}, inplace=True)"
   ]
  },
  {
   "cell_type": "markdown",
   "metadata": {},
   "source": [
    "#### Again we store the indexes of the rows with anomalies so that we don't have to go through them again. We swap the longtitude and latitude columns where we find the customer_lat value to be greater than 0 since all the values in customer_lat are less than 0. "
   ]
  },
  {
   "cell_type": "code",
   "execution_count": 13,
   "metadata": {},
   "outputs": [],
   "source": [
    "# extending the index list\n",
    "idx.extend(dirty_data.index[dirty_data['customer_lat'] > 0].tolist())\n",
    "# boolean mask for customer_lat > 0\n",
    "mask = dirty_data['customer_lat'] > 0\n",
    "# swapping the latitude and longtide values in mask location\n",
    "dirty_data.loc[mask, ['customer_lat', 'customer_long']] = (dirty_data.loc[mask, ['customer_long', 'customer_lat']].values)"
   ]
  },
  {
   "cell_type": "markdown",
   "metadata": {},
   "source": [
    "#### Defining the dirty_date function to fix the incorrect dates in the dirty_data. Since the date is in yyyy-mm-dd format we split the string with '-' and check if the first value is less than a dummy value of 999 and swap it with the third value if it is. Next we check if the second value is greater than 12 since there are only 12 months and if it is we swap it with the third value."
   ]
  },
  {
   "cell_type": "code",
   "execution_count": 14,
   "metadata": {
    "scrolled": true
   },
   "outputs": [],
   "source": [
    "# cleans dates\n",
    "def dirty_date(date):\n",
    "    # splits dates on -\n",
    "    item = date.split('-')\n",
    "    # first val should be yyyy\n",
    "    if int(item[1]) <= 999:\n",
    "        clean_date = item[2] + '-' + item[1] + '-' + item[0]\n",
    "        return clean_date\n",
    "    # if mm>12 swap by dd\n",
    "    elif int(item[1]) > 12:\n",
    "        clean_date = item[0] + '-' + item[2] + '-' + item[1]\n",
    "        return clean_date"
   ]
  },
  {
   "cell_type": "markdown",
   "metadata": {},
   "source": [
    "#### Defining the dirty_season function to fix the season column. We split the date and check if the second value(mm) is within the conditions specified below and return the corresponding season."
   ]
  },
  {
   "cell_type": "code",
   "execution_count": 15,
   "metadata": {},
   "outputs": [],
   "source": [
    "# cleans the season column\n",
    "def dirty_season(date):\n",
    "    item = date.split('-')\n",
    "    month = int(item[1])\n",
    "    # the extracted month is used to deterine the season\n",
    "    if 9 <= month <= 11:\n",
    "        return 'Spring'\n",
    "    elif 3 <= month <= 5:\n",
    "        return 'Autumn'\n",
    "    elif 6 <= month <= 8:\n",
    "        return 'Winter'\n",
    "    else:\n",
    "        return 'Summer'"
   ]
  },
  {
   "cell_type": "markdown",
   "metadata": {},
   "source": [
    "#### Here we make a list of the items in the shopping_cart which will later be used to make a linear model and correct the anomalies in the shopping_cart column."
   ]
  },
  {
   "cell_type": "code",
   "execution_count": 16,
   "metadata": {},
   "outputs": [],
   "source": [
    "# unique items in shopping cart\n",
    "cart_items = []\n",
    "# eval() converts the format from string to a list of tuples\n",
    "for cart in outlier_data.shopping_cart:\n",
    "    for item in eval(cart):\n",
    "        cart_items.append(item[0])\n",
    "# making a set and then converting to list of cart items        \n",
    "cart_items = list(set(cart_items))"
   ]
  },
  {
   "cell_type": "markdown",
   "metadata": {},
   "source": [
    "#### We make a matrix of the coefficients of items in the shopping_cart in the outlier_data to make a linear model. If the item is in the cart then it is given the value of its quantity in the cart else it is assigned the value of 0. Since therer are 10 unknown variables i.e the price of items in the shopping_cart, we make a 10x10 matrix to be used for the linalg.solve function in the numpy library."
   ]
  },
  {
   "cell_type": "code",
   "execution_count": 17,
   "metadata": {},
   "outputs": [],
   "source": [
    "# a coefficient quantity matrix\n",
    "quantity_matrix = np.zeros((10,10), dtype=int)\n",
    "j = 0\n",
    "for cart in outlier_data.shopping_cart:\n",
    "    for item in eval(cart):\n",
    "        # stores item quantity in the index of item in cart_items\n",
    "        quantity_matrix[j][cart_items.index(item[0])] = item[1]\n",
    "    # since we have only 10 unknowns we need only 10x10 matrix\n",
    "    if j == 9:\n",
    "        break\n",
    "    j = j + 1"
   ]
  },
  {
   "cell_type": "markdown",
   "metadata": {},
   "source": [
    "#### We store the total cost of the corresponding cart items in an array which is then passed on to the linalg.solve function along with the quantity_matrix. This calculated the price of each unique item in the cart which is stored as a list."
   ]
  },
  {
   "cell_type": "code",
   "execution_count": 18,
   "metadata": {},
   "outputs": [],
   "source": [
    "# order price of the first 10 rows\n",
    "total_cost = np.array(outlier_data.order_price[0:10], dtype=int)\n",
    "# calculates the cost of items in cart_items\n",
    "item_price = list(np.linalg.solve(quantity_matrix, total_cost).round().astype(int))"
   ]
  },
  {
   "cell_type": "markdown",
   "metadata": {},
   "source": [
    "#### A peek in to the warehouses from the file warehouse.csv"
   ]
  },
  {
   "cell_type": "code",
   "execution_count": 19,
   "metadata": {},
   "outputs": [
    {
     "data": {
      "text/html": [
       "<div>\n",
       "<style scoped>\n",
       "    .dataframe tbody tr th:only-of-type {\n",
       "        vertical-align: middle;\n",
       "    }\n",
       "\n",
       "    .dataframe tbody tr th {\n",
       "        vertical-align: top;\n",
       "    }\n",
       "\n",
       "    .dataframe thead th {\n",
       "        text-align: right;\n",
       "    }\n",
       "</style>\n",
       "<table border=\"1\" class=\"dataframe\">\n",
       "  <thead>\n",
       "    <tr style=\"text-align: right;\">\n",
       "      <th></th>\n",
       "      <th>names</th>\n",
       "      <th>lat</th>\n",
       "      <th>lon</th>\n",
       "    </tr>\n",
       "  </thead>\n",
       "  <tbody>\n",
       "    <tr>\n",
       "      <th>0</th>\n",
       "      <td>Nickolson</td>\n",
       "      <td>-37.818595</td>\n",
       "      <td>144.969551</td>\n",
       "    </tr>\n",
       "    <tr>\n",
       "      <th>1</th>\n",
       "      <td>Thompson</td>\n",
       "      <td>-37.812673</td>\n",
       "      <td>144.947069</td>\n",
       "    </tr>\n",
       "    <tr>\n",
       "      <th>2</th>\n",
       "      <td>Bakers</td>\n",
       "      <td>-37.809996</td>\n",
       "      <td>144.995232</td>\n",
       "    </tr>\n",
       "  </tbody>\n",
       "</table>\n",
       "</div>"
      ],
      "text/plain": [
       "       names        lat         lon\n",
       "0  Nickolson -37.818595  144.969551\n",
       "1   Thompson -37.812673  144.947069\n",
       "2     Bakers -37.809996  144.995232"
      ]
     },
     "execution_count": 19,
     "metadata": {},
     "output_type": "execute_result"
    }
   ],
   "source": [
    "warehouse.head()"
   ]
  },
  {
   "cell_type": "markdown",
   "metadata": {},
   "source": [
    "#### Defining the arc_dist function which calculates the Haversine Distance between a pair of latitude and longitudes. Here the radius of the earth is 6378km."
   ]
  },
  {
   "cell_type": "code",
   "execution_count": 20,
   "metadata": {},
   "outputs": [],
   "source": [
    "# https://towardsdatascience.com/heres-how-to-calculate-distance-between-2-geolocations-in-python-93ecab5bbba4\n",
    "# calculates the Haversine Distance\n",
    "def arc_dist(lat1, lon1, lat2, lon2):\n",
    "    r = 6378\n",
    "    phi1 = np.radians(lat1)\n",
    "    phi2 = np.radians(lat2)\n",
    "    delta_phi = np.radians(lat2 - lat1)\n",
    "    delta_lambda = np.radians(lon2 - lon1)\n",
    "    a = np.sin(delta_phi/2)**2 + np.cos(phi1) * np.cos(phi2) * np.sin(delta_lambda/2)**2\n",
    "    res = r * (2 * np.arctan2(np.sqrt(a), np.sqrt(1 - a)))\n",
    "    return np.round(res, 4)"
   ]
  },
  {
   "cell_type": "markdown",
   "metadata": {},
   "source": [
    "#### The dirty_dist function returns a list of distances of the various warehouses with respect to the passed latitude and longitude parameters."
   ]
  },
  {
   "cell_type": "code",
   "execution_count": 21,
   "metadata": {},
   "outputs": [],
   "source": [
    "# cleans the distance_to_nearest warehouse column\n",
    "def dirty_dist(lat_cus, long_cus):\n",
    "    # to store distance to different warehouses\n",
    "    dist = []\n",
    "    for j in range(len(warehouse)):\n",
    "        lat_war = warehouse.lat[j]\n",
    "        long_war = warehouse.lon[j]\n",
    "        # call the arc_dist function\n",
    "        dist.append(arc_dist(lat_cus, long_cus, lat_war, long_war))\n",
    "    return dist"
   ]
  },
  {
   "cell_type": "markdown",
   "metadata": {},
   "source": [
    "#### The dirty_cart function checks which item in the cart is incorrect and then returns the correct item. This is done by first calculating the price, quantity and total of each item. Then, the equation x=(c-by)/a is used to calculate the price of the item and if the price is in the list of item_price calculated above, we pass the index of the price in cart_items to get the item else we continue the loop."
   ]
  },
  {
   "cell_type": "code",
   "execution_count": 22,
   "metadata": {},
   "outputs": [],
   "source": [
    "# cleans the shopping _cart column\n",
    "def dirty_cart(cart, cart_total):\n",
    "    # price of the item\n",
    "    p = []\n",
    "    # quantity of the item\n",
    "    q = []\n",
    "    # total price per item\n",
    "    t = []\n",
    "    # storing the defined values in the lists\n",
    "    for i in range(len(cart)):\n",
    "        p.append(item_price[cart_items.index(cart[i][0])])\n",
    "        q.append(cart[i][1])\n",
    "        t.append(p[i] * q[i])\n",
    "    # counter\n",
    "    c = 0\n",
    "    # checks if cart_total - the total cost of items + cost of item(to be cleaned)/quantity of item(to be cleaned)\n",
    "    # is in the item_price list\n",
    "    # if it is then return item name from the cart_items and index of tuple in cart\n",
    "    for i in range(len(t)):\n",
    "        dummy = cart_total - sum(t) + t[c]\n",
    "        price = int(dummy/q[c])\n",
    "        if price in item_price:\n",
    "            item = cart_items[item_price.index(price)]\n",
    "            break\n",
    "        c += 1\n",
    "    # modifying the shopping_cart tuple list\n",
    "    cart[c] = list(cart[c])\n",
    "    cart[c][0] = item\n",
    "    cart[c] = tuple(cart[c])\n",
    "    # returning the modified tuple list\n",
    "    return str(cart)"
   ]
  },
  {
   "cell_type": "markdown",
   "metadata": {},
   "source": [
    "#### This is the main loop which runs through all the rows of the dirty_data to find the anomalies and correct them using the functions defined above. This loop runs only for the indexes which are not in the idx list since there can be only one anomaly per row.  First, we calculate the new_price which is essentially the total price of items in the cart using the quantity matrix and item_price passed to the linalg.solve function. Then, we go on to calculate the cor_total which is essentially the order_price - discount + delivery_charges. Next we calculate the new_total which is essentially the new_price - discount + delivery_charges. We call the dirty_date and dirty_season funcions to fix the date and season columns. Also the dirty_dist function is called which returns a list of distances and if the min(dist) is not equal to the distance_to_nearest_warehouse or the name of nearest_warehouse is incorrect we fix it. Next we fix the issue of pricing and items in cart keeping in mind that there is only one anomaly per row. Here, we use the new_price, cor_total and new_total to determine which column needs to be fixed. Next we check the customer_review column and if it has None we push the value to the column is_happy_customer. We calculate the compound polarity scores and if it is greater than 0.05 we push the value True and otherwise False. "
   ]
  },
  {
   "cell_type": "code",
   "execution_count": 23,
   "metadata": {
    "scrolled": true
   },
   "outputs": [
    {
     "name": "stderr",
     "output_type": "stream",
     "text": [
      "D:\\Anaconda\\lib\\site-packages\\ipykernel_launcher.py:20: SettingWithCopyWarning: \n",
      "A value is trying to be set on a copy of a slice from a DataFrame\n",
      "\n",
      "See the caveats in the documentation: https://pandas.pydata.org/pandas-docs/stable/user_guide/indexing.html#returning-a-view-versus-a-copy\n",
      "D:\\Anaconda\\lib\\site-packages\\ipykernel_launcher.py:22: SettingWithCopyWarning: \n",
      "A value is trying to be set on a copy of a slice from a DataFrame\n",
      "\n",
      "See the caveats in the documentation: https://pandas.pydata.org/pandas-docs/stable/user_guide/indexing.html#returning-a-view-versus-a-copy\n",
      "D:\\Anaconda\\lib\\site-packages\\ipykernel_launcher.py:56: SettingWithCopyWarning: \n",
      "A value is trying to be set on a copy of a slice from a DataFrame\n",
      "\n",
      "See the caveats in the documentation: https://pandas.pydata.org/pandas-docs/stable/user_guide/indexing.html#returning-a-view-versus-a-copy\n",
      "D:\\Anaconda\\lib\\site-packages\\ipykernel_launcher.py:50: SettingWithCopyWarning: \n",
      "A value is trying to be set on a copy of a slice from a DataFrame\n",
      "\n",
      "See the caveats in the documentation: https://pandas.pydata.org/pandas-docs/stable/user_guide/indexing.html#returning-a-view-versus-a-copy\n",
      "D:\\Anaconda\\lib\\site-packages\\ipykernel_launcher.py:32: SettingWithCopyWarning: \n",
      "A value is trying to be set on a copy of a slice from a DataFrame\n",
      "\n",
      "See the caveats in the documentation: https://pandas.pydata.org/pandas-docs/stable/user_guide/indexing.html#returning-a-view-versus-a-copy\n",
      "D:\\Anaconda\\lib\\site-packages\\ipykernel_launcher.py:34: SettingWithCopyWarning: \n",
      "A value is trying to be set on a copy of a slice from a DataFrame\n",
      "\n",
      "See the caveats in the documentation: https://pandas.pydata.org/pandas-docs/stable/user_guide/indexing.html#returning-a-view-versus-a-copy\n",
      "D:\\Anaconda\\lib\\site-packages\\ipykernel_launcher.py:38: SettingWithCopyWarning: \n",
      "A value is trying to be set on a copy of a slice from a DataFrame\n",
      "\n",
      "See the caveats in the documentation: https://pandas.pydata.org/pandas-docs/stable/user_guide/indexing.html#returning-a-view-versus-a-copy\n",
      "D:\\Anaconda\\lib\\site-packages\\ipykernel_launcher.py:46: SettingWithCopyWarning: \n",
      "A value is trying to be set on a copy of a slice from a DataFrame\n",
      "\n",
      "See the caveats in the documentation: https://pandas.pydata.org/pandas-docs/stable/user_guide/indexing.html#returning-a-view-versus-a-copy\n",
      "D:\\Anaconda\\lib\\site-packages\\ipykernel_launcher.py:42: SettingWithCopyWarning: \n",
      "A value is trying to be set on a copy of a slice from a DataFrame\n",
      "\n",
      "See the caveats in the documentation: https://pandas.pydata.org/pandas-docs/stable/user_guide/indexing.html#returning-a-view-versus-a-copy\n"
     ]
    }
   ],
   "source": [
    "# rows in dirty_data\n",
    "for i in range(len(dirty_data)):\n",
    "    # skip if row is already modified\n",
    "    if i in idx:\n",
    "        continue\n",
    "    \n",
    "    else:\n",
    "        # quantity vector\n",
    "        q_mat = [0]*10\n",
    "        for item in eval(dirty_data.shopping_cart[i]):\n",
    "            q_mat[cart_items.index(item[0])] = item[1]\n",
    "        # price calculated as per shopping _cart    \n",
    "        new_price = np.dot(q_mat, item_price)\n",
    "        # order_price(1-d/100) + delivery_charge\n",
    "        cor_total = dirty_data.order_price[i]*(1 - dirty_data.coupon_discount[i]/100) + dirty_data.delivery_charges[i]\n",
    "        # new_price(1-d/100) + delivery_charge\n",
    "        new_total = new_price*(1 - dirty_data.coupon_discount[i]/100) + dirty_data.delivery_charges[i]\n",
    "        \n",
    "        # cleaning date\n",
    "        dirty_data.date[i] = dirty_date(dirty_data.date[i])\n",
    "        # cleaning season\n",
    "        dirty_data.season[i] = dirty_season(dirty_data.date[i])\n",
    "        \n",
    "        # calling dirty_dist\n",
    "        dist = dirty_dist(dirty_data.customer_lat[i], dirty_data.customer_long[i])\n",
    "        # shortest distance\n",
    "        min_dist = min(dist)\n",
    "        \n",
    "        # if anomaly in distance or name of nearest warehouse\n",
    "        if (dirty_data.distance_to_nearest_warehouse[i] != min_dist) | (dirty_data.nearest_warehouse[i] != warehouse.names[dist.index(min_dist)]):\n",
    "            # replace by shortest distance\n",
    "            dirty_data.distance_to_nearest_warehouse[i] = min_dist\n",
    "            # replace by name of nearest warehouse\n",
    "            dirty_data.nearest_warehouse[i] = warehouse.names[dist.index(min_dist)]\n",
    "        \n",
    "        # if anomaly in order_total\n",
    "        elif (dirty_data.order_price[i] == new_price) & (dirty_data.order_total[i] != cor_total):\n",
    "            dirty_data.order_total[i] = cor_total\n",
    "        \n",
    "        # if anomaly in order_price\n",
    "        elif (dirty_data.order_price[i] != new_price) & (dirty_data.order_total[i] == new_total):\n",
    "            dirty_data.order_price[i] = new_price\n",
    "           \n",
    "        # if anomaly in shopping_cart\n",
    "        elif (dirty_data.order_price[i] != new_price) & (dirty_data.order_total[i] == cor_total):\n",
    "            dirty_data.shopping_cart[i] = dirty_cart(eval(dirty_data.shopping_cart[i]), dirty_data.order_price[i])\n",
    "        \n",
    "        # if anomaly in is_happy_customer\n",
    "        elif dirty_data.latest_customer_review[i] == 'None':\n",
    "            dirty_data.is_happy_customer[i] = True\n",
    "            \n",
    "        # if no anomaly in the above check if there is anomaly in is_happy_customer\n",
    "        else:\n",
    "            sid = SentimentIntensityAnalyzer()\n",
    "            # if compound polarity score > 0.05 customer is happy\n",
    "            dirty_data.is_happy_customer[i] = (True if sid.polarity_scores(dirty_data.latest_customer_review[i])['compound'] >= 0.05 else False)   "
   ]
  },
  {
   "cell_type": "code",
   "execution_count": 24,
   "metadata": {},
   "outputs": [],
   "source": [
    "# write to csv\n",
    "dirty_data.to_csv('30830192_dirty_data_solution.csv', index=False)"
   ]
  },
  {
   "cell_type": "markdown",
   "metadata": {},
   "source": [
    "#### Finally the anomalies in the dirty_data are fixed."
   ]
  },
  {
   "cell_type": "markdown",
   "metadata": {},
   "source": [
    "## 5. Removing the outliers in otlier_data w.r.t to the delivery_charges."
   ]
  },
  {
   "cell_type": "markdown",
   "metadata": {},
   "source": [
    "#### Boxplot of the column delivery_charges vs seasons. "
   ]
  },
  {
   "cell_type": "code",
   "execution_count": 25,
   "metadata": {
    "scrolled": false
   },
   "outputs": [
    {
     "data": {
      "image/png": "[encoded data removed]",
      "text/plain": [
       "<Figure size 576x576 with 1 Axes>"
      ]
     },
     "metadata": {
      "needs_background": "light"
     },
     "output_type": "display_data"
    }
   ],
   "source": [
    "plt.figure(figsize=(8, 8))\n",
    "# boxplot of delivery_charge vs seasons\n",
    "ax = sns.boxplot(y=\"delivery_charges\", x=\"season\", data=outlier_data)"
   ]
  },
  {
   "cell_type": "markdown",
   "metadata": {},
   "source": [
    "#### Since delivery_charges are calculated with repect to a model which depends linearly on the attributes: coupon_discount, delivery_charges, the ordered quantity values in the shopping_cart attribute for different seasons. We can say that the delivery_cahrges for a particular season follow the same distribution. We can use this information to remove the outliers from the outlier_data."
   ]
  },
  {
   "cell_type": "code",
   "execution_count": 26,
   "metadata": {},
   "outputs": [
    {
     "name": "stderr",
     "output_type": "stream",
     "text": [
      "D:\\Anaconda\\lib\\site-packages\\ipykernel_launcher.py:14: UserWarning: Boolean Series key will be reindexed to match DataFrame index.\n",
      "  \n"
     ]
    }
   ],
   "source": [
    "# indexes to be dropped\n",
    "idx = []\n",
    "# calcluating q1, q3 and iqr to remove outliers based on season delivery charge\n",
    "for seas in outlier_data.season.unique():\n",
    "    # defining season mask\n",
    "    mask = outlier_data['season'] == seas\n",
    "    # lower quartile\n",
    "    q1 = outlier_data.delivery_charges[mask].quantile(0.25)\n",
    "    # upper quartile\n",
    "    q3 = outlier_data.delivery_charges[mask].quantile(0.75)\n",
    "    # inter-quartile range\n",
    "    iqr = q3 - q1\n",
    "    # extending the idx list if the entry is an outlier\n",
    "    idx.extend(outlier_data[(outlier_data['delivery_charges'] < (q1-1.5*iqr)) | (outlier_data['delivery_charges'] > (q3+1.5*iqr))][mask].index.values)"
   ]
  },
  {
   "cell_type": "markdown",
   "metadata": {},
   "source": [
    "#### We store the index of the rows containing the outliers in a list idx. We use the limit (q1-1.5 x iqr, q3+1.5 x iqr) to remove the outliers. Next we drop these indexes from the outlier_data. "
   ]
  },
  {
   "cell_type": "code",
   "execution_count": 27,
   "metadata": {},
   "outputs": [],
   "source": [
    "# dropping the indexes with outliers\n",
    "outlier_data = outlier_data.drop(idx)"
   ]
  },
  {
   "cell_type": "markdown",
   "metadata": {},
   "source": [
    "#### We observe that the outliers have been removed from the data."
   ]
  },
  {
   "cell_type": "code",
   "execution_count": 28,
   "metadata": {},
   "outputs": [
    {
     "data": {
      "image/png": "[encoded data removed]",
      "text/plain": [
       "<Figure size 576x576 with 1 Axes>"
      ]
     },
     "metadata": {
      "needs_background": "light"
     },
     "output_type": "display_data"
    }
   ],
   "source": [
    "plt.figure(figsize=(8, 8))\n",
    "# boxplot of the cleaned data\n",
    "ax = sns.boxplot(y=\"delivery_charges\", x=\"season\", data=outlier_data)"
   ]
  },
  {
   "cell_type": "code",
   "execution_count": 29,
   "metadata": {},
   "outputs": [],
   "source": [
    "# write to csv\n",
    "outlier_data.to_csv('30830192_outlier_data_solution.csv', index=False)"
   ]
  },
  {
   "cell_type": "markdown",
   "metadata": {},
   "source": [
    "## 6. Imputing missing values in the missing_data."
   ]
  },
  {
   "cell_type": "markdown",
   "metadata": {},
   "source": [
    "#### The count for missing values in each column have been displayed below. The columns nearest_warehouse, order_price, order_total, delivery_charges, order_total, distance_to_nearest_warehouse and is_happy_customer have null values. These can be fixed using the dirty_data functions defined in task 1."
   ]
  },
  {
   "cell_type": "code",
   "execution_count": 30,
   "metadata": {},
   "outputs": [
    {
     "data": {
      "text/plain": [
       "order_id                          0\n",
       "customer_id                       0\n",
       "date                              0\n",
       "nearest_warehouse                55\n",
       "shopping_cart                     0\n",
       "order_price                      15\n",
       "delivery_charges                 40\n",
       "customer_lat                      0\n",
       "customer_long                     0\n",
       "coupon_discount                   0\n",
       "order_total                      15\n",
       "season                            0\n",
       "is_expedited_delivery             0\n",
       "distance_to_nearest_warehouse    31\n",
       "latest_customer_review            0\n",
       "is_happy_customer                40\n",
       "dtype: int64"
      ]
     },
     "execution_count": 30,
     "metadata": {},
     "output_type": "execute_result"
    }
   ],
   "source": [
    "# count of null values in columns\n",
    "missing_data.isnull().sum()"
   ]
  },
  {
   "cell_type": "markdown",
   "metadata": {},
   "source": [
    "#### A peek into missing_data."
   ]
  },
  {
   "cell_type": "code",
   "execution_count": 31,
   "metadata": {
    "scrolled": true
   },
   "outputs": [
    {
     "data": {
      "text/html": [
       "<div>\n",
       "<style scoped>\n",
       "    .dataframe tbody tr th:only-of-type {\n",
       "        vertical-align: middle;\n",
       "    }\n",
       "\n",
       "    .dataframe tbody tr th {\n",
       "        vertical-align: top;\n",
       "    }\n",
       "\n",
       "    .dataframe thead th {\n",
       "        text-align: right;\n",
       "    }\n",
       "</style>\n",
       "<table border=\"1\" class=\"dataframe\">\n",
       "  <thead>\n",
       "    <tr style=\"text-align: right;\">\n",
       "      <th></th>\n",
       "      <th>order_id</th>\n",
       "      <th>customer_id</th>\n",
       "      <th>date</th>\n",
       "      <th>nearest_warehouse</th>\n",
       "      <th>shopping_cart</th>\n",
       "      <th>order_price</th>\n",
       "      <th>delivery_charges</th>\n",
       "      <th>customer_lat</th>\n",
       "      <th>customer_long</th>\n",
       "      <th>coupon_discount</th>\n",
       "      <th>order_total</th>\n",
       "      <th>season</th>\n",
       "      <th>is_expedited_delivery</th>\n",
       "      <th>distance_to_nearest_warehouse</th>\n",
       "      <th>latest_customer_review</th>\n",
       "      <th>is_happy_customer</th>\n",
       "    </tr>\n",
       "  </thead>\n",
       "  <tbody>\n",
       "    <tr>\n",
       "      <th>0</th>\n",
       "      <td>ORD425890</td>\n",
       "      <td>ID0702376794</td>\n",
       "      <td>2019-08-12</td>\n",
       "      <td>Thompson</td>\n",
       "      <td>[('Olivia x460', 2), ('iAssist Line', 1), ('Un...</td>\n",
       "      <td>8125.0</td>\n",
       "      <td>77.17</td>\n",
       "      <td>-37.808200</td>\n",
       "      <td>144.939850</td>\n",
       "      <td>5</td>\n",
       "      <td>7795.92</td>\n",
       "      <td>Winter</td>\n",
       "      <td>True</td>\n",
       "      <td>0.8069</td>\n",
       "      <td>great phone and amazing value!!! love all the ...</td>\n",
       "      <td>1.0</td>\n",
       "    </tr>\n",
       "    <tr>\n",
       "      <th>1</th>\n",
       "      <td>ORD359404</td>\n",
       "      <td>ID0723959155</td>\n",
       "      <td>2019-09-27</td>\n",
       "      <td>Bakers</td>\n",
       "      <td>[('Lucent 330S', 1), ('Candle Inferno', 1), ('...</td>\n",
       "      <td>8160.0</td>\n",
       "      <td>79.65</td>\n",
       "      <td>-37.802345</td>\n",
       "      <td>145.004816</td>\n",
       "      <td>15</td>\n",
       "      <td>7015.65</td>\n",
       "      <td>Spring</td>\n",
       "      <td>False</td>\n",
       "      <td>1.1983</td>\n",
       "      <td>very good deal this phone is in good condition...</td>\n",
       "      <td>NaN</td>\n",
       "    </tr>\n",
       "    <tr>\n",
       "      <th>2</th>\n",
       "      <td>ORD480713</td>\n",
       "      <td>ID2174963236</td>\n",
       "      <td>2019-04-16</td>\n",
       "      <td>Thompson</td>\n",
       "      <td>[('Toshika 750', 1), ('iStream', 2)]</td>\n",
       "      <td>4620.0</td>\n",
       "      <td>79.47</td>\n",
       "      <td>-37.819216</td>\n",
       "      <td>144.954201</td>\n",
       "      <td>0</td>\n",
       "      <td>4699.47</td>\n",
       "      <td>Autumn</td>\n",
       "      <td>True</td>\n",
       "      <td>0.9612</td>\n",
       "      <td>practical, economical, and best features! love...</td>\n",
       "      <td>1.0</td>\n",
       "    </tr>\n",
       "    <tr>\n",
       "      <th>3</th>\n",
       "      <td>ORD335746</td>\n",
       "      <td>ID0060653725</td>\n",
       "      <td>2019-04-14</td>\n",
       "      <td>Thompson</td>\n",
       "      <td>[('Candle Inferno', 2), ('Toshika 750', 2)]</td>\n",
       "      <td>9500.0</td>\n",
       "      <td>64.70</td>\n",
       "      <td>-37.812870</td>\n",
       "      <td>144.942999</td>\n",
       "      <td>0</td>\n",
       "      <td>9564.70</td>\n",
       "      <td>Autumn</td>\n",
       "      <td>False</td>\n",
       "      <td>0.3586</td>\n",
       "      <td>recomiendo la compra el redmi funciona perfect...</td>\n",
       "      <td>1.0</td>\n",
       "    </tr>\n",
       "    <tr>\n",
       "      <th>4</th>\n",
       "      <td>ORD456583</td>\n",
       "      <td>ID0267318384</td>\n",
       "      <td>2019-10-18</td>\n",
       "      <td>Nickolson</td>\n",
       "      <td>[('Universe Note', 2), ('Olivia x460', 2), ('p...</td>\n",
       "      <td>26420.0</td>\n",
       "      <td>89.11</td>\n",
       "      <td>-37.824604</td>\n",
       "      <td>144.958342</td>\n",
       "      <td>0</td>\n",
       "      <td>26509.11</td>\n",
       "      <td>Spring</td>\n",
       "      <td>True</td>\n",
       "      <td>1.1912</td>\n",
       "      <td>it desn't work it doesn't work with verizon li...</td>\n",
       "      <td>0.0</td>\n",
       "    </tr>\n",
       "  </tbody>\n",
       "</table>\n",
       "</div>"
      ],
      "text/plain": [
       "    order_id   customer_id        date nearest_warehouse  \\\n",
       "0  ORD425890  ID0702376794  2019-08-12          Thompson   \n",
       "1  ORD359404  ID0723959155  2019-09-27            Bakers   \n",
       "2  ORD480713  ID2174963236  2019-04-16          Thompson   \n",
       "3  ORD335746  ID0060653725  2019-04-14          Thompson   \n",
       "4  ORD456583  ID0267318384  2019-10-18         Nickolson   \n",
       "\n",
       "                                       shopping_cart  order_price  \\\n",
       "0  [('Olivia x460', 2), ('iAssist Line', 1), ('Un...       8125.0   \n",
       "1  [('Lucent 330S', 1), ('Candle Inferno', 1), ('...       8160.0   \n",
       "2               [('Toshika 750', 1), ('iStream', 2)]       4620.0   \n",
       "3        [('Candle Inferno', 2), ('Toshika 750', 2)]       9500.0   \n",
       "4  [('Universe Note', 2), ('Olivia x460', 2), ('p...      26420.0   \n",
       "\n",
       "   delivery_charges  customer_lat  customer_long  coupon_discount  \\\n",
       "0             77.17    -37.808200     144.939850                5   \n",
       "1             79.65    -37.802345     145.004816               15   \n",
       "2             79.47    -37.819216     144.954201                0   \n",
       "3             64.70    -37.812870     144.942999                0   \n",
       "4             89.11    -37.824604     144.958342                0   \n",
       "\n",
       "   order_total  season  is_expedited_delivery  distance_to_nearest_warehouse  \\\n",
       "0      7795.92  Winter                   True                         0.8069   \n",
       "1      7015.65  Spring                  False                         1.1983   \n",
       "2      4699.47  Autumn                   True                         0.9612   \n",
       "3      9564.70  Autumn                  False                         0.3586   \n",
       "4     26509.11  Spring                   True                         1.1912   \n",
       "\n",
       "                              latest_customer_review  is_happy_customer  \n",
       "0  great phone and amazing value!!! love all the ...                1.0  \n",
       "1  very good deal this phone is in good condition...                NaN  \n",
       "2  practical, economical, and best features! love...                1.0  \n",
       "3  recomiendo la compra el redmi funciona perfect...                1.0  \n",
       "4  it desn't work it doesn't work with verizon li...                0.0  "
      ]
     },
     "execution_count": 31,
     "metadata": {},
     "output_type": "execute_result"
    }
   ],
   "source": [
    "missing_data.head()"
   ]
  },
  {
   "cell_type": "markdown",
   "metadata": {},
   "source": [
    "#### Firstly the idexes of rows with missing values have been stored in the idx. Then we iterate through these indexes in the idx to fix the missing values. We check for missing values in the nearest_warehouse column and the distance_to_nearest_warehouse and fix it by calling the dirty_dist function. Next we check for null values in the order_price and calculate the price using q_mat and item_price. Next if the order_total has missing values we calculate them using the price(1-d) + delivery_charge. Next if the delivery_chages have missing values we calcualte them using total - price(1-d). We calculate the missing values in is_happy_customer by setting them equal to 1 if the customer_review has None or if the compound polarity score of customer_review is greater than 0.05"
   ]
  },
  {
   "cell_type": "code",
   "execution_count": 32,
   "metadata": {
    "scrolled": true
   },
   "outputs": [
    {
     "name": "stderr",
     "output_type": "stream",
     "text": [
      "D:\\Anaconda\\lib\\site-packages\\ipykernel_launcher.py:44: SettingWithCopyWarning: \n",
      "A value is trying to be set on a copy of a slice from a DataFrame\n",
      "\n",
      "See the caveats in the documentation: https://pandas.pydata.org/pandas-docs/stable/user_guide/indexing.html#returning-a-view-versus-a-copy\n",
      "D:\\Anaconda\\lib\\site-packages\\ipykernel_launcher.py:13: SettingWithCopyWarning: \n",
      "A value is trying to be set on a copy of a slice from a DataFrame\n",
      "\n",
      "See the caveats in the documentation: https://pandas.pydata.org/pandas-docs/stable/user_guide/indexing.html#returning-a-view-versus-a-copy\n",
      "  del sys.path[0]\n",
      "D:\\Anaconda\\lib\\site-packages\\ipykernel_launcher.py:14: SettingWithCopyWarning: \n",
      "A value is trying to be set on a copy of a slice from a DataFrame\n",
      "\n",
      "See the caveats in the documentation: https://pandas.pydata.org/pandas-docs/stable/user_guide/indexing.html#returning-a-view-versus-a-copy\n",
      "  \n",
      "D:\\Anaconda\\lib\\site-packages\\ipykernel_launcher.py:33: SettingWithCopyWarning: \n",
      "A value is trying to be set on a copy of a slice from a DataFrame\n",
      "\n",
      "See the caveats in the documentation: https://pandas.pydata.org/pandas-docs/stable/user_guide/indexing.html#returning-a-view-versus-a-copy\n",
      "D:\\Anaconda\\lib\\site-packages\\ipykernel_launcher.py:23: SettingWithCopyWarning: \n",
      "A value is trying to be set on a copy of a slice from a DataFrame\n",
      "\n",
      "See the caveats in the documentation: https://pandas.pydata.org/pandas-docs/stable/user_guide/indexing.html#returning-a-view-versus-a-copy\n",
      "D:\\Anaconda\\lib\\site-packages\\ipykernel_launcher.py:28: SettingWithCopyWarning: \n",
      "A value is trying to be set on a copy of a slice from a DataFrame\n",
      "\n",
      "See the caveats in the documentation: https://pandas.pydata.org/pandas-docs/stable/user_guide/indexing.html#returning-a-view-versus-a-copy\n"
     ]
    }
   ],
   "source": [
    "# indexes of rows with missing values\n",
    "idx = missing_data[missing_data.isnull().any(axis=1)].index.values\n",
    "\n",
    "# iterating over rows with NaNs\n",
    "for i in idx:\n",
    "    \n",
    "    # if missing value in nearest_warehouse or distance_to_nearest_warehouse\n",
    "    if pd.isna(missing_data.nearest_warehouse[i]) | pd.isna(missing_data.distance_to_nearest_warehouse[i]):\n",
    "        # calling the dirty_dist function\n",
    "        dist = dirty_dist(missing_data.customer_lat[i], missing_data.customer_long[i])\n",
    "        min_dist = min(dist)\n",
    "        # imputing the missing values\n",
    "        missing_data.distance_to_nearest_warehouse[i] = min_dist\n",
    "        missing_data.nearest_warehouse[i] = warehouse.names[dist.index(min_dist)]\n",
    "        \n",
    "    # if missing value in order_price\n",
    "    if pd.isna(missing_data.order_price[i]):\n",
    "        q_mat = [0]*10\n",
    "        \n",
    "        for item in eval(missing_data.shopping_cart[i]):\n",
    "            q_mat[cart_items.index(item[0])] = item[1]\n",
    "        # calculating the order price by mulitpling the vectors    \n",
    "        missing_data.order_price[i] = np.dot(q_mat, item_price)\n",
    "    \n",
    "    # if missing value in order total\n",
    "    if pd.isna(missing_data.order_total[i]):\n",
    "        # order_price(1-d/100) + delivery_charge\n",
    "        missing_data.order_total[i] = missing_data.order_price[i]*(1 - missing_data.coupon_discount[i]/100) + missing_data.delivery_charges[i]\n",
    "    \n",
    "    # if missing value in delivery charge\n",
    "    if pd.isna(missing_data.delivery_charges[i]):\n",
    "        # order_total - order_price(1-d/100)\n",
    "        missing_data.delivery_charges[i] = missing_data.order_total[i] - missing_data.order_price[i]*(1 - missing_data.coupon_discount[i]/100)\n",
    "    \n",
    "    # if missing value in customer review\n",
    "    if pd.isna(missing_data.is_happy_customer[i]):\n",
    "        # if review is none\n",
    "        if missing_data.latest_customer_review[i] == 'None':\n",
    "            missing_data.is_happy_customer[i] = 1\n",
    "        \n",
    "        else:\n",
    "            sid = SentimentIntensityAnalyzer()\n",
    "            # 1 if compound polarity score > 0.05 else 0\n",
    "            missing_data.is_happy_customer[i] = (1 if sid.polarity_scores(missing_data.latest_customer_review[i])['compound'] >= 0.05 else 0)   "
   ]
  },
  {
   "cell_type": "code",
   "execution_count": 33,
   "metadata": {},
   "outputs": [],
   "source": [
    "# write to csv\n",
    "missing_data.to_csv('30830192_missing_data_solution.csv', index=False)"
   ]
  }
 ],
 "metadata": {
  "kernelspec": {
   "display_name": "Python 3",
   "language": "python",
   "name": "python3"
  },
  "language_info": {
   "codemirror_mode": {
    "name": "ipython",
    "version": 3
   },
   "file_extension": ".py",
   "mimetype": "text/x-python",
   "name": "python",
   "nbconvert_exporter": "python",
   "pygments_lexer": "ipython3",
   "version": "3.7.6"
  }
 },
 "nbformat": 4,
 "nbformat_minor": 1
}
