{
 "cells": [
  {
   "cell_type": "markdown",
   "metadata": {},
   "source": [
    "### Name : Vyom Chauhan\n",
    "### Student ID : 30830192\n",
    "### Assignment 3"
   ]
  },
  {
   "cell_type": "markdown",
   "metadata": {},
   "source": [
    "### Introduction\n",
    "#### In this assignment we are required to read data from multiple files and integrate it into a given schema. The second task of data reshaping consists of studying the effect of normalizing and stadardizing the data in specific columns of the integrated dataframe."
   ]
  },
  {
   "cell_type": "markdown",
   "metadata": {},
   "source": [
    "#### Import Statements"
   ]
  },
  {
   "cell_type": "code",
   "execution_count": 1,
   "metadata": {},
   "outputs": [],
   "source": [
    "# importing required libraries\n",
    "import pandas as pd\n",
    "import tabula\n",
    "import io\n",
    "from xml.etree import ElementTree as ET\n",
    "import numpy as np\n",
    "import shapely.geometry\n",
    "import datetime\n",
    "from scipy import stats\n",
    "from matplotlib import pyplot as plt\n",
    "from sklearn import preprocessing\n",
    "import math\n",
    "import fiona\n",
    "%matplotlib inline"
   ]
  },
  {
   "cell_type": "markdown",
   "metadata": {},
   "source": [
    "#### Setting option to display max rows and columns."
   ]
  },
  {
   "cell_type": "code",
   "execution_count": 2,
   "metadata": {},
   "outputs": [],
   "source": [
    "pd.set_option('display.max_rows', 10000)\n",
    "pd.set_option('display.max_columns', 500)"
   ]
  },
  {
   "cell_type": "markdown",
   "metadata": {},
   "source": [
    "## Task 1\n",
    "### Reading the data files"
   ]
  },
  {
   "cell_type": "markdown",
   "metadata": {},
   "source": [
    "### Hospital Data\n",
    "#### Reading the hospital data from the hospital html file. The index were contained in an unnamed column which is then renamed to '' and set as index of the dataframe. The data had 199 entries with no duplicate ids."
   ]
  },
  {
   "cell_type": "code",
   "execution_count": 3,
   "metadata": {},
   "outputs": [],
   "source": [
    "# reading the hospital data from th html file\n",
    "hospitals_df = pd.read_html(\"file:///C:/Users/vyomc/Downloads/30830192/hospitals.html\")[0]\n",
    "# renaming the unnamed column\n",
    "hospitals_df.rename(columns = {'Unnamed: 0': ''}, inplace = True)\n",
    "# changing the index\n",
    "hospitals_df.set_index([''], inplace = True)"
   ]
  },
  {
   "cell_type": "code",
   "execution_count": 4,
   "metadata": {},
   "outputs": [
    {
     "data": {
      "text/html": [
       "<div>\n",
       "<style scoped>\n",
       "    .dataframe tbody tr th:only-of-type {\n",
       "        vertical-align: middle;\n",
       "    }\n",
       "\n",
       "    .dataframe tbody tr th {\n",
       "        vertical-align: top;\n",
       "    }\n",
       "\n",
       "    .dataframe thead th {\n",
       "        text-align: right;\n",
       "    }\n",
       "</style>\n",
       "<table border=\"1\" class=\"dataframe\">\n",
       "  <thead>\n",
       "    <tr style=\"text-align: right;\">\n",
       "      <th></th>\n",
       "      <th>id</th>\n",
       "      <th>lat</th>\n",
       "      <th>lng</th>\n",
       "      <th>name</th>\n",
       "    </tr>\n",
       "    <tr>\n",
       "      <th></th>\n",
       "      <th></th>\n",
       "      <th></th>\n",
       "      <th></th>\n",
       "      <th></th>\n",
       "    </tr>\n",
       "  </thead>\n",
       "  <tbody>\n",
       "    <tr>\n",
       "      <th>0</th>\n",
       "      <td>hospital_001</td>\n",
       "      <td>-37.990622</td>\n",
       "      <td>145.072836</td>\n",
       "      <td>Como Private Hospital</td>\n",
       "    </tr>\n",
       "    <tr>\n",
       "      <th>1</th>\n",
       "      <td>hospital_002</td>\n",
       "      <td>-37.855469</td>\n",
       "      <td>145.268183</td>\n",
       "      <td>Mountain District Private Hospital</td>\n",
       "    </tr>\n",
       "    <tr>\n",
       "      <th>2</th>\n",
       "      <td>hospital_003</td>\n",
       "      <td>-37.792230</td>\n",
       "      <td>144.889128</td>\n",
       "      <td>Western Hospital</td>\n",
       "    </tr>\n",
       "    <tr>\n",
       "      <th>3</th>\n",
       "      <td>hospital_004</td>\n",
       "      <td>-37.756042</td>\n",
       "      <td>145.061896</td>\n",
       "      <td>Mercy Hospital for Women</td>\n",
       "    </tr>\n",
       "    <tr>\n",
       "      <th>4</th>\n",
       "      <td>hospital_005</td>\n",
       "      <td>-37.760623</td>\n",
       "      <td>144.815624</td>\n",
       "      <td>Sunshine Hospital</td>\n",
       "    </tr>\n",
       "  </tbody>\n",
       "</table>\n",
       "</div>"
      ],
      "text/plain": [
       "             id        lat         lng                                name\n",
       "                                                                          \n",
       "0  hospital_001 -37.990622  145.072836               Como Private Hospital\n",
       "1  hospital_002 -37.855469  145.268183  Mountain District Private Hospital\n",
       "2  hospital_003 -37.792230  144.889128                    Western Hospital\n",
       "3  hospital_004 -37.756042  145.061896            Mercy Hospital for Women\n",
       "4  hospital_005 -37.760623  144.815624                   Sunshine Hospital"
      ]
     },
     "execution_count": 4,
     "metadata": {},
     "output_type": "execute_result"
    }
   ],
   "source": [
    "# first few rows of the data\n",
    "hospitals_df.head()"
   ]
  },
  {
   "cell_type": "code",
   "execution_count": 5,
   "metadata": {},
   "outputs": [
    {
     "name": "stdout",
     "output_type": "stream",
     "text": [
      "<class 'pandas.core.frame.DataFrame'>\n",
      "Int64Index: 199 entries, 0 to 198\n",
      "Data columns (total 4 columns):\n",
      " #   Column  Non-Null Count  Dtype  \n",
      "---  ------  --------------  -----  \n",
      " 0   id      199 non-null    object \n",
      " 1   lat     199 non-null    float64\n",
      " 2   lng     199 non-null    float64\n",
      " 3   name    199 non-null    object \n",
      "dtypes: float64(2), object(2)\n",
      "memory usage: 7.8+ KB\n"
     ]
    }
   ],
   "source": [
    "# information regarding the data\n",
    "hospitals_df.info()"
   ]
  },
  {
   "cell_type": "code",
   "execution_count": 6,
   "metadata": {},
   "outputs": [
    {
     "data": {
      "text/plain": [
       "id      199\n",
       "lat     199\n",
       "lng     199\n",
       "name    195\n",
       "dtype: int64"
      ]
     },
     "execution_count": 6,
     "metadata": {},
     "output_type": "execute_result"
    }
   ],
   "source": [
    "# checking for any duplicates in id\n",
    "hospitals_df.nunique(axis=0)"
   ]
  },
  {
   "cell_type": "markdown",
   "metadata": {},
   "source": [
    "### Shopping Center Data\n",
    "#### Reading the shopping center data from the shopingcenters pdf file. The index were contained in an unnamed column which is then renamed to '' and set as index of the dataframe. The data had 119 entries with no duplicate ids."
   ]
  },
  {
   "cell_type": "code",
   "execution_count": 7,
   "metadata": {},
   "outputs": [],
   "source": [
    "# reading the shopping center data from the pdf file using Tabula\n",
    "shopcenter_df = tabula.read_pdf(\"shopingcenters.pdf\", pages = 'all')"
   ]
  },
  {
   "cell_type": "code",
   "execution_count": 8,
   "metadata": {},
   "outputs": [],
   "source": [
    "# concatinating the tables from different pages\n",
    "shopcenter_df = pd.concat([shopcenter_df[0] ,shopcenter_df[1], shopcenter_df[2]], ignore_index = True)\n",
    "# renaming the unnamed column \n",
    "shopcenter_df.rename(columns = {'Unnamed: 0': ''}, inplace = True)\n",
    "# changing the index\n",
    "shopcenter_df.set_index([''], inplace = True)"
   ]
  },
  {
   "cell_type": "code",
   "execution_count": 9,
   "metadata": {},
   "outputs": [
    {
     "data": {
      "text/html": [
       "<div>\n",
       "<style scoped>\n",
       "    .dataframe tbody tr th:only-of-type {\n",
       "        vertical-align: middle;\n",
       "    }\n",
       "\n",
       "    .dataframe tbody tr th {\n",
       "        vertical-align: top;\n",
       "    }\n",
       "\n",
       "    .dataframe thead th {\n",
       "        text-align: right;\n",
       "    }\n",
       "</style>\n",
       "<table border=\"1\" class=\"dataframe\">\n",
       "  <thead>\n",
       "    <tr style=\"text-align: right;\">\n",
       "      <th></th>\n",
       "      <th>sc_id</th>\n",
       "      <th>lat</th>\n",
       "      <th>lng</th>\n",
       "    </tr>\n",
       "    <tr>\n",
       "      <th></th>\n",
       "      <th></th>\n",
       "      <th></th>\n",
       "      <th></th>\n",
       "    </tr>\n",
       "  </thead>\n",
       "  <tbody>\n",
       "    <tr>\n",
       "      <th>0</th>\n",
       "      <td>SC_001</td>\n",
       "      <td>-37.767915</td>\n",
       "      <td>145.041790</td>\n",
       "    </tr>\n",
       "    <tr>\n",
       "      <th>1</th>\n",
       "      <td>SC_002</td>\n",
       "      <td>-37.819375</td>\n",
       "      <td>145.171472</td>\n",
       "    </tr>\n",
       "    <tr>\n",
       "      <th>2</th>\n",
       "      <td>SC_003</td>\n",
       "      <td>-37.971131</td>\n",
       "      <td>145.089065</td>\n",
       "    </tr>\n",
       "    <tr>\n",
       "      <th>3</th>\n",
       "      <td>SC_004</td>\n",
       "      <td>-35.280406</td>\n",
       "      <td>149.132550</td>\n",
       "    </tr>\n",
       "    <tr>\n",
       "      <th>4</th>\n",
       "      <td>SC_005</td>\n",
       "      <td>-37.574572</td>\n",
       "      <td>144.920451</td>\n",
       "    </tr>\n",
       "  </tbody>\n",
       "</table>\n",
       "</div>"
      ],
      "text/plain": [
       "    sc_id        lat         lng\n",
       "                                \n",
       "0  SC_001 -37.767915  145.041790\n",
       "1  SC_002 -37.819375  145.171472\n",
       "2  SC_003 -37.971131  145.089065\n",
       "3  SC_004 -35.280406  149.132550\n",
       "4  SC_005 -37.574572  144.920451"
      ]
     },
     "execution_count": 9,
     "metadata": {},
     "output_type": "execute_result"
    }
   ],
   "source": [
    "# first few rows of the data\n",
    "shopcenter_df.head()"
   ]
  },
  {
   "cell_type": "code",
   "execution_count": 10,
   "metadata": {},
   "outputs": [
    {
     "name": "stdout",
     "output_type": "stream",
     "text": [
      "<class 'pandas.core.frame.DataFrame'>\n",
      "Int64Index: 119 entries, 0 to 118\n",
      "Data columns (total 3 columns):\n",
      " #   Column  Non-Null Count  Dtype  \n",
      "---  ------  --------------  -----  \n",
      " 0   sc_id   119 non-null    object \n",
      " 1   lat     119 non-null    float64\n",
      " 2   lng     119 non-null    float64\n",
      "dtypes: float64(2), object(1)\n",
      "memory usage: 3.7+ KB\n"
     ]
    }
   ],
   "source": [
    "# information regarding the data\n",
    "shopcenter_df.info()"
   ]
  },
  {
   "cell_type": "code",
   "execution_count": 11,
   "metadata": {},
   "outputs": [
    {
     "data": {
      "text/plain": [
       "sc_id    119\n",
       "lat      119\n",
       "lng      119\n",
       "dtype: int64"
      ]
     },
     "execution_count": 11,
     "metadata": {},
     "output_type": "execute_result"
    }
   ],
   "source": [
    "# checking for any duplicates in id\n",
    "shopcenter_df.nunique(axis=0)"
   ]
  },
  {
   "cell_type": "markdown",
   "metadata": {},
   "source": [
    "### Supermarket Data\n",
    "#### Reading the supermarket data from the supermarkets excel file. The index were contained in an unnamed column which is then renamed to '' and set as index of the dataframe. The data had 239 entries with no duplicate ids. But on further examination it was found that at same latitude and logitude there were two shopping center ids. Therefore, the first id was kept while the second was discarded making the record count to 238."
   ]
  },
  {
   "cell_type": "code",
   "execution_count": 12,
   "metadata": {},
   "outputs": [],
   "source": [
    "# reading the supermarkets data from the excel file\n",
    "supermarkets_df = pd.read_excel('supermarkets.xlsx')\n",
    "# renaming the unnamed column\n",
    "supermarkets_df.rename(columns = {'Unnamed: 0': ''}, inplace = True)\n",
    "# changing the index\n",
    "supermarkets_df.set_index([''], inplace = True)"
   ]
  },
  {
   "cell_type": "code",
   "execution_count": 13,
   "metadata": {},
   "outputs": [
    {
     "data": {
      "text/html": [
       "<div>\n",
       "<style scoped>\n",
       "    .dataframe tbody tr th:only-of-type {\n",
       "        vertical-align: middle;\n",
       "    }\n",
       "\n",
       "    .dataframe tbody tr th {\n",
       "        vertical-align: top;\n",
       "    }\n",
       "\n",
       "    .dataframe thead th {\n",
       "        text-align: right;\n",
       "    }\n",
       "</style>\n",
       "<table border=\"1\" class=\"dataframe\">\n",
       "  <thead>\n",
       "    <tr style=\"text-align: right;\">\n",
       "      <th></th>\n",
       "      <th>id</th>\n",
       "      <th>lat</th>\n",
       "      <th>lng</th>\n",
       "      <th>type</th>\n",
       "    </tr>\n",
       "    <tr>\n",
       "      <th></th>\n",
       "      <th></th>\n",
       "      <th></th>\n",
       "      <th></th>\n",
       "      <th></th>\n",
       "    </tr>\n",
       "  </thead>\n",
       "  <tbody>\n",
       "    <tr>\n",
       "      <th>0</th>\n",
       "      <td>S_001</td>\n",
       "      <td>-37.883978</td>\n",
       "      <td>144.735287</td>\n",
       "      <td>Woolworths</td>\n",
       "    </tr>\n",
       "    <tr>\n",
       "      <th>1</th>\n",
       "      <td>S_002</td>\n",
       "      <td>-41.161591</td>\n",
       "      <td>147.514797</td>\n",
       "      <td>Woolworths</td>\n",
       "    </tr>\n",
       "    <tr>\n",
       "      <th>2</th>\n",
       "      <td>S_003</td>\n",
       "      <td>-37.984078</td>\n",
       "      <td>145.077167</td>\n",
       "      <td>Woolworths</td>\n",
       "    </tr>\n",
       "    <tr>\n",
       "      <th>3</th>\n",
       "      <td>S_004</td>\n",
       "      <td>-37.707023</td>\n",
       "      <td>144.938740</td>\n",
       "      <td>Woolworths</td>\n",
       "    </tr>\n",
       "    <tr>\n",
       "      <th>4</th>\n",
       "      <td>S_005</td>\n",
       "      <td>-37.597670</td>\n",
       "      <td>144.938413</td>\n",
       "      <td>Woolworths</td>\n",
       "    </tr>\n",
       "  </tbody>\n",
       "</table>\n",
       "</div>"
      ],
      "text/plain": [
       "      id        lat         lng        type\n",
       "                                           \n",
       "0  S_001 -37.883978  144.735287  Woolworths\n",
       "1  S_002 -41.161591  147.514797  Woolworths\n",
       "2  S_003 -37.984078  145.077167  Woolworths\n",
       "3  S_004 -37.707023  144.938740  Woolworths\n",
       "4  S_005 -37.597670  144.938413  Woolworths"
      ]
     },
     "execution_count": 13,
     "metadata": {},
     "output_type": "execute_result"
    }
   ],
   "source": [
    "# first few rows of the data\n",
    "supermarkets_df.head()"
   ]
  },
  {
   "cell_type": "code",
   "execution_count": 14,
   "metadata": {},
   "outputs": [
    {
     "name": "stdout",
     "output_type": "stream",
     "text": [
      "<class 'pandas.core.frame.DataFrame'>\n",
      "Int64Index: 239 entries, 0 to 238\n",
      "Data columns (total 4 columns):\n",
      " #   Column  Non-Null Count  Dtype  \n",
      "---  ------  --------------  -----  \n",
      " 0   id      239 non-null    object \n",
      " 1   lat     239 non-null    float64\n",
      " 2   lng     239 non-null    float64\n",
      " 3   type    239 non-null    object \n",
      "dtypes: float64(2), object(2)\n",
      "memory usage: 9.3+ KB\n"
     ]
    }
   ],
   "source": [
    "# information regarding the data\n",
    "supermarkets_df.info()"
   ]
  },
  {
   "cell_type": "code",
   "execution_count": 15,
   "metadata": {},
   "outputs": [
    {
     "data": {
      "text/plain": [
       "id      239\n",
       "lat     238\n",
       "lng     237\n",
       "type      2\n",
       "dtype: int64"
      ]
     },
     "execution_count": 15,
     "metadata": {},
     "output_type": "execute_result"
    }
   ],
   "source": [
    "# checking for any duplicates in id\n",
    "supermarkets_df.nunique(axis=0)"
   ]
  },
  {
   "cell_type": "code",
   "execution_count": 16,
   "metadata": {},
   "outputs": [],
   "source": [
    "# dropping the row with duplicate lat and lng attribute\n",
    "supermarkets_df = supermarkets_df.drop_duplicates(['lat', 'lng'], keep='first').reset_index(drop=True)"
   ]
  },
  {
   "cell_type": "markdown",
   "metadata": {},
   "source": [
    "### Real estate json\n",
    "#### Reading the real estate data from the real_state json file. The data had 1010 entries with a few duplicate ids. Therefore, the duplicate records were dropped making the record count to 1006."
   ]
  },
  {
   "cell_type": "code",
   "execution_count": 17,
   "metadata": {},
   "outputs": [],
   "source": [
    "# reading the real estate data from the json file\n",
    "realstate_df1 = pd.read_json('real_state.json')"
   ]
  },
  {
   "cell_type": "code",
   "execution_count": 18,
   "metadata": {},
   "outputs": [
    {
     "data": {
      "text/html": [
       "<div>\n",
       "<style scoped>\n",
       "    .dataframe tbody tr th:only-of-type {\n",
       "        vertical-align: middle;\n",
       "    }\n",
       "\n",
       "    .dataframe tbody tr th {\n",
       "        vertical-align: top;\n",
       "    }\n",
       "\n",
       "    .dataframe thead th {\n",
       "        text-align: right;\n",
       "    }\n",
       "</style>\n",
       "<table border=\"1\" class=\"dataframe\">\n",
       "  <thead>\n",
       "    <tr style=\"text-align: right;\">\n",
       "      <th></th>\n",
       "      <th>property_id</th>\n",
       "      <th>lat</th>\n",
       "      <th>lng</th>\n",
       "      <th>addr_street</th>\n",
       "      <th>price</th>\n",
       "      <th>property_type</th>\n",
       "      <th>year</th>\n",
       "      <th>bedrooms</th>\n",
       "      <th>bathrooms</th>\n",
       "      <th>parking_space</th>\n",
       "    </tr>\n",
       "  </thead>\n",
       "  <tbody>\n",
       "    <tr>\n",
       "      <th>0</th>\n",
       "      <td>86831</td>\n",
       "      <td>-37.891383</td>\n",
       "      <td>144.992344</td>\n",
       "      <td>5 Horton Close</td>\n",
       "      <td>16480000</td>\n",
       "      <td>house</td>\n",
       "      <td>2011</td>\n",
       "      <td>5</td>\n",
       "      <td>2</td>\n",
       "      <td>2</td>\n",
       "    </tr>\n",
       "    <tr>\n",
       "      <th>1</th>\n",
       "      <td>47772</td>\n",
       "      <td>-37.797656</td>\n",
       "      <td>145.035327</td>\n",
       "      <td>111 Pakington Street</td>\n",
       "      <td>25220000</td>\n",
       "      <td>house</td>\n",
       "      <td>2014</td>\n",
       "      <td>4</td>\n",
       "      <td>2</td>\n",
       "      <td>1</td>\n",
       "    </tr>\n",
       "    <tr>\n",
       "      <th>2</th>\n",
       "      <td>81279</td>\n",
       "      <td>-37.988871</td>\n",
       "      <td>145.225751</td>\n",
       "      <td>41 Macpherson Street</td>\n",
       "      <td>11900000</td>\n",
       "      <td>house</td>\n",
       "      <td>2016</td>\n",
       "      <td>3</td>\n",
       "      <td>1</td>\n",
       "      <td>2</td>\n",
       "    </tr>\n",
       "    <tr>\n",
       "      <th>3</th>\n",
       "      <td>85619</td>\n",
       "      <td>-37.895698</td>\n",
       "      <td>145.012101</td>\n",
       "      <td>4 Rupert Street</td>\n",
       "      <td>24160000</td>\n",
       "      <td>house</td>\n",
       "      <td>2016</td>\n",
       "      <td>3</td>\n",
       "      <td>2</td>\n",
       "      <td>1</td>\n",
       "    </tr>\n",
       "    <tr>\n",
       "      <th>4</th>\n",
       "      <td>64724</td>\n",
       "      <td>-37.800242</td>\n",
       "      <td>145.278718</td>\n",
       "      <td>6 Lusher Road</td>\n",
       "      <td>5625000</td>\n",
       "      <td>house</td>\n",
       "      <td>2012</td>\n",
       "      <td>2</td>\n",
       "      <td>1</td>\n",
       "      <td>2</td>\n",
       "    </tr>\n",
       "  </tbody>\n",
       "</table>\n",
       "</div>"
      ],
      "text/plain": [
       "   property_id        lat         lng           addr_street     price  \\\n",
       "0        86831 -37.891383  144.992344        5 Horton Close  16480000   \n",
       "1        47772 -37.797656  145.035327  111 Pakington Street  25220000   \n",
       "2        81279 -37.988871  145.225751  41 Macpherson Street  11900000   \n",
       "3        85619 -37.895698  145.012101       4 Rupert Street  24160000   \n",
       "4        64724 -37.800242  145.278718         6 Lusher Road   5625000   \n",
       "\n",
       "  property_type  year  bedrooms  bathrooms  parking_space  \n",
       "0         house  2011         5          2              2  \n",
       "1         house  2014         4          2              1  \n",
       "2         house  2016         3          1              2  \n",
       "3         house  2016         3          2              1  \n",
       "4         house  2012         2          1              2  "
      ]
     },
     "execution_count": 18,
     "metadata": {},
     "output_type": "execute_result"
    }
   ],
   "source": [
    "# first few rows of the data\n",
    "realstate_df1.head()"
   ]
  },
  {
   "cell_type": "code",
   "execution_count": 19,
   "metadata": {},
   "outputs": [
    {
     "name": "stdout",
     "output_type": "stream",
     "text": [
      "<class 'pandas.core.frame.DataFrame'>\n",
      "RangeIndex: 1010 entries, 0 to 1009\n",
      "Data columns (total 10 columns):\n",
      " #   Column         Non-Null Count  Dtype  \n",
      "---  ------         --------------  -----  \n",
      " 0   property_id    1010 non-null   int64  \n",
      " 1   lat            1010 non-null   float64\n",
      " 2   lng            1010 non-null   float64\n",
      " 3   addr_street    1010 non-null   object \n",
      " 4   price          1010 non-null   int64  \n",
      " 5   property_type  1010 non-null   object \n",
      " 6   year           1010 non-null   int64  \n",
      " 7   bedrooms       1010 non-null   int64  \n",
      " 8   bathrooms      1010 non-null   int64  \n",
      " 9   parking_space  1010 non-null   int64  \n",
      "dtypes: float64(2), int64(6), object(2)\n",
      "memory usage: 79.0+ KB\n"
     ]
    }
   ],
   "source": [
    "# information regarding the data\n",
    "realstate_df1.info()"
   ]
  },
  {
   "cell_type": "code",
   "execution_count": 20,
   "metadata": {},
   "outputs": [
    {
     "data": {
      "text/plain": [
       "property_id      1006\n",
       "lat              1002\n",
       "lng              1005\n",
       "addr_street      1006\n",
       "price             768\n",
       "property_type       1\n",
       "year               11\n",
       "bedrooms            5\n",
       "bathrooms           3\n",
       "parking_space       4\n",
       "dtype: int64"
      ]
     },
     "execution_count": 20,
     "metadata": {},
     "output_type": "execute_result"
    }
   ],
   "source": [
    "# checking for any duplicates in id\n",
    "realstate_df1.nunique(axis=0)"
   ]
  },
  {
   "cell_type": "code",
   "execution_count": 21,
   "metadata": {},
   "outputs": [],
   "source": [
    "# removing duplicate rows\n",
    "realstate_df1.drop_duplicates(keep=False, inplace=True)\n",
    "# resetting the index\n",
    "realstate_df1.reset_index(inplace=True)"
   ]
  },
  {
   "cell_type": "code",
   "execution_count": 22,
   "metadata": {},
   "outputs": [
    {
     "data": {
      "text/plain": [
       "index            1002\n",
       "property_id      1002\n",
       "lat               998\n",
       "lng              1001\n",
       "addr_street      1002\n",
       "price             766\n",
       "property_type       1\n",
       "year               11\n",
       "bedrooms            5\n",
       "bathrooms           3\n",
       "parking_space       4\n",
       "dtype: int64"
      ]
     },
     "execution_count": 22,
     "metadata": {},
     "output_type": "execute_result"
    }
   ],
   "source": [
    "# again checking for any duplicates\n",
    "realstate_df1.nunique(axis=0)"
   ]
  },
  {
   "cell_type": "markdown",
   "metadata": {},
   "source": [
    "### Real estate xml\n",
    "#### Reading the real estate data from the real_state xml file. The data had 1004 entries with a few duplicate ids. The data had to be read as a string since there were a few characters heading and tailing the xml file therefore it couldn't be directly parsed and had to be parsed as a string instead. The data was then read column wise into a dataframe and the datatypes were changed."
   ]
  },
  {
   "cell_type": "code",
   "execution_count": 23,
   "metadata": {},
   "outputs": [],
   "source": [
    "# reading the real estate data from xml file\n",
    "with io.open('real_state.xml', 'r', encoding='utf-8') as f:\n",
    "    # reading the xml file as text and removing b''\n",
    "    contents = f.read()[2:-1]\n",
    "    # getting the root of xml tree using fromstring function\n",
    "    root = ET.fromstring(contents)"
   ]
  },
  {
   "cell_type": "code",
   "execution_count": 24,
   "metadata": {
    "scrolled": true
   },
   "outputs": [],
   "source": [
    "# initializing an empty dataframe\n",
    "realstate_df2 = pd.DataFrame()\n",
    "# writing data to the data frame column wise\n",
    "for node in root:\n",
    "    # list of items in column\n",
    "    data = []\n",
    "    for item in node:\n",
    "        # appending items\n",
    "        data.append(item.text)\n",
    "    # adding the column to the dataframe\n",
    "    realstate_df2[node.tag] = data"
   ]
  },
  {
   "cell_type": "code",
   "execution_count": 25,
   "metadata": {},
   "outputs": [],
   "source": [
    "# changing the datatype of the columns as per the first dataframe\n",
    "realstate_df2 = realstate_df2.astype({\"property_id\": int, \"lat\": float, \"lng\": float, \"price\": int, \"year\": int, \"bedrooms\": int,\\\n",
    "                \"bathrooms\": int, \"parking_space\": int})"
   ]
  },
  {
   "cell_type": "code",
   "execution_count": 26,
   "metadata": {},
   "outputs": [
    {
     "data": {
      "text/html": [
       "<div>\n",
       "<style scoped>\n",
       "    .dataframe tbody tr th:only-of-type {\n",
       "        vertical-align: middle;\n",
       "    }\n",
       "\n",
       "    .dataframe tbody tr th {\n",
       "        vertical-align: top;\n",
       "    }\n",
       "\n",
       "    .dataframe thead th {\n",
       "        text-align: right;\n",
       "    }\n",
       "</style>\n",
       "<table border=\"1\" class=\"dataframe\">\n",
       "  <thead>\n",
       "    <tr style=\"text-align: right;\">\n",
       "      <th></th>\n",
       "      <th>property_id</th>\n",
       "      <th>lat</th>\n",
       "      <th>lng</th>\n",
       "      <th>addr_street</th>\n",
       "      <th>price</th>\n",
       "      <th>property_type</th>\n",
       "      <th>year</th>\n",
       "      <th>bedrooms</th>\n",
       "      <th>bathrooms</th>\n",
       "      <th>parking_space</th>\n",
       "    </tr>\n",
       "  </thead>\n",
       "  <tbody>\n",
       "    <tr>\n",
       "      <th>0</th>\n",
       "      <td>47457</td>\n",
       "      <td>-37.703611</td>\n",
       "      <td>145.167748</td>\n",
       "      <td>7 Bayfield Drive</td>\n",
       "      <td>8134000</td>\n",
       "      <td>house</td>\n",
       "      <td>2010</td>\n",
       "      <td>4</td>\n",
       "      <td>1</td>\n",
       "      <td>1</td>\n",
       "    </tr>\n",
       "    <tr>\n",
       "      <th>1</th>\n",
       "      <td>77312</td>\n",
       "      <td>-37.934230</td>\n",
       "      <td>145.106920</td>\n",
       "      <td>95 Bunney Road</td>\n",
       "      <td>11640000</td>\n",
       "      <td>house</td>\n",
       "      <td>2015</td>\n",
       "      <td>5</td>\n",
       "      <td>3</td>\n",
       "      <td>2</td>\n",
       "    </tr>\n",
       "    <tr>\n",
       "      <th>2</th>\n",
       "      <td>3796</td>\n",
       "      <td>-37.814484</td>\n",
       "      <td>144.887972</td>\n",
       "      <td>7 Fehon Street</td>\n",
       "      <td>7584000</td>\n",
       "      <td>house</td>\n",
       "      <td>2014</td>\n",
       "      <td>2</td>\n",
       "      <td>1</td>\n",
       "      <td>1</td>\n",
       "    </tr>\n",
       "    <tr>\n",
       "      <th>3</th>\n",
       "      <td>12942</td>\n",
       "      <td>-37.690104</td>\n",
       "      <td>144.763640</td>\n",
       "      <td>30 Buckingham Street</td>\n",
       "      <td>3159000</td>\n",
       "      <td>house</td>\n",
       "      <td>2014</td>\n",
       "      <td>4</td>\n",
       "      <td>2</td>\n",
       "      <td>1</td>\n",
       "    </tr>\n",
       "    <tr>\n",
       "      <th>4</th>\n",
       "      <td>68411</td>\n",
       "      <td>-37.861429</td>\n",
       "      <td>145.026373</td>\n",
       "      <td>25 Llaneast Street</td>\n",
       "      <td>38250000</td>\n",
       "      <td>house</td>\n",
       "      <td>2016</td>\n",
       "      <td>4</td>\n",
       "      <td>1</td>\n",
       "      <td>2</td>\n",
       "    </tr>\n",
       "  </tbody>\n",
       "</table>\n",
       "</div>"
      ],
      "text/plain": [
       "   property_id        lat         lng           addr_street     price  \\\n",
       "0        47457 -37.703611  145.167748      7 Bayfield Drive   8134000   \n",
       "1        77312 -37.934230  145.106920        95 Bunney Road  11640000   \n",
       "2         3796 -37.814484  144.887972        7 Fehon Street   7584000   \n",
       "3        12942 -37.690104  144.763640  30 Buckingham Street   3159000   \n",
       "4        68411 -37.861429  145.026373    25 Llaneast Street  38250000   \n",
       "\n",
       "  property_type  year  bedrooms  bathrooms  parking_space  \n",
       "0         house  2010         4          1              1  \n",
       "1         house  2015         5          3              2  \n",
       "2         house  2014         2          1              1  \n",
       "3         house  2014         4          2              1  \n",
       "4         house  2016         4          1              2  "
      ]
     },
     "execution_count": 26,
     "metadata": {},
     "output_type": "execute_result"
    }
   ],
   "source": [
    "# first few rows of the data\n",
    "realstate_df2.head()"
   ]
  },
  {
   "cell_type": "code",
   "execution_count": 27,
   "metadata": {
    "scrolled": false
   },
   "outputs": [
    {
     "name": "stdout",
     "output_type": "stream",
     "text": [
      "<class 'pandas.core.frame.DataFrame'>\n",
      "RangeIndex: 1004 entries, 0 to 1003\n",
      "Data columns (total 10 columns):\n",
      " #   Column         Non-Null Count  Dtype  \n",
      "---  ------         --------------  -----  \n",
      " 0   property_id    1004 non-null   int32  \n",
      " 1   lat            1004 non-null   float64\n",
      " 2   lng            1004 non-null   float64\n",
      " 3   addr_street    1004 non-null   object \n",
      " 4   price          1004 non-null   int32  \n",
      " 5   property_type  1004 non-null   object \n",
      " 6   year           1004 non-null   int32  \n",
      " 7   bedrooms       1004 non-null   int32  \n",
      " 8   bathrooms      1004 non-null   int32  \n",
      " 9   parking_space  1004 non-null   int32  \n",
      "dtypes: float64(2), int32(6), object(2)\n",
      "memory usage: 55.0+ KB\n"
     ]
    }
   ],
   "source": [
    "# information regarding the data\n",
    "realstate_df2.info()"
   ]
  },
  {
   "cell_type": "code",
   "execution_count": 28,
   "metadata": {},
   "outputs": [
    {
     "data": {
      "text/plain": [
       "property_id      1004\n",
       "lat              1004\n",
       "lng              1003\n",
       "addr_street      1002\n",
       "price             811\n",
       "property_type       1\n",
       "year               11\n",
       "bedrooms            5\n",
       "bathrooms           3\n",
       "parking_space       4\n",
       "dtype: int64"
      ]
     },
     "execution_count": 28,
     "metadata": {},
     "output_type": "execute_result"
    }
   ],
   "source": [
    "# checking for any duplicates in id \n",
    "realstate_df2.nunique(axis=0)"
   ]
  },
  {
   "cell_type": "markdown",
   "metadata": {},
   "source": [
    "### Property data integration\n",
    "#### The property data from the above two files is integrated into a single dataframe and the duplicate property_id are dropped. The columns suburb, shopping_center_id etc. are also assigned their default values according to the given schema. The final dataset contains 1976 entries."
   ]
  },
  {
   "cell_type": "code",
   "execution_count": 29,
   "metadata": {},
   "outputs": [],
   "source": [
    "# concatinating the two real estate dataframes \n",
    "# dropping duplicates based on the column property_id\n",
    "realstate_df = pd.concat([realstate_df1,realstate_df2], ignore_index=True).drop_duplicates('property_id', keep='first').reset_index(drop=True)\n",
    "# dropping the index column from the combined df\n",
    "realstate_df.drop('index', axis=1, inplace=True)"
   ]
  },
  {
   "cell_type": "code",
   "execution_count": 30,
   "metadata": {},
   "outputs": [],
   "source": [
    "# making new columns and assigning them their default values\n",
    "realstate_df['suburb'] = 'not available'\n",
    "realstate_df['Shopping_center_id'] = 'not available'\n",
    "realstate_df['Hospital_id'] = 'not available'\n",
    "realstate_df['Supermarket_id'] = 'not available'\n",
    "realstate_df['Distance_to_sc'] = 0.0\n",
    "realstate_df['Train_station_id'] = 0\n",
    "realstate_df['Distance_to_train_station'] = 0.0\n",
    "realstate_df['travel_min_to_CBD'] = 0\n",
    "realstate_df['Transfer_flag'] = -1\n",
    "realstate_df['Distance_to_hospital'] = 0.0\n",
    "realstate_df['Distance_to_supermarket'] = 0.0"
   ]
  },
  {
   "cell_type": "code",
   "execution_count": 31,
   "metadata": {},
   "outputs": [
    {
     "data": {
      "text/html": [
       "<div>\n",
       "<style scoped>\n",
       "    .dataframe tbody tr th:only-of-type {\n",
       "        vertical-align: middle;\n",
       "    }\n",
       "\n",
       "    .dataframe tbody tr th {\n",
       "        vertical-align: top;\n",
       "    }\n",
       "\n",
       "    .dataframe thead th {\n",
       "        text-align: right;\n",
       "    }\n",
       "</style>\n",
       "<table border=\"1\" class=\"dataframe\">\n",
       "  <thead>\n",
       "    <tr style=\"text-align: right;\">\n",
       "      <th></th>\n",
       "      <th>property_id</th>\n",
       "      <th>lat</th>\n",
       "      <th>lng</th>\n",
       "      <th>addr_street</th>\n",
       "      <th>price</th>\n",
       "      <th>property_type</th>\n",
       "      <th>year</th>\n",
       "      <th>bedrooms</th>\n",
       "      <th>bathrooms</th>\n",
       "      <th>parking_space</th>\n",
       "      <th>suburb</th>\n",
       "      <th>Shopping_center_id</th>\n",
       "      <th>Hospital_id</th>\n",
       "      <th>Supermarket_id</th>\n",
       "      <th>Distance_to_sc</th>\n",
       "      <th>Train_station_id</th>\n",
       "      <th>Distance_to_train_station</th>\n",
       "      <th>travel_min_to_CBD</th>\n",
       "      <th>Transfer_flag</th>\n",
       "      <th>Distance_to_hospital</th>\n",
       "      <th>Distance_to_supermarket</th>\n",
       "    </tr>\n",
       "  </thead>\n",
       "  <tbody>\n",
       "    <tr>\n",
       "      <th>0</th>\n",
       "      <td>86831</td>\n",
       "      <td>-37.891383</td>\n",
       "      <td>144.992344</td>\n",
       "      <td>5 Horton Close</td>\n",
       "      <td>16480000</td>\n",
       "      <td>house</td>\n",
       "      <td>2011</td>\n",
       "      <td>5</td>\n",
       "      <td>2</td>\n",
       "      <td>2</td>\n",
       "      <td>not available</td>\n",
       "      <td>not available</td>\n",
       "      <td>not available</td>\n",
       "      <td>not available</td>\n",
       "      <td>0.0</td>\n",
       "      <td>0</td>\n",
       "      <td>0.0</td>\n",
       "      <td>0</td>\n",
       "      <td>-1</td>\n",
       "      <td>0.0</td>\n",
       "      <td>0.0</td>\n",
       "    </tr>\n",
       "    <tr>\n",
       "      <th>1</th>\n",
       "      <td>47772</td>\n",
       "      <td>-37.797656</td>\n",
       "      <td>145.035327</td>\n",
       "      <td>111 Pakington Street</td>\n",
       "      <td>25220000</td>\n",
       "      <td>house</td>\n",
       "      <td>2014</td>\n",
       "      <td>4</td>\n",
       "      <td>2</td>\n",
       "      <td>1</td>\n",
       "      <td>not available</td>\n",
       "      <td>not available</td>\n",
       "      <td>not available</td>\n",
       "      <td>not available</td>\n",
       "      <td>0.0</td>\n",
       "      <td>0</td>\n",
       "      <td>0.0</td>\n",
       "      <td>0</td>\n",
       "      <td>-1</td>\n",
       "      <td>0.0</td>\n",
       "      <td>0.0</td>\n",
       "    </tr>\n",
       "    <tr>\n",
       "      <th>2</th>\n",
       "      <td>81279</td>\n",
       "      <td>-37.988871</td>\n",
       "      <td>145.225751</td>\n",
       "      <td>41 Macpherson Street</td>\n",
       "      <td>11900000</td>\n",
       "      <td>house</td>\n",
       "      <td>2016</td>\n",
       "      <td>3</td>\n",
       "      <td>1</td>\n",
       "      <td>2</td>\n",
       "      <td>not available</td>\n",
       "      <td>not available</td>\n",
       "      <td>not available</td>\n",
       "      <td>not available</td>\n",
       "      <td>0.0</td>\n",
       "      <td>0</td>\n",
       "      <td>0.0</td>\n",
       "      <td>0</td>\n",
       "      <td>-1</td>\n",
       "      <td>0.0</td>\n",
       "      <td>0.0</td>\n",
       "    </tr>\n",
       "    <tr>\n",
       "      <th>3</th>\n",
       "      <td>85619</td>\n",
       "      <td>-37.895698</td>\n",
       "      <td>145.012101</td>\n",
       "      <td>4 Rupert Street</td>\n",
       "      <td>24160000</td>\n",
       "      <td>house</td>\n",
       "      <td>2016</td>\n",
       "      <td>3</td>\n",
       "      <td>2</td>\n",
       "      <td>1</td>\n",
       "      <td>not available</td>\n",
       "      <td>not available</td>\n",
       "      <td>not available</td>\n",
       "      <td>not available</td>\n",
       "      <td>0.0</td>\n",
       "      <td>0</td>\n",
       "      <td>0.0</td>\n",
       "      <td>0</td>\n",
       "      <td>-1</td>\n",
       "      <td>0.0</td>\n",
       "      <td>0.0</td>\n",
       "    </tr>\n",
       "    <tr>\n",
       "      <th>4</th>\n",
       "      <td>64724</td>\n",
       "      <td>-37.800242</td>\n",
       "      <td>145.278718</td>\n",
       "      <td>6 Lusher Road</td>\n",
       "      <td>5625000</td>\n",
       "      <td>house</td>\n",
       "      <td>2012</td>\n",
       "      <td>2</td>\n",
       "      <td>1</td>\n",
       "      <td>2</td>\n",
       "      <td>not available</td>\n",
       "      <td>not available</td>\n",
       "      <td>not available</td>\n",
       "      <td>not available</td>\n",
       "      <td>0.0</td>\n",
       "      <td>0</td>\n",
       "      <td>0.0</td>\n",
       "      <td>0</td>\n",
       "      <td>-1</td>\n",
       "      <td>0.0</td>\n",
       "      <td>0.0</td>\n",
       "    </tr>\n",
       "  </tbody>\n",
       "</table>\n",
       "</div>"
      ],
      "text/plain": [
       "   property_id        lat         lng           addr_street     price  \\\n",
       "0        86831 -37.891383  144.992344        5 Horton Close  16480000   \n",
       "1        47772 -37.797656  145.035327  111 Pakington Street  25220000   \n",
       "2        81279 -37.988871  145.225751  41 Macpherson Street  11900000   \n",
       "3        85619 -37.895698  145.012101       4 Rupert Street  24160000   \n",
       "4        64724 -37.800242  145.278718         6 Lusher Road   5625000   \n",
       "\n",
       "  property_type  year  bedrooms  bathrooms  parking_space         suburb  \\\n",
       "0         house  2011         5          2              2  not available   \n",
       "1         house  2014         4          2              1  not available   \n",
       "2         house  2016         3          1              2  not available   \n",
       "3         house  2016         3          2              1  not available   \n",
       "4         house  2012         2          1              2  not available   \n",
       "\n",
       "  Shopping_center_id    Hospital_id Supermarket_id  Distance_to_sc  \\\n",
       "0      not available  not available  not available             0.0   \n",
       "1      not available  not available  not available             0.0   \n",
       "2      not available  not available  not available             0.0   \n",
       "3      not available  not available  not available             0.0   \n",
       "4      not available  not available  not available             0.0   \n",
       "\n",
       "   Train_station_id  Distance_to_train_station  travel_min_to_CBD  \\\n",
       "0                 0                        0.0                  0   \n",
       "1                 0                        0.0                  0   \n",
       "2                 0                        0.0                  0   \n",
       "3                 0                        0.0                  0   \n",
       "4                 0                        0.0                  0   \n",
       "\n",
       "   Transfer_flag  Distance_to_hospital  Distance_to_supermarket  \n",
       "0             -1                   0.0                      0.0  \n",
       "1             -1                   0.0                      0.0  \n",
       "2             -1                   0.0                      0.0  \n",
       "3             -1                   0.0                      0.0  \n",
       "4             -1                   0.0                      0.0  "
      ]
     },
     "execution_count": 31,
     "metadata": {},
     "output_type": "execute_result"
    }
   ],
   "source": [
    "# first few rows of the data\n",
    "realstate_df.head()"
   ]
  },
  {
   "cell_type": "code",
   "execution_count": 32,
   "metadata": {},
   "outputs": [
    {
     "name": "stdout",
     "output_type": "stream",
     "text": [
      "<class 'pandas.core.frame.DataFrame'>\n",
      "RangeIndex: 1976 entries, 0 to 1975\n",
      "Data columns (total 21 columns):\n",
      " #   Column                     Non-Null Count  Dtype  \n",
      "---  ------                     --------------  -----  \n",
      " 0   property_id                1976 non-null   int64  \n",
      " 1   lat                        1976 non-null   float64\n",
      " 2   lng                        1976 non-null   float64\n",
      " 3   addr_street                1976 non-null   object \n",
      " 4   price                      1976 non-null   int64  \n",
      " 5   property_type              1976 non-null   object \n",
      " 6   year                       1976 non-null   int64  \n",
      " 7   bedrooms                   1976 non-null   int64  \n",
      " 8   bathrooms                  1976 non-null   int64  \n",
      " 9   parking_space              1976 non-null   int64  \n",
      " 10  suburb                     1976 non-null   object \n",
      " 11  Shopping_center_id         1976 non-null   object \n",
      " 12  Hospital_id                1976 non-null   object \n",
      " 13  Supermarket_id             1976 non-null   object \n",
      " 14  Distance_to_sc             1976 non-null   float64\n",
      " 15  Train_station_id           1976 non-null   int64  \n",
      " 16  Distance_to_train_station  1976 non-null   float64\n",
      " 17  travel_min_to_CBD          1976 non-null   int64  \n",
      " 18  Transfer_flag              1976 non-null   int64  \n",
      " 19  Distance_to_hospital       1976 non-null   float64\n",
      " 20  Distance_to_supermarket    1976 non-null   float64\n",
      "dtypes: float64(6), int64(9), object(6)\n",
      "memory usage: 324.3+ KB\n"
     ]
    }
   ],
   "source": [
    "# some information about the data\n",
    "realstate_df.info()"
   ]
  },
  {
   "cell_type": "code",
   "execution_count": 33,
   "metadata": {},
   "outputs": [
    {
     "data": {
      "text/plain": [
       "property_id                  1976\n",
       "lat                          1968\n",
       "lng                          1974\n",
       "addr_street                  1968\n",
       "price                        1309\n",
       "property_type                   1\n",
       "year                           11\n",
       "bedrooms                        5\n",
       "bathrooms                       3\n",
       "parking_space                   4\n",
       "suburb                          1\n",
       "Shopping_center_id              1\n",
       "Hospital_id                     1\n",
       "Supermarket_id                  1\n",
       "Distance_to_sc                  1\n",
       "Train_station_id                1\n",
       "Distance_to_train_station       1\n",
       "travel_min_to_CBD               1\n",
       "Transfer_flag                   1\n",
       "Distance_to_hospital            1\n",
       "Distance_to_supermarket         1\n",
       "dtype: int64"
      ]
     },
     "execution_count": 33,
     "metadata": {},
     "output_type": "execute_result"
    }
   ],
   "source": [
    "# count of unique vlues for each column\n",
    "realstate_df.nunique(axis=0)"
   ]
  },
  {
   "cell_type": "markdown",
   "metadata": {},
   "source": [
    "### Reading Train Data Files\n",
    "#### The train data is read from different txt files like agency.txt, stops.txt etc. into a dataframe."
   ]
  },
  {
   "cell_type": "code",
   "execution_count": 34,
   "metadata": {},
   "outputs": [],
   "source": [
    "# reading the agency data from txt file\n",
    "agency_df = pd.read_csv('agency.txt', sep=',')"
   ]
  },
  {
   "cell_type": "code",
   "execution_count": 35,
   "metadata": {},
   "outputs": [
    {
     "data": {
      "text/html": [
       "<div>\n",
       "<style scoped>\n",
       "    .dataframe tbody tr th:only-of-type {\n",
       "        vertical-align: middle;\n",
       "    }\n",
       "\n",
       "    .dataframe tbody tr th {\n",
       "        vertical-align: top;\n",
       "    }\n",
       "\n",
       "    .dataframe thead th {\n",
       "        text-align: right;\n",
       "    }\n",
       "</style>\n",
       "<table border=\"1\" class=\"dataframe\">\n",
       "  <thead>\n",
       "    <tr style=\"text-align: right;\">\n",
       "      <th></th>\n",
       "      <th>agency_id</th>\n",
       "      <th>agency_name</th>\n",
       "      <th>agency_url</th>\n",
       "      <th>agency_timezone</th>\n",
       "      <th>agency_lang</th>\n",
       "    </tr>\n",
       "  </thead>\n",
       "  <tbody>\n",
       "    <tr>\n",
       "      <th>0</th>\n",
       "      <td>1</td>\n",
       "      <td>PTV</td>\n",
       "      <td>http://www.ptv.vic.gov.au</td>\n",
       "      <td>Australia/Melbourne</td>\n",
       "      <td>EN</td>\n",
       "    </tr>\n",
       "  </tbody>\n",
       "</table>\n",
       "</div>"
      ],
      "text/plain": [
       "   agency_id agency_name                 agency_url      agency_timezone  \\\n",
       "0          1         PTV  http://www.ptv.vic.gov.au  Australia/Melbourne   \n",
       "\n",
       "  agency_lang  \n",
       "0          EN  "
      ]
     },
     "execution_count": 35,
     "metadata": {},
     "output_type": "execute_result"
    }
   ],
   "source": [
    "# first few rows of the data\n",
    "agency_df.head()"
   ]
  },
  {
   "cell_type": "code",
   "execution_count": 36,
   "metadata": {},
   "outputs": [],
   "source": [
    "# reading the calendar data from txt file\n",
    "calendar_df = pd.read_csv('calendar.txt', sep=',')"
   ]
  },
  {
   "cell_type": "code",
   "execution_count": 37,
   "metadata": {},
   "outputs": [
    {
     "data": {
      "text/html": [
       "<div>\n",
       "<style scoped>\n",
       "    .dataframe tbody tr th:only-of-type {\n",
       "        vertical-align: middle;\n",
       "    }\n",
       "\n",
       "    .dataframe tbody tr th {\n",
       "        vertical-align: top;\n",
       "    }\n",
       "\n",
       "    .dataframe thead th {\n",
       "        text-align: right;\n",
       "    }\n",
       "</style>\n",
       "<table border=\"1\" class=\"dataframe\">\n",
       "  <thead>\n",
       "    <tr style=\"text-align: right;\">\n",
       "      <th></th>\n",
       "      <th>service_id</th>\n",
       "      <th>monday</th>\n",
       "      <th>tuesday</th>\n",
       "      <th>wednesday</th>\n",
       "      <th>thursday</th>\n",
       "      <th>friday</th>\n",
       "      <th>saturday</th>\n",
       "      <th>sunday</th>\n",
       "      <th>start_date</th>\n",
       "      <th>end_date</th>\n",
       "    </tr>\n",
       "  </thead>\n",
       "  <tbody>\n",
       "    <tr>\n",
       "      <th>0</th>\n",
       "      <td>T2</td>\n",
       "      <td>0</td>\n",
       "      <td>0</td>\n",
       "      <td>0</td>\n",
       "      <td>0</td>\n",
       "      <td>0</td>\n",
       "      <td>1</td>\n",
       "      <td>0</td>\n",
       "      <td>20151009</td>\n",
       "      <td>20151011</td>\n",
       "    </tr>\n",
       "    <tr>\n",
       "      <th>1</th>\n",
       "      <td>UJ</td>\n",
       "      <td>0</td>\n",
       "      <td>0</td>\n",
       "      <td>0</td>\n",
       "      <td>0</td>\n",
       "      <td>0</td>\n",
       "      <td>0</td>\n",
       "      <td>1</td>\n",
       "      <td>20151009</td>\n",
       "      <td>20151011</td>\n",
       "    </tr>\n",
       "    <tr>\n",
       "      <th>2</th>\n",
       "      <td>T6</td>\n",
       "      <td>0</td>\n",
       "      <td>0</td>\n",
       "      <td>0</td>\n",
       "      <td>0</td>\n",
       "      <td>1</td>\n",
       "      <td>0</td>\n",
       "      <td>0</td>\n",
       "      <td>20151009</td>\n",
       "      <td>20151011</td>\n",
       "    </tr>\n",
       "    <tr>\n",
       "      <th>3</th>\n",
       "      <td>T5</td>\n",
       "      <td>1</td>\n",
       "      <td>1</td>\n",
       "      <td>1</td>\n",
       "      <td>1</td>\n",
       "      <td>0</td>\n",
       "      <td>0</td>\n",
       "      <td>0</td>\n",
       "      <td>20151012</td>\n",
       "      <td>20151015</td>\n",
       "    </tr>\n",
       "    <tr>\n",
       "      <th>4</th>\n",
       "      <td>T2_1</td>\n",
       "      <td>0</td>\n",
       "      <td>0</td>\n",
       "      <td>0</td>\n",
       "      <td>0</td>\n",
       "      <td>0</td>\n",
       "      <td>1</td>\n",
       "      <td>0</td>\n",
       "      <td>20151016</td>\n",
       "      <td>20151018</td>\n",
       "    </tr>\n",
       "  </tbody>\n",
       "</table>\n",
       "</div>"
      ],
      "text/plain": [
       "  service_id  monday  tuesday  wednesday  thursday  friday  saturday  sunday  \\\n",
       "0         T2       0        0          0         0       0         1       0   \n",
       "1         UJ       0        0          0         0       0         0       1   \n",
       "2         T6       0        0          0         0       1         0       0   \n",
       "3         T5       1        1          1         1       0         0       0   \n",
       "4       T2_1       0        0          0         0       0         1       0   \n",
       "\n",
       "   start_date  end_date  \n",
       "0    20151009  20151011  \n",
       "1    20151009  20151011  \n",
       "2    20151009  20151011  \n",
       "3    20151012  20151015  \n",
       "4    20151016  20151018  "
      ]
     },
     "execution_count": 37,
     "metadata": {},
     "output_type": "execute_result"
    }
   ],
   "source": [
    "# first few rows of the data\n",
    "calendar_df.head()"
   ]
  },
  {
   "cell_type": "code",
   "execution_count": 38,
   "metadata": {},
   "outputs": [],
   "source": [
    "# reading the calendar dates data from txt file\n",
    "calendard_df = pd.read_csv('calendar_dates.txt', sep=',')"
   ]
  },
  {
   "cell_type": "code",
   "execution_count": 39,
   "metadata": {},
   "outputs": [
    {
     "data": {
      "text/html": [
       "<div>\n",
       "<style scoped>\n",
       "    .dataframe tbody tr th:only-of-type {\n",
       "        vertical-align: middle;\n",
       "    }\n",
       "\n",
       "    .dataframe tbody tr th {\n",
       "        vertical-align: top;\n",
       "    }\n",
       "\n",
       "    .dataframe thead th {\n",
       "        text-align: right;\n",
       "    }\n",
       "</style>\n",
       "<table border=\"1\" class=\"dataframe\">\n",
       "  <thead>\n",
       "    <tr style=\"text-align: right;\">\n",
       "      <th></th>\n",
       "      <th>service_id</th>\n",
       "      <th>date</th>\n",
       "      <th>exception_type</th>\n",
       "    </tr>\n",
       "  </thead>\n",
       "  <tbody>\n",
       "    <tr>\n",
       "      <th>0</th>\n",
       "      <td>T0</td>\n",
       "      <td>20151103</td>\n",
       "      <td>2</td>\n",
       "    </tr>\n",
       "    <tr>\n",
       "      <th>1</th>\n",
       "      <td>T0+a5</td>\n",
       "      <td>20151103</td>\n",
       "      <td>2</td>\n",
       "    </tr>\n",
       "  </tbody>\n",
       "</table>\n",
       "</div>"
      ],
      "text/plain": [
       "  service_id      date  exception_type\n",
       "0         T0  20151103               2\n",
       "1      T0+a5  20151103               2"
      ]
     },
     "execution_count": 39,
     "metadata": {},
     "output_type": "execute_result"
    }
   ],
   "source": [
    "# first few rows of the data\n",
    "calendard_df.head()"
   ]
  },
  {
   "cell_type": "code",
   "execution_count": 40,
   "metadata": {},
   "outputs": [],
   "source": [
    "# reading the routes data from txt file\n",
    "routes_df = pd.read_csv('routes.txt', sep=',')"
   ]
  },
  {
   "cell_type": "code",
   "execution_count": 41,
   "metadata": {},
   "outputs": [
    {
     "data": {
      "text/html": [
       "<div>\n",
       "<style scoped>\n",
       "    .dataframe tbody tr th:only-of-type {\n",
       "        vertical-align: middle;\n",
       "    }\n",
       "\n",
       "    .dataframe tbody tr th {\n",
       "        vertical-align: top;\n",
       "    }\n",
       "\n",
       "    .dataframe thead th {\n",
       "        text-align: right;\n",
       "    }\n",
       "</style>\n",
       "<table border=\"1\" class=\"dataframe\">\n",
       "  <thead>\n",
       "    <tr style=\"text-align: right;\">\n",
       "      <th></th>\n",
       "      <th>route_id</th>\n",
       "      <th>agency_id</th>\n",
       "      <th>route_short_name</th>\n",
       "      <th>route_long_name</th>\n",
       "      <th>route_type</th>\n",
       "    </tr>\n",
       "  </thead>\n",
       "  <tbody>\n",
       "    <tr>\n",
       "      <th>0</th>\n",
       "      <td>2-ALM-B-mjp-1</td>\n",
       "      <td>1</td>\n",
       "      <td>Alamein</td>\n",
       "      <td>Alamein - City (Flinders Street)</td>\n",
       "      <td>2</td>\n",
       "    </tr>\n",
       "    <tr>\n",
       "      <th>1</th>\n",
       "      <td>2-ALM-C-mjp-1</td>\n",
       "      <td>1</td>\n",
       "      <td>Alamein</td>\n",
       "      <td>Alamein - City (Flinders Street)</td>\n",
       "      <td>2</td>\n",
       "    </tr>\n",
       "    <tr>\n",
       "      <th>2</th>\n",
       "      <td>2-ALM-D-mjp-1</td>\n",
       "      <td>1</td>\n",
       "      <td>Alamein</td>\n",
       "      <td>Alamein - City (Flinders Street)</td>\n",
       "      <td>2</td>\n",
       "    </tr>\n",
       "    <tr>\n",
       "      <th>3</th>\n",
       "      <td>2-ALM-E-mjp-1</td>\n",
       "      <td>1</td>\n",
       "      <td>Alamein</td>\n",
       "      <td>Alamein - City (Flinders Street)</td>\n",
       "      <td>2</td>\n",
       "    </tr>\n",
       "    <tr>\n",
       "      <th>4</th>\n",
       "      <td>2-ALM-F-mjp-1</td>\n",
       "      <td>1</td>\n",
       "      <td>Alamein</td>\n",
       "      <td>Alamein - City (Flinders Street)</td>\n",
       "      <td>2</td>\n",
       "    </tr>\n",
       "  </tbody>\n",
       "</table>\n",
       "</div>"
      ],
      "text/plain": [
       "        route_id  agency_id route_short_name  \\\n",
       "0  2-ALM-B-mjp-1          1          Alamein   \n",
       "1  2-ALM-C-mjp-1          1          Alamein   \n",
       "2  2-ALM-D-mjp-1          1          Alamein   \n",
       "3  2-ALM-E-mjp-1          1          Alamein   \n",
       "4  2-ALM-F-mjp-1          1          Alamein   \n",
       "\n",
       "                    route_long_name  route_type  \n",
       "0  Alamein - City (Flinders Street)           2  \n",
       "1  Alamein - City (Flinders Street)           2  \n",
       "2  Alamein - City (Flinders Street)           2  \n",
       "3  Alamein - City (Flinders Street)           2  \n",
       "4  Alamein - City (Flinders Street)           2  "
      ]
     },
     "execution_count": 41,
     "metadata": {},
     "output_type": "execute_result"
    }
   ],
   "source": [
    "# first few rows of the data\n",
    "routes_df.head()"
   ]
  },
  {
   "cell_type": "code",
   "execution_count": 42,
   "metadata": {},
   "outputs": [],
   "source": [
    "# reading the shapes data from txt file\n",
    "shapes_df = pd.read_csv('shapes.txt', sep=',')"
   ]
  },
  {
   "cell_type": "code",
   "execution_count": 43,
   "metadata": {},
   "outputs": [
    {
     "data": {
      "text/html": [
       "<div>\n",
       "<style scoped>\n",
       "    .dataframe tbody tr th:only-of-type {\n",
       "        vertical-align: middle;\n",
       "    }\n",
       "\n",
       "    .dataframe tbody tr th {\n",
       "        vertical-align: top;\n",
       "    }\n",
       "\n",
       "    .dataframe thead th {\n",
       "        text-align: right;\n",
       "    }\n",
       "</style>\n",
       "<table border=\"1\" class=\"dataframe\">\n",
       "  <thead>\n",
       "    <tr style=\"text-align: right;\">\n",
       "      <th></th>\n",
       "      <th>shape_id</th>\n",
       "      <th>shape_pt_lat</th>\n",
       "      <th>shape_pt_lon</th>\n",
       "      <th>shape_pt_sequence</th>\n",
       "      <th>shape_dist_traveled</th>\n",
       "    </tr>\n",
       "  </thead>\n",
       "  <tbody>\n",
       "    <tr>\n",
       "      <th>0</th>\n",
       "      <td>2-ain-mjp-1.1.H</td>\n",
       "      <td>-37.818631</td>\n",
       "      <td>144.951994</td>\n",
       "      <td>1</td>\n",
       "      <td>0.000000</td>\n",
       "    </tr>\n",
       "    <tr>\n",
       "      <th>1</th>\n",
       "      <td>2-ain-mjp-1.1.H</td>\n",
       "      <td>-37.817425</td>\n",
       "      <td>144.951050</td>\n",
       "      <td>2</td>\n",
       "      <td>157.543645</td>\n",
       "    </tr>\n",
       "    <tr>\n",
       "      <th>2</th>\n",
       "      <td>2-ain-mjp-1.1.H</td>\n",
       "      <td>-37.817241</td>\n",
       "      <td>144.950828</td>\n",
       "      <td>3</td>\n",
       "      <td>185.827916</td>\n",
       "    </tr>\n",
       "    <tr>\n",
       "      <th>3</th>\n",
       "      <td>2-ain-mjp-1.1.H</td>\n",
       "      <td>-37.816327</td>\n",
       "      <td>144.950047</td>\n",
       "      <td>4</td>\n",
       "      <td>308.469671</td>\n",
       "    </tr>\n",
       "    <tr>\n",
       "      <th>4</th>\n",
       "      <td>2-ain-mjp-1.1.H</td>\n",
       "      <td>-37.816127</td>\n",
       "      <td>144.949950</td>\n",
       "      <td>5</td>\n",
       "      <td>332.239399</td>\n",
       "    </tr>\n",
       "  </tbody>\n",
       "</table>\n",
       "</div>"
      ],
      "text/plain": [
       "          shape_id  shape_pt_lat  shape_pt_lon  shape_pt_sequence  \\\n",
       "0  2-ain-mjp-1.1.H    -37.818631    144.951994                  1   \n",
       "1  2-ain-mjp-1.1.H    -37.817425    144.951050                  2   \n",
       "2  2-ain-mjp-1.1.H    -37.817241    144.950828                  3   \n",
       "3  2-ain-mjp-1.1.H    -37.816327    144.950047                  4   \n",
       "4  2-ain-mjp-1.1.H    -37.816127    144.949950                  5   \n",
       "\n",
       "   shape_dist_traveled  \n",
       "0             0.000000  \n",
       "1           157.543645  \n",
       "2           185.827916  \n",
       "3           308.469671  \n",
       "4           332.239399  "
      ]
     },
     "execution_count": 43,
     "metadata": {},
     "output_type": "execute_result"
    }
   ],
   "source": [
    "# first few rows of the data\n",
    "shapes_df.head()"
   ]
  },
  {
   "cell_type": "code",
   "execution_count": 44,
   "metadata": {},
   "outputs": [],
   "source": [
    "# reading the stops data from txt file\n",
    "stops_df = pd.read_csv('stops.txt', sep=',')"
   ]
  },
  {
   "cell_type": "code",
   "execution_count": 45,
   "metadata": {},
   "outputs": [
    {
     "data": {
      "text/html": [
       "<div>\n",
       "<style scoped>\n",
       "    .dataframe tbody tr th:only-of-type {\n",
       "        vertical-align: middle;\n",
       "    }\n",
       "\n",
       "    .dataframe tbody tr th {\n",
       "        vertical-align: top;\n",
       "    }\n",
       "\n",
       "    .dataframe thead th {\n",
       "        text-align: right;\n",
       "    }\n",
       "</style>\n",
       "<table border=\"1\" class=\"dataframe\">\n",
       "  <thead>\n",
       "    <tr style=\"text-align: right;\">\n",
       "      <th></th>\n",
       "      <th>stop_id</th>\n",
       "      <th>stop_name</th>\n",
       "      <th>stop_short_name</th>\n",
       "      <th>stop_lat</th>\n",
       "      <th>stop_lon</th>\n",
       "    </tr>\n",
       "  </thead>\n",
       "  <tbody>\n",
       "    <tr>\n",
       "      <th>0</th>\n",
       "      <td>15351</td>\n",
       "      <td>Sunbury Railway Station</td>\n",
       "      <td>Sunbury</td>\n",
       "      <td>-37.579091</td>\n",
       "      <td>144.727319</td>\n",
       "    </tr>\n",
       "    <tr>\n",
       "      <th>1</th>\n",
       "      <td>15353</td>\n",
       "      <td>Diggers Rest Railway Station</td>\n",
       "      <td>Diggers Rest</td>\n",
       "      <td>-37.627017</td>\n",
       "      <td>144.719922</td>\n",
       "    </tr>\n",
       "    <tr>\n",
       "      <th>2</th>\n",
       "      <td>19827</td>\n",
       "      <td>Stony Point Railway Station</td>\n",
       "      <td>Crib Point</td>\n",
       "      <td>-38.374235</td>\n",
       "      <td>145.221837</td>\n",
       "    </tr>\n",
       "    <tr>\n",
       "      <th>3</th>\n",
       "      <td>19828</td>\n",
       "      <td>Crib Point Railway Station</td>\n",
       "      <td>Crib Point</td>\n",
       "      <td>-38.366123</td>\n",
       "      <td>145.204043</td>\n",
       "    </tr>\n",
       "    <tr>\n",
       "      <th>4</th>\n",
       "      <td>19829</td>\n",
       "      <td>Morradoo Railway Station</td>\n",
       "      <td>Crib Point</td>\n",
       "      <td>-38.354033</td>\n",
       "      <td>145.189602</td>\n",
       "    </tr>\n",
       "  </tbody>\n",
       "</table>\n",
       "</div>"
      ],
      "text/plain": [
       "   stop_id                     stop_name stop_short_name   stop_lat  \\\n",
       "0    15351       Sunbury Railway Station         Sunbury -37.579091   \n",
       "1    15353  Diggers Rest Railway Station    Diggers Rest -37.627017   \n",
       "2    19827   Stony Point Railway Station      Crib Point -38.374235   \n",
       "3    19828    Crib Point Railway Station      Crib Point -38.366123   \n",
       "4    19829      Morradoo Railway Station      Crib Point -38.354033   \n",
       "\n",
       "     stop_lon  \n",
       "0  144.727319  \n",
       "1  144.719922  \n",
       "2  145.221837  \n",
       "3  145.204043  \n",
       "4  145.189602  "
      ]
     },
     "execution_count": 45,
     "metadata": {},
     "output_type": "execute_result"
    }
   ],
   "source": [
    "# first few rows of the data\n",
    "stops_df.head()"
   ]
  },
  {
   "cell_type": "code",
   "execution_count": 46,
   "metadata": {},
   "outputs": [
    {
     "data": {
      "text/html": [
       "<div>\n",
       "<style scoped>\n",
       "    .dataframe tbody tr th:only-of-type {\n",
       "        vertical-align: middle;\n",
       "    }\n",
       "\n",
       "    .dataframe tbody tr th {\n",
       "        vertical-align: top;\n",
       "    }\n",
       "\n",
       "    .dataframe thead th {\n",
       "        text-align: right;\n",
       "    }\n",
       "</style>\n",
       "<table border=\"1\" class=\"dataframe\">\n",
       "  <thead>\n",
       "    <tr style=\"text-align: right;\">\n",
       "      <th></th>\n",
       "      <th>stop_id</th>\n",
       "      <th>stop_name</th>\n",
       "      <th>stop_short_name</th>\n",
       "      <th>stop_lat</th>\n",
       "      <th>stop_lon</th>\n",
       "    </tr>\n",
       "  </thead>\n",
       "  <tbody>\n",
       "    <tr>\n",
       "      <th>29</th>\n",
       "      <td>19854</td>\n",
       "      <td>Flinders Street Railway Station</td>\n",
       "      <td>Melbourne City</td>\n",
       "      <td>-37.818305</td>\n",
       "      <td>144.966964</td>\n",
       "    </tr>\n",
       "  </tbody>\n",
       "</table>\n",
       "</div>"
      ],
      "text/plain": [
       "    stop_id                        stop_name stop_short_name   stop_lat  \\\n",
       "29    19854  Flinders Street Railway Station  Melbourne City -37.818305   \n",
       "\n",
       "      stop_lon  \n",
       "29  144.966964  "
      ]
     },
     "execution_count": 46,
     "metadata": {},
     "output_type": "execute_result"
    }
   ],
   "source": [
    "# getting stop_id for Flinders Street Railway Station\n",
    "stops_df[stops_df.stop_name=='Flinders Street Railway Station']"
   ]
  },
  {
   "cell_type": "code",
   "execution_count": 47,
   "metadata": {},
   "outputs": [],
   "source": [
    "# reading the trips data from txt file\n",
    "trips_df = pd.read_csv('trips.txt', sep=',')"
   ]
  },
  {
   "cell_type": "code",
   "execution_count": 48,
   "metadata": {},
   "outputs": [
    {
     "data": {
      "text/html": [
       "<div>\n",
       "<style scoped>\n",
       "    .dataframe tbody tr th:only-of-type {\n",
       "        vertical-align: middle;\n",
       "    }\n",
       "\n",
       "    .dataframe tbody tr th {\n",
       "        vertical-align: top;\n",
       "    }\n",
       "\n",
       "    .dataframe thead th {\n",
       "        text-align: right;\n",
       "    }\n",
       "</style>\n",
       "<table border=\"1\" class=\"dataframe\">\n",
       "  <thead>\n",
       "    <tr style=\"text-align: right;\">\n",
       "      <th></th>\n",
       "      <th>route_id</th>\n",
       "      <th>service_id</th>\n",
       "      <th>trip_id</th>\n",
       "      <th>shape_id</th>\n",
       "      <th>trip_headsign</th>\n",
       "      <th>direction_id</th>\n",
       "    </tr>\n",
       "  </thead>\n",
       "  <tbody>\n",
       "    <tr>\n",
       "      <th>0</th>\n",
       "      <td>2-ALM-F-mjp-1</td>\n",
       "      <td>T0</td>\n",
       "      <td>17067982.T0.2-ALM-F-mjp-1.1.H</td>\n",
       "      <td>2-ALM-F-mjp-1.1.H</td>\n",
       "      <td>City (Flinders Street)</td>\n",
       "      <td>0</td>\n",
       "    </tr>\n",
       "    <tr>\n",
       "      <th>1</th>\n",
       "      <td>2-ALM-F-mjp-1</td>\n",
       "      <td>T0</td>\n",
       "      <td>17067988.T0.2-ALM-F-mjp-1.1.H</td>\n",
       "      <td>2-ALM-F-mjp-1.1.H</td>\n",
       "      <td>City (Flinders Street)</td>\n",
       "      <td>0</td>\n",
       "    </tr>\n",
       "    <tr>\n",
       "      <th>2</th>\n",
       "      <td>2-ALM-F-mjp-1</td>\n",
       "      <td>T0</td>\n",
       "      <td>17067992.T0.2-ALM-F-mjp-1.1.H</td>\n",
       "      <td>2-ALM-F-mjp-1.1.H</td>\n",
       "      <td>City (Flinders Street)</td>\n",
       "      <td>0</td>\n",
       "    </tr>\n",
       "    <tr>\n",
       "      <th>3</th>\n",
       "      <td>2-ALM-F-mjp-1</td>\n",
       "      <td>T0</td>\n",
       "      <td>17067999.T0.2-ALM-F-mjp-1.1.H</td>\n",
       "      <td>2-ALM-F-mjp-1.1.H</td>\n",
       "      <td>City (Flinders Street)</td>\n",
       "      <td>0</td>\n",
       "    </tr>\n",
       "    <tr>\n",
       "      <th>4</th>\n",
       "      <td>2-ALM-F-mjp-1</td>\n",
       "      <td>T0</td>\n",
       "      <td>17068003.T0.2-ALM-F-mjp-1.1.H</td>\n",
       "      <td>2-ALM-F-mjp-1.1.H</td>\n",
       "      <td>City (Flinders Street)</td>\n",
       "      <td>0</td>\n",
       "    </tr>\n",
       "  </tbody>\n",
       "</table>\n",
       "</div>"
      ],
      "text/plain": [
       "        route_id service_id                        trip_id           shape_id  \\\n",
       "0  2-ALM-F-mjp-1         T0  17067982.T0.2-ALM-F-mjp-1.1.H  2-ALM-F-mjp-1.1.H   \n",
       "1  2-ALM-F-mjp-1         T0  17067988.T0.2-ALM-F-mjp-1.1.H  2-ALM-F-mjp-1.1.H   \n",
       "2  2-ALM-F-mjp-1         T0  17067992.T0.2-ALM-F-mjp-1.1.H  2-ALM-F-mjp-1.1.H   \n",
       "3  2-ALM-F-mjp-1         T0  17067999.T0.2-ALM-F-mjp-1.1.H  2-ALM-F-mjp-1.1.H   \n",
       "4  2-ALM-F-mjp-1         T0  17068003.T0.2-ALM-F-mjp-1.1.H  2-ALM-F-mjp-1.1.H   \n",
       "\n",
       "            trip_headsign  direction_id  \n",
       "0  City (Flinders Street)             0  \n",
       "1  City (Flinders Street)             0  \n",
       "2  City (Flinders Street)             0  \n",
       "3  City (Flinders Street)             0  \n",
       "4  City (Flinders Street)             0  "
      ]
     },
     "execution_count": 48,
     "metadata": {},
     "output_type": "execute_result"
    }
   ],
   "source": [
    "# first few rows of the data\n",
    "trips_df.head()"
   ]
  },
  {
   "cell_type": "code",
   "execution_count": 49,
   "metadata": {},
   "outputs": [],
   "source": [
    "# reading the stop times data from txt file\n",
    "stopt_df = pd.read_csv('stop_times.txt', sep=',')"
   ]
  },
  {
   "cell_type": "markdown",
   "metadata": {},
   "source": [
    "### Formatting departure and arrival  times to time format\n",
    "#### The departure times need to be changed from string to time format before they can be used. Therefore, first they are split and converted to int and the rows where time is greater than 24 are removed. Then they are formatted into the required time format."
   ]
  },
  {
   "cell_type": "code",
   "execution_count": 50,
   "metadata": {},
   "outputs": [],
   "source": [
    "# splitting the departure time and coverting into int\n",
    "stopt_df['departure_time'] = stopt_df['departure_time'].apply(lambda x: [int(a) for a in x.split(':')])\n",
    "# removing rows where time is greater than 24\n",
    "stopt_df = stopt_df[stopt_df.departure_time.apply(lambda x: x[0]) < 24]\n",
    "# converting departure time to datetime format\n",
    "stopt_df['departure_time'] = stopt_df.departure_time.apply(lambda x: datetime.time(x[0], x[1], x[2]))"
   ]
  },
  {
   "cell_type": "code",
   "execution_count": 51,
   "metadata": {},
   "outputs": [],
   "source": [
    "# splitting the arrival time and coverting into int\n",
    "stopt_df['arrival_time'] = stopt_df['arrival_time'].apply(lambda x: [int(a) for a in x.split(':')])\n",
    "# removing rows where time is greater than 24\n",
    "stopt_df = stopt_df[stopt_df.arrival_time.apply(lambda x: x[0]) < 24]\n",
    "# converting arrival time to datetime format\n",
    "stopt_df['arrival_time'] = stopt_df.arrival_time.apply(lambda x: datetime.time(x[0], x[1], x[2]))"
   ]
  },
  {
   "cell_type": "code",
   "execution_count": 52,
   "metadata": {},
   "outputs": [
    {
     "data": {
      "text/html": [
       "<div>\n",
       "<style scoped>\n",
       "    .dataframe tbody tr th:only-of-type {\n",
       "        vertical-align: middle;\n",
       "    }\n",
       "\n",
       "    .dataframe tbody tr th {\n",
       "        vertical-align: top;\n",
       "    }\n",
       "\n",
       "    .dataframe thead th {\n",
       "        text-align: right;\n",
       "    }\n",
       "</style>\n",
       "<table border=\"1\" class=\"dataframe\">\n",
       "  <thead>\n",
       "    <tr style=\"text-align: right;\">\n",
       "      <th></th>\n",
       "      <th>trip_id</th>\n",
       "      <th>arrival_time</th>\n",
       "      <th>departure_time</th>\n",
       "      <th>stop_id</th>\n",
       "      <th>stop_sequence</th>\n",
       "      <th>stop_headsign</th>\n",
       "      <th>pickup_type</th>\n",
       "      <th>drop_off_type</th>\n",
       "      <th>shape_dist_traveled</th>\n",
       "    </tr>\n",
       "  </thead>\n",
       "  <tbody>\n",
       "    <tr>\n",
       "      <th>0</th>\n",
       "      <td>17182517.T2.2-ALM-B-mjp-1.1.H</td>\n",
       "      <td>04:57:00</td>\n",
       "      <td>04:57:00</td>\n",
       "      <td>19847</td>\n",
       "      <td>1</td>\n",
       "      <td>NaN</td>\n",
       "      <td>0</td>\n",
       "      <td>0</td>\n",
       "      <td>0.000000</td>\n",
       "    </tr>\n",
       "    <tr>\n",
       "      <th>1</th>\n",
       "      <td>17182517.T2.2-ALM-B-mjp-1.1.H</td>\n",
       "      <td>04:58:00</td>\n",
       "      <td>04:58:00</td>\n",
       "      <td>19848</td>\n",
       "      <td>2</td>\n",
       "      <td>NaN</td>\n",
       "      <td>0</td>\n",
       "      <td>0</td>\n",
       "      <td>723.017818</td>\n",
       "    </tr>\n",
       "    <tr>\n",
       "      <th>2</th>\n",
       "      <td>17182517.T2.2-ALM-B-mjp-1.1.H</td>\n",
       "      <td>05:00:00</td>\n",
       "      <td>05:00:00</td>\n",
       "      <td>19849</td>\n",
       "      <td>3</td>\n",
       "      <td>NaN</td>\n",
       "      <td>0</td>\n",
       "      <td>0</td>\n",
       "      <td>1951.735072</td>\n",
       "    </tr>\n",
       "    <tr>\n",
       "      <th>3</th>\n",
       "      <td>17182517.T2.2-ALM-B-mjp-1.1.H</td>\n",
       "      <td>05:02:00</td>\n",
       "      <td>05:02:00</td>\n",
       "      <td>19850</td>\n",
       "      <td>4</td>\n",
       "      <td>NaN</td>\n",
       "      <td>0</td>\n",
       "      <td>0</td>\n",
       "      <td>2899.073349</td>\n",
       "    </tr>\n",
       "    <tr>\n",
       "      <th>4</th>\n",
       "      <td>17182517.T2.2-ALM-B-mjp-1.1.H</td>\n",
       "      <td>05:04:00</td>\n",
       "      <td>05:04:00</td>\n",
       "      <td>19851</td>\n",
       "      <td>5</td>\n",
       "      <td>NaN</td>\n",
       "      <td>0</td>\n",
       "      <td>0</td>\n",
       "      <td>3927.090952</td>\n",
       "    </tr>\n",
       "  </tbody>\n",
       "</table>\n",
       "</div>"
      ],
      "text/plain": [
       "                         trip_id arrival_time departure_time  stop_id  \\\n",
       "0  17182517.T2.2-ALM-B-mjp-1.1.H     04:57:00       04:57:00    19847   \n",
       "1  17182517.T2.2-ALM-B-mjp-1.1.H     04:58:00       04:58:00    19848   \n",
       "2  17182517.T2.2-ALM-B-mjp-1.1.H     05:00:00       05:00:00    19849   \n",
       "3  17182517.T2.2-ALM-B-mjp-1.1.H     05:02:00       05:02:00    19850   \n",
       "4  17182517.T2.2-ALM-B-mjp-1.1.H     05:04:00       05:04:00    19851   \n",
       "\n",
       "   stop_sequence  stop_headsign  pickup_type  drop_off_type  \\\n",
       "0              1            NaN            0              0   \n",
       "1              2            NaN            0              0   \n",
       "2              3            NaN            0              0   \n",
       "3              4            NaN            0              0   \n",
       "4              5            NaN            0              0   \n",
       "\n",
       "   shape_dist_traveled  \n",
       "0             0.000000  \n",
       "1           723.017818  \n",
       "2          1951.735072  \n",
       "3          2899.073349  \n",
       "4          3927.090952  "
      ]
     },
     "execution_count": 52,
     "metadata": {},
     "output_type": "execute_result"
    }
   ],
   "source": [
    "# first few rows of the data\n",
    "stopt_df.head()"
   ]
  },
  {
   "cell_type": "markdown",
   "metadata": {},
   "source": [
    "### Merging dataframes\n",
    "#### The trips dataframe is filtered with only rows containing headsign as 'City (Flinders Street)', since we are only interested in trips that go to Flinders Street Station. Also, the data in calendar dataframe is filtered based on rows where a train travels on weekdays. These dataframes are then merged."
   ]
  },
  {
   "cell_type": "code",
   "execution_count": 53,
   "metadata": {},
   "outputs": [],
   "source": [
    "# filtering trips df where headsign = 'City (Flinders Street)'\n",
    "temp_df = trips_df[(trips_df.trip_headsign == 'City (Flinders Street)')]\n",
    "# filtering calendar df where train travels on a weekend\n",
    "calendar_df = calendar_df[(calendar_df.monday==1) | (calendar_df.tuesday==1) |\\\n",
    "                         (calendar_df.wednesday==1) | (calendar_df.thursday==1) |\\\n",
    "                         (calendar_df.friday==1)]\n",
    "# merging the two dataframes\n",
    "merged_df = pd.merge(temp_df, calendar_df)"
   ]
  },
  {
   "cell_type": "markdown",
   "metadata": {},
   "source": [
    "### Transfer Flag Function\n",
    "#### The transfer flag function  determines whether there is a direct train to flinders or not. The function determines this by checking if there are items in the join df. The join df is an integration of trips, calendar and stop times data which are filtered on the requirements given in the specifications namely, nearest stop id, departure time between 7 and 9 am, train goes to flinders and runs on weekdays."
   ]
  },
  {
   "cell_type": "code",
   "execution_count": 54,
   "metadata": {},
   "outputs": [],
   "source": [
    "# determines whether there is a direct train to flinders\n",
    "def get_flag(s_id):\n",
    "    # filters stop time dataframe on departure time between 7-9\n",
    "    temp_df = stopt_df[(datetime.time(7, 0) <= stopt_df.departure_time) & (stopt_df.departure_time <= datetime.time(9, 0))]\n",
    "    # filters temp df on stop id\n",
    "    temp_df = temp_df[(temp_df.stop_id == s_id)]\n",
    "    # joining the dfs\n",
    "    join_df = pd.merge(temp_df, merged_df)\n",
    "    # if df has entries, there is a direct train to flinders\n",
    "    if len(join_df) > 0:\n",
    "        return 0\n",
    "    else:\n",
    "        return 1"
   ]
  },
  {
   "cell_type": "markdown",
   "metadata": {},
   "source": [
    "### Average travel time to CBD\n",
    "#### We first filter the stop times data on departure time and the passed stop id and then join it with the merged data containing trip and day info. Then we create a second join df filtered on stop id for flinders and having same trip ids as join df. We again merge it with the merged df. Next we calculate the average travel time by subtracting the arrival time in join_df2 with the departure time in join_df. Next we calculate the average time in minutes and return it. "
   ]
  },
  {
   "cell_type": "code",
   "execution_count": 55,
   "metadata": {},
   "outputs": [],
   "source": [
    "# returns the average time taken to reach CBD from nearest station\n",
    "def get_time(s_id):\n",
    "    # if nearest station is flinders travel time is 0\n",
    "    if s_id == 19854:\n",
    "        return 0\n",
    "    # otherwise\n",
    "    else:\n",
    "        # filters stop time dataframe on departure time between 7-9 and given stop id\n",
    "        temp_df = stopt_df[(datetime.time(7, 0) <= stopt_df.departure_time)\\\n",
    "                           & (stopt_df.departure_time <= datetime.time(9, 0))\\\n",
    "                           & (stopt_df.stop_id == s_id)]\n",
    "        # joining the dfs\n",
    "        join_df = pd.merge(temp_df, merged_df)\n",
    "        \n",
    "        # filters stop times on trip ids in the above join df and stops id for flinders ie 19854\n",
    "        temp_df2 = stopt_df[(stopt_df.trip_id.isin(join_df.trip_id)) & (stopt_df.stop_id == 19854)]\n",
    "        # joining the dfs\n",
    "        join_df2 = pd.merge(temp_df2, merged_df)\n",
    "        \n",
    "        # total time\n",
    "        total = 0\n",
    "        # counter\n",
    "        c = 0\n",
    "        \n",
    "        # join_df contains nearest stop id data\n",
    "        for i in range(len(join_df)):\n",
    "            # trip id for df with nearest stop id\n",
    "            trip1 = join_df.trip_id[i]\n",
    "            # dummy date\n",
    "            date = datetime.date(1, 1, 1)\n",
    "            # datetime for trip\n",
    "            datetime1 = datetime.datetime.combine(date, join_df.departure_time[i])\n",
    "            # join_df2 contains data of flinders stop\n",
    "            for j in range(len(join_df2)):\n",
    "                # check if trip id match\n",
    "                if trip1 == join_df2.trip_id[j]:\n",
    "                    datetime2 = datetime.datetime.combine(date, join_df2.arrival_time[j])\n",
    "                    # time difference\n",
    "                    x = datetime2 - datetime1\n",
    "                    # total time difference in seconds\n",
    "                    secs = x.total_seconds()\n",
    "                    # changing to nearest minute\n",
    "                    t = secs/60\n",
    "                    # adding to total time\n",
    "                    total += t\n",
    "                    # incrementing counter\n",
    "                    c += 1\n",
    "                    break\n",
    "        # return the integer part of average time\n",
    "        return int(total/c)"
   ]
  },
  {
   "cell_type": "markdown",
   "metadata": {},
   "source": [
    "### Nearest distance\n",
    "#### The below functions help in calculating the distances of the passed latitude and longitude with the geolocations in the passed dataframe. The distances are to train station, shopping center, hospital and supermarket."
   ]
  },
  {
   "cell_type": "code",
   "execution_count": 56,
   "metadata": {},
   "outputs": [],
   "source": [
    "# calculates the Haversine Distance\n",
    "def arc_dist(lat1, lon1, lat2, lon2):\n",
    "    r = 6378\n",
    "    phi1 = np.radians(lat1)\n",
    "    phi2 = np.radians(lat2)\n",
    "    delta_phi = np.radians(lat2 - lat1)\n",
    "    delta_lambda = np.radians(lon2 - lon1)\n",
    "    a = np.sin(delta_phi/2)**2 + np.cos(phi1) * np.cos(phi2) * np.sin(delta_lambda/2)**2\n",
    "    res = r * (2 * np.arctan2(np.sqrt(a), np.sqrt(1 - a)))\n",
    "    return np.round(res, 3)"
   ]
  },
  {
   "cell_type": "code",
   "execution_count": 57,
   "metadata": {},
   "outputs": [],
   "source": [
    "# returns a list of distances to the train stations\n",
    "def get_train_dist(df, lat, lng):\n",
    "    # to store distance to different stations\n",
    "    dist = []\n",
    "    # for every long and lat in train df calls the arc dist function\n",
    "    # and appends distances to dist\n",
    "    for j in range(len(df)):\n",
    "        # latitude\n",
    "        lat_df = df.stop_lat[j]\n",
    "        # longitue\n",
    "        lng_df = df.stop_lon[j]\n",
    "        # call the arc_dist function\n",
    "        dist.append(arc_dist(lat, lng, lat_df, lng_df))\n",
    "    # list of distances\n",
    "    return dist"
   ]
  },
  {
   "cell_type": "code",
   "execution_count": 58,
   "metadata": {},
   "outputs": [],
   "source": [
    "# returns a list of distances to the hospital, supermarket\n",
    "# or shopping center whichever df is passed\n",
    "def get_dist(df, lat, lng):\n",
    "    # to store distances\n",
    "    dist = []\n",
    "    # for every long and lat in df calls the arc dist function\n",
    "    # and appends distances to dist\n",
    "    for j in range(len(df)):\n",
    "        lat_df = df.lat[j]\n",
    "        lng_df = df.lng[j]\n",
    "        # call the arc_dist function\n",
    "        dist.append(arc_dist(lat, lng, lat_df, lng_df))\n",
    "    # list of distances\n",
    "    return dist"
   ]
  },
  {
   "cell_type": "markdown",
   "metadata": {},
   "source": [
    "### Get Suburb Function\n",
    "#### The function below is used to determine what suburb the property belongs to. Thois is achieved by using fiona and shapely to read the shape file and then generate a point and boundary in which the point lies. The function then gets the suburb name from the file and returns it."
   ]
  },
  {
   "cell_type": "code",
   "execution_count": 59,
   "metadata": {
    "scrolled": true
   },
   "outputs": [],
   "source": [
    "# determine the suburb for property\n",
    "def get_suburb(lat, lng):\n",
    "    # open shape file\n",
    "    with fiona.open(r\"C:\\Users\\vyomc\\Downloads\\vic_suburb_boundary\\VIC_LOCALITY_POLYGON_shp.shp\") as fiona_collection:\n",
    "        # generate point using the passed long and lat\n",
    "        point = shapely.geometry.Point(lng, lat)\n",
    "        for record in fiona_collection:\n",
    "            # Use Shapely to create the polygon\n",
    "            shape = shapely.geometry.asShape(record['geometry'])\n",
    "            # return suburb name if shape contains point\n",
    "            if shape.contains(point):\n",
    "                return record['properties']['VIC_LOCA_2']"
   ]
  },
  {
   "cell_type": "markdown",
   "metadata": {},
   "source": [
    "### Formatting the realstate dataframe\n",
    "#### Herein, we call all the functions defined above to populate the columns mentioned in the schema namely- Shopping_center_id, Distance_to_sc, Supermarket_id, Distance_to_supermarket, Hospital_id, Distance_to_hospital, Train_station_id, Distance_to_train_station, suburb, Transfer_flag and travel_min_to_CBD. We go row by row first extracting the latitiude and longitude of the property and then go on to call the above fucntions."
   ]
  },
  {
   "cell_type": "code",
   "execution_count": 60,
   "metadata": {
    "scrolled": true
   },
   "outputs": [
    {
     "name": "stderr",
     "output_type": "stream",
     "text": [
      "D:\\Anaconda\\lib\\site-packages\\ipykernel_launcher.py:11: SettingWithCopyWarning: \n",
      "A value is trying to be set on a copy of a slice from a DataFrame\n",
      "\n",
      "See the caveats in the documentation: https://pandas.pydata.org/pandas-docs/stable/user_guide/indexing.html#returning-a-view-versus-a-copy\n",
      "  # This is added back by InteractiveShellApp.init_path()\n",
      "D:\\Anaconda\\lib\\site-packages\\ipykernel_launcher.py:13: SettingWithCopyWarning: \n",
      "A value is trying to be set on a copy of a slice from a DataFrame\n",
      "\n",
      "See the caveats in the documentation: https://pandas.pydata.org/pandas-docs/stable/user_guide/indexing.html#returning-a-view-versus-a-copy\n",
      "  del sys.path[0]\n",
      "D:\\Anaconda\\lib\\site-packages\\ipykernel_launcher.py:18: SettingWithCopyWarning: \n",
      "A value is trying to be set on a copy of a slice from a DataFrame\n",
      "\n",
      "See the caveats in the documentation: https://pandas.pydata.org/pandas-docs/stable/user_guide/indexing.html#returning-a-view-versus-a-copy\n",
      "D:\\Anaconda\\lib\\site-packages\\ipykernel_launcher.py:20: SettingWithCopyWarning: \n",
      "A value is trying to be set on a copy of a slice from a DataFrame\n",
      "\n",
      "See the caveats in the documentation: https://pandas.pydata.org/pandas-docs/stable/user_guide/indexing.html#returning-a-view-versus-a-copy\n",
      "D:\\Anaconda\\lib\\site-packages\\ipykernel_launcher.py:25: SettingWithCopyWarning: \n",
      "A value is trying to be set on a copy of a slice from a DataFrame\n",
      "\n",
      "See the caveats in the documentation: https://pandas.pydata.org/pandas-docs/stable/user_guide/indexing.html#returning-a-view-versus-a-copy\n",
      "D:\\Anaconda\\lib\\site-packages\\ipykernel_launcher.py:27: SettingWithCopyWarning: \n",
      "A value is trying to be set on a copy of a slice from a DataFrame\n",
      "\n",
      "See the caveats in the documentation: https://pandas.pydata.org/pandas-docs/stable/user_guide/indexing.html#returning-a-view-versus-a-copy\n",
      "D:\\Anaconda\\lib\\site-packages\\ipykernel_launcher.py:32: SettingWithCopyWarning: \n",
      "A value is trying to be set on a copy of a slice from a DataFrame\n",
      "\n",
      "See the caveats in the documentation: https://pandas.pydata.org/pandas-docs/stable/user_guide/indexing.html#returning-a-view-versus-a-copy\n",
      "D:\\Anaconda\\lib\\site-packages\\ipykernel_launcher.py:34: SettingWithCopyWarning: \n",
      "A value is trying to be set on a copy of a slice from a DataFrame\n",
      "\n",
      "See the caveats in the documentation: https://pandas.pydata.org/pandas-docs/stable/user_guide/indexing.html#returning-a-view-versus-a-copy\n",
      "D:\\Anaconda\\lib\\site-packages\\ipykernel_launcher.py:37: SettingWithCopyWarning: \n",
      "A value is trying to be set on a copy of a slice from a DataFrame\n",
      "\n",
      "See the caveats in the documentation: https://pandas.pydata.org/pandas-docs/stable/user_guide/indexing.html#returning-a-view-versus-a-copy\n",
      "D:\\Anaconda\\lib\\site-packages\\ipykernel_launcher.py:40: SettingWithCopyWarning: \n",
      "A value is trying to be set on a copy of a slice from a DataFrame\n",
      "\n",
      "See the caveats in the documentation: https://pandas.pydata.org/pandas-docs/stable/user_guide/indexing.html#returning-a-view-versus-a-copy\n",
      "D:\\Anaconda\\lib\\site-packages\\ipykernel_launcher.py:43: SettingWithCopyWarning: \n",
      "A value is trying to be set on a copy of a slice from a DataFrame\n",
      "\n",
      "See the caveats in the documentation: https://pandas.pydata.org/pandas-docs/stable/user_guide/indexing.html#returning-a-view-versus-a-copy\n"
     ]
    }
   ],
   "source": [
    "# each row in realstate_df\n",
    "for i in range(len(realstate_df)):\n",
    "    # lat\n",
    "    lat = realstate_df.lat[i]\n",
    "    # long\n",
    "    lng = realstate_df.lng[i]\n",
    "    \n",
    "    # calling the get_dist function\n",
    "    sc_dist = get_dist(shopcenter_df, lat, lng)\n",
    "    # nearest shopcenter id\n",
    "    realstate_df['Shopping_center_id'][i] = shopcenter_df.sc_id[sc_dist.index(min(sc_dist))]\n",
    "    # distance to nearest shopcenter\n",
    "    realstate_df['Distance_to_sc'][i] = min(sc_dist)\n",
    "    \n",
    "    # calling the get_dist function\n",
    "    sm_dist = get_dist(supermarkets_df, lat, lng)\n",
    "    # nearest supermarket id\n",
    "    realstate_df['Supermarket_id'][i] = supermarkets_df.id[sm_dist.index(min(sm_dist))]\n",
    "    # distance to nearest supermarket\n",
    "    realstate_df['Distance_to_supermarket'][i] = min(sm_dist)\n",
    "    \n",
    "    # calling the get_dist function\n",
    "    hos_dist = get_dist(hospitals_df, lat, lng)\n",
    "    # nearest hospital id\n",
    "    realstate_df['Hospital_id'][i] = hospitals_df.id[hos_dist.index(min(hos_dist))]\n",
    "    # distance to nearest hospital \n",
    "    realstate_df['Distance_to_hospital'][i] = min(hos_dist)\n",
    "    \n",
    "    # calling the get_train_dist function\n",
    "    train_dist = get_train_dist(stops_df, lat, lng)\n",
    "    # nearest station id\n",
    "    realstate_df['Train_station_id'][i] = stops_df.stop_id[train_dist.index(min(train_dist))]\n",
    "    # distance to nearest train station\n",
    "    realstate_df['Distance_to_train_station'][i] = min(train_dist)\n",
    "    \n",
    "    # suburb for property\n",
    "    realstate_df['suburb'][i] = get_suburb(lat, lng)\n",
    "    \n",
    "    # if there is a direct train to flinders \n",
    "    realstate_df['Transfer_flag'][i] = get_flag(realstate_df['Train_station_id'][i])\n",
    "    \n",
    "    # average travel time to flinders\n",
    "    realstate_df['travel_min_to_CBD'][i] = get_time(realstate_df['Train_station_id'][i])"
   ]
  },
  {
   "cell_type": "code",
   "execution_count": 61,
   "metadata": {},
   "outputs": [],
   "source": [
    "# writing the data to the output file in csv format\n",
    "realstate_df.to_csv('30830192_A3_solution.csv', index = False)"
   ]
  },
  {
   "cell_type": "markdown",
   "metadata": {},
   "source": [
    "## Task 2\n",
    "### Data Normalisation and Transformation\n",
    "#### When one or more datasets affects results disproportionately, normalization or scaling gives a level playing field. We further observe the effects of normalization and scaling on the colums 'price', 'Distance_to_sc', 'travel_min_to_CBD' and 'Distance_to_hospital'."
   ]
  },
  {
   "cell_type": "code",
   "execution_count": 62,
   "metadata": {},
   "outputs": [],
   "source": [
    "# slicing the dataframe\n",
    "trans_df = realstate_df[['price', 'Distance_to_sc', 'travel_min_to_CBD', 'Distance_to_hospital']]"
   ]
  },
  {
   "cell_type": "code",
   "execution_count": 63,
   "metadata": {},
   "outputs": [
    {
     "data": {
      "text/html": [
       "<div>\n",
       "<style scoped>\n",
       "    .dataframe tbody tr th:only-of-type {\n",
       "        vertical-align: middle;\n",
       "    }\n",
       "\n",
       "    .dataframe tbody tr th {\n",
       "        vertical-align: top;\n",
       "    }\n",
       "\n",
       "    .dataframe thead th {\n",
       "        text-align: right;\n",
       "    }\n",
       "</style>\n",
       "<table border=\"1\" class=\"dataframe\">\n",
       "  <thead>\n",
       "    <tr style=\"text-align: right;\">\n",
       "      <th></th>\n",
       "      <th>price</th>\n",
       "      <th>Distance_to_sc</th>\n",
       "      <th>travel_min_to_CBD</th>\n",
       "      <th>Distance_to_hospital</th>\n",
       "    </tr>\n",
       "  </thead>\n",
       "  <tbody>\n",
       "    <tr>\n",
       "      <th>0</th>\n",
       "      <td>16480000</td>\n",
       "      <td>2.725</td>\n",
       "      <td>16</td>\n",
       "      <td>1.630</td>\n",
       "    </tr>\n",
       "    <tr>\n",
       "      <th>1</th>\n",
       "      <td>25220000</td>\n",
       "      <td>2.539</td>\n",
       "      <td>20</td>\n",
       "      <td>1.358</td>\n",
       "    </tr>\n",
       "    <tr>\n",
       "      <th>2</th>\n",
       "      <td>11900000</td>\n",
       "      <td>0.958</td>\n",
       "      <td>53</td>\n",
       "      <td>0.727</td>\n",
       "    </tr>\n",
       "    <tr>\n",
       "      <th>3</th>\n",
       "      <td>24160000</td>\n",
       "      <td>3.466</td>\n",
       "      <td>19</td>\n",
       "      <td>0.118</td>\n",
       "    </tr>\n",
       "    <tr>\n",
       "      <th>4</th>\n",
       "      <td>5625000</td>\n",
       "      <td>0.405</td>\n",
       "      <td>50</td>\n",
       "      <td>2.199</td>\n",
       "    </tr>\n",
       "  </tbody>\n",
       "</table>\n",
       "</div>"
      ],
      "text/plain": [
       "      price  Distance_to_sc  travel_min_to_CBD  Distance_to_hospital\n",
       "0  16480000           2.725                 16                 1.630\n",
       "1  25220000           2.539                 20                 1.358\n",
       "2  11900000           0.958                 53                 0.727\n",
       "3  24160000           3.466                 19                 0.118\n",
       "4   5625000           0.405                 50                 2.199"
      ]
     },
     "execution_count": 63,
     "metadata": {},
     "output_type": "execute_result"
    }
   ],
   "source": [
    "# first few rows\n",
    "trans_df.head()"
   ]
  },
  {
   "cell_type": "code",
   "execution_count": 64,
   "metadata": {},
   "outputs": [
    {
     "data": {
      "text/html": [
       "<div>\n",
       "<style scoped>\n",
       "    .dataframe tbody tr th:only-of-type {\n",
       "        vertical-align: middle;\n",
       "    }\n",
       "\n",
       "    .dataframe tbody tr th {\n",
       "        vertical-align: top;\n",
       "    }\n",
       "\n",
       "    .dataframe thead th {\n",
       "        text-align: right;\n",
       "    }\n",
       "</style>\n",
       "<table border=\"1\" class=\"dataframe\">\n",
       "  <thead>\n",
       "    <tr style=\"text-align: right;\">\n",
       "      <th></th>\n",
       "      <th>price</th>\n",
       "      <th>Distance_to_sc</th>\n",
       "      <th>travel_min_to_CBD</th>\n",
       "      <th>Distance_to_hospital</th>\n",
       "    </tr>\n",
       "  </thead>\n",
       "  <tbody>\n",
       "    <tr>\n",
       "      <th>count</th>\n",
       "      <td>1.976000e+03</td>\n",
       "      <td>1976.000000</td>\n",
       "      <td>1976.000000</td>\n",
       "      <td>1976.000000</td>\n",
       "    </tr>\n",
       "    <tr>\n",
       "      <th>mean</th>\n",
       "      <td>9.183480e+06</td>\n",
       "      <td>2.527699</td>\n",
       "      <td>32.987854</td>\n",
       "      <td>2.141770</td>\n",
       "    </tr>\n",
       "    <tr>\n",
       "      <th>std</th>\n",
       "      <td>5.835586e+06</td>\n",
       "      <td>1.372881</td>\n",
       "      <td>12.243887</td>\n",
       "      <td>1.770396</td>\n",
       "    </tr>\n",
       "    <tr>\n",
       "      <th>min</th>\n",
       "      <td>1.017000e+06</td>\n",
       "      <td>0.177000</td>\n",
       "      <td>4.000000</td>\n",
       "      <td>0.081000</td>\n",
       "    </tr>\n",
       "    <tr>\n",
       "      <th>25%</th>\n",
       "      <td>5.400000e+06</td>\n",
       "      <td>1.419000</td>\n",
       "      <td>23.000000</td>\n",
       "      <td>0.963000</td>\n",
       "    </tr>\n",
       "    <tr>\n",
       "      <th>50%</th>\n",
       "      <td>7.585500e+06</td>\n",
       "      <td>2.302500</td>\n",
       "      <td>33.000000</td>\n",
       "      <td>1.619000</td>\n",
       "    </tr>\n",
       "    <tr>\n",
       "      <th>75%</th>\n",
       "      <td>1.107000e+07</td>\n",
       "      <td>3.419750</td>\n",
       "      <td>41.000000</td>\n",
       "      <td>2.675750</td>\n",
       "    </tr>\n",
       "    <tr>\n",
       "      <th>max</th>\n",
       "      <td>4.420000e+07</td>\n",
       "      <td>5.959000</td>\n",
       "      <td>59.000000</td>\n",
       "      <td>9.360000</td>\n",
       "    </tr>\n",
       "  </tbody>\n",
       "</table>\n",
       "</div>"
      ],
      "text/plain": [
       "              price  Distance_to_sc  travel_min_to_CBD  Distance_to_hospital\n",
       "count  1.976000e+03     1976.000000        1976.000000           1976.000000\n",
       "mean   9.183480e+06        2.527699          32.987854              2.141770\n",
       "std    5.835586e+06        1.372881          12.243887              1.770396\n",
       "min    1.017000e+06        0.177000           4.000000              0.081000\n",
       "25%    5.400000e+06        1.419000          23.000000              0.963000\n",
       "50%    7.585500e+06        2.302500          33.000000              1.619000\n",
       "75%    1.107000e+07        3.419750          41.000000              2.675750\n",
       "max    4.420000e+07        5.959000          59.000000              9.360000"
      ]
     },
     "execution_count": 64,
     "metadata": {},
     "output_type": "execute_result"
    }
   ],
   "source": [
    "# statistical information about the data\n",
    "trans_df.describe()"
   ]
  },
  {
   "cell_type": "markdown",
   "metadata": {},
   "source": [
    "### Z-Score Normalisation (standardisation): \n",
    "\n",
    "#### We use scikit-learn library to standardise data (mean=0, SD=1). Standardization of datasets is a common requirement for many machine learning estimators which might behave badly if the individual features do not more or less look like standard normally distributed data: Gaussian with zero mean and unit variance."
   ]
  },
  {
   "cell_type": "code",
   "execution_count": 65,
   "metadata": {},
   "outputs": [
    {
     "data": {
      "text/plain": [
       "array([[ 1.25066554,  0.1437492 , -1.38780721, -0.2891443 ],\n",
       "       [ 2.74875192,  0.00823339, -1.06103087, -0.44282117],\n",
       "       [ 0.46562714, -1.143651  ,  1.63487394, -0.79932892],\n",
       "       [ 2.56706181,  0.68362671, -1.14272496, -1.14340692],\n",
       "       [-0.60994403, -1.54655553,  1.38979169,  0.03233415]])"
      ]
     },
     "execution_count": 65,
     "metadata": {},
     "output_type": "execute_result"
    }
   ],
   "source": [
    "# using standard scaler to fit the model on the complete dataset\n",
    "std_scale = preprocessing.StandardScaler().fit(trans_df)\n",
    "# using the model to transform data\n",
    "std_df = std_scale.transform(trans_df)\n",
    "# 2-d array of scaled values\n",
    "std_df[0:5]"
   ]
  },
  {
   "cell_type": "code",
   "execution_count": 66,
   "metadata": {},
   "outputs": [
    {
     "data": {
      "text/html": [
       "<div>\n",
       "<style scoped>\n",
       "    .dataframe tbody tr th:only-of-type {\n",
       "        vertical-align: middle;\n",
       "    }\n",
       "\n",
       "    .dataframe tbody tr th {\n",
       "        vertical-align: top;\n",
       "    }\n",
       "\n",
       "    .dataframe thead th {\n",
       "        text-align: right;\n",
       "    }\n",
       "</style>\n",
       "<table border=\"1\" class=\"dataframe\">\n",
       "  <thead>\n",
       "    <tr style=\"text-align: right;\">\n",
       "      <th></th>\n",
       "      <th>price</th>\n",
       "      <th>Distance_to_sc</th>\n",
       "      <th>travel_min_to_CBD</th>\n",
       "      <th>Distance_to_hospital</th>\n",
       "      <th>z_price</th>\n",
       "      <th>z_sc_dist</th>\n",
       "      <th>z_travel_min</th>\n",
       "      <th>z_hos_dist</th>\n",
       "    </tr>\n",
       "  </thead>\n",
       "  <tbody>\n",
       "    <tr>\n",
       "      <th>0</th>\n",
       "      <td>16480000</td>\n",
       "      <td>2.725</td>\n",
       "      <td>16</td>\n",
       "      <td>1.630</td>\n",
       "      <td>1.250666</td>\n",
       "      <td>0.143749</td>\n",
       "      <td>-1.387807</td>\n",
       "      <td>-0.289144</td>\n",
       "    </tr>\n",
       "    <tr>\n",
       "      <th>1</th>\n",
       "      <td>25220000</td>\n",
       "      <td>2.539</td>\n",
       "      <td>20</td>\n",
       "      <td>1.358</td>\n",
       "      <td>2.748752</td>\n",
       "      <td>0.008233</td>\n",
       "      <td>-1.061031</td>\n",
       "      <td>-0.442821</td>\n",
       "    </tr>\n",
       "    <tr>\n",
       "      <th>2</th>\n",
       "      <td>11900000</td>\n",
       "      <td>0.958</td>\n",
       "      <td>53</td>\n",
       "      <td>0.727</td>\n",
       "      <td>0.465627</td>\n",
       "      <td>-1.143651</td>\n",
       "      <td>1.634874</td>\n",
       "      <td>-0.799329</td>\n",
       "    </tr>\n",
       "    <tr>\n",
       "      <th>3</th>\n",
       "      <td>24160000</td>\n",
       "      <td>3.466</td>\n",
       "      <td>19</td>\n",
       "      <td>0.118</td>\n",
       "      <td>2.567062</td>\n",
       "      <td>0.683627</td>\n",
       "      <td>-1.142725</td>\n",
       "      <td>-1.143407</td>\n",
       "    </tr>\n",
       "    <tr>\n",
       "      <th>4</th>\n",
       "      <td>5625000</td>\n",
       "      <td>0.405</td>\n",
       "      <td>50</td>\n",
       "      <td>2.199</td>\n",
       "      <td>-0.609944</td>\n",
       "      <td>-1.546556</td>\n",
       "      <td>1.389792</td>\n",
       "      <td>0.032334</td>\n",
       "    </tr>\n",
       "  </tbody>\n",
       "</table>\n",
       "</div>"
      ],
      "text/plain": [
       "      price  Distance_to_sc  travel_min_to_CBD  Distance_to_hospital  \\\n",
       "0  16480000           2.725                 16                 1.630   \n",
       "1  25220000           2.539                 20                 1.358   \n",
       "2  11900000           0.958                 53                 0.727   \n",
       "3  24160000           3.466                 19                 0.118   \n",
       "4   5625000           0.405                 50                 2.199   \n",
       "\n",
       "    z_price  z_sc_dist  z_travel_min  z_hos_dist  \n",
       "0  1.250666   0.143749     -1.387807   -0.289144  \n",
       "1  2.748752   0.008233     -1.061031   -0.442821  \n",
       "2  0.465627  -1.143651      1.634874   -0.799329  \n",
       "3  2.567062   0.683627     -1.142725   -1.143407  \n",
       "4 -0.609944  -1.546556      1.389792    0.032334  "
      ]
     },
     "execution_count": 66,
     "metadata": {},
     "output_type": "execute_result"
    }
   ],
   "source": [
    "# converting array to df\n",
    "std_df = pd.DataFrame(std_df, columns = ['z_price', 'z_sc_dist', 'z_travel_min', 'z_hos_dist'])\n",
    "# concatinating it with the original df\n",
    "std_df = pd.concat([trans_df, std_df], axis=1)\n",
    "# first few rows\n",
    "std_df.head()"
   ]
  },
  {
   "cell_type": "markdown",
   "metadata": {},
   "source": [
    "#### Scaled data has zero mean and unit variance"
   ]
  },
  {
   "cell_type": "code",
   "execution_count": 67,
   "metadata": {},
   "outputs": [
    {
     "data": {
      "text/html": [
       "<div>\n",
       "<style scoped>\n",
       "    .dataframe tbody tr th:only-of-type {\n",
       "        vertical-align: middle;\n",
       "    }\n",
       "\n",
       "    .dataframe tbody tr th {\n",
       "        vertical-align: top;\n",
       "    }\n",
       "\n",
       "    .dataframe thead th {\n",
       "        text-align: right;\n",
       "    }\n",
       "</style>\n",
       "<table border=\"1\" class=\"dataframe\">\n",
       "  <thead>\n",
       "    <tr style=\"text-align: right;\">\n",
       "      <th></th>\n",
       "      <th>price</th>\n",
       "      <th>Distance_to_sc</th>\n",
       "      <th>travel_min_to_CBD</th>\n",
       "      <th>Distance_to_hospital</th>\n",
       "      <th>z_price</th>\n",
       "      <th>z_sc_dist</th>\n",
       "      <th>z_travel_min</th>\n",
       "      <th>z_hos_dist</th>\n",
       "    </tr>\n",
       "  </thead>\n",
       "  <tbody>\n",
       "    <tr>\n",
       "      <th>count</th>\n",
       "      <td>1.976000e+03</td>\n",
       "      <td>1976.000000</td>\n",
       "      <td>1976.000000</td>\n",
       "      <td>1976.000000</td>\n",
       "      <td>1.976000e+03</td>\n",
       "      <td>1.976000e+03</td>\n",
       "      <td>1.976000e+03</td>\n",
       "      <td>1.976000e+03</td>\n",
       "    </tr>\n",
       "    <tr>\n",
       "      <th>mean</th>\n",
       "      <td>9.183480e+06</td>\n",
       "      <td>2.527699</td>\n",
       "      <td>32.987854</td>\n",
       "      <td>2.141770</td>\n",
       "      <td>-1.561953e-17</td>\n",
       "      <td>1.047506e-17</td>\n",
       "      <td>9.888626e-17</td>\n",
       "      <td>-6.472555e-17</td>\n",
       "    </tr>\n",
       "    <tr>\n",
       "      <th>std</th>\n",
       "      <td>5.835586e+06</td>\n",
       "      <td>1.372881</td>\n",
       "      <td>12.243887</td>\n",
       "      <td>1.770396</td>\n",
       "      <td>1.000253e+00</td>\n",
       "      <td>1.000253e+00</td>\n",
       "      <td>1.000253e+00</td>\n",
       "      <td>1.000253e+00</td>\n",
       "    </tr>\n",
       "    <tr>\n",
       "      <th>min</th>\n",
       "      <td>1.017000e+06</td>\n",
       "      <td>0.177000</td>\n",
       "      <td>4.000000</td>\n",
       "      <td>0.081000</td>\n",
       "      <td>-1.399782e+00</td>\n",
       "      <td>-1.712672e+00</td>\n",
       "      <td>-2.368136e+00</td>\n",
       "      <td>-1.164311e+00</td>\n",
       "    </tr>\n",
       "    <tr>\n",
       "      <th>25%</th>\n",
       "      <td>5.400000e+06</td>\n",
       "      <td>1.419000</td>\n",
       "      <td>23.000000</td>\n",
       "      <td>0.963000</td>\n",
       "      <td>-6.485103e-01</td>\n",
       "      <td>-8.077758e-01</td>\n",
       "      <td>-8.159486e-01</td>\n",
       "      <td>-6.659916e-01</td>\n",
       "    </tr>\n",
       "    <tr>\n",
       "      <th>50%</th>\n",
       "      <td>7.585500e+06</td>\n",
       "      <td>2.302500</td>\n",
       "      <td>33.000000</td>\n",
       "      <td>1.619000</td>\n",
       "      <td>-2.739030e-01</td>\n",
       "      <td>-1.640757e-01</td>\n",
       "      <td>9.922359e-04</td>\n",
       "      <td>-2.953592e-01</td>\n",
       "    </tr>\n",
       "    <tr>\n",
       "      <th>75%</th>\n",
       "      <td>1.107000e+07</td>\n",
       "      <td>3.419750</td>\n",
       "      <td>41.000000</td>\n",
       "      <td>2.675750</td>\n",
       "      <td>3.233604e-01</td>\n",
       "      <td>6.499299e-01</td>\n",
       "      <td>6.545449e-01</td>\n",
       "      <td>3.016924e-01</td>\n",
       "    </tr>\n",
       "    <tr>\n",
       "      <th>max</th>\n",
       "      <td>4.420000e+07</td>\n",
       "      <td>5.959000</td>\n",
       "      <td>59.000000</td>\n",
       "      <td>9.360000</td>\n",
       "      <td>6.002033e+00</td>\n",
       "      <td>2.499976e+00</td>\n",
       "      <td>2.125038e+00</td>\n",
       "      <td>4.078217e+00</td>\n",
       "    </tr>\n",
       "  </tbody>\n",
       "</table>\n",
       "</div>"
      ],
      "text/plain": [
       "              price  Distance_to_sc  travel_min_to_CBD  Distance_to_hospital  \\\n",
       "count  1.976000e+03     1976.000000        1976.000000           1976.000000   \n",
       "mean   9.183480e+06        2.527699          32.987854              2.141770   \n",
       "std    5.835586e+06        1.372881          12.243887              1.770396   \n",
       "min    1.017000e+06        0.177000           4.000000              0.081000   \n",
       "25%    5.400000e+06        1.419000          23.000000              0.963000   \n",
       "50%    7.585500e+06        2.302500          33.000000              1.619000   \n",
       "75%    1.107000e+07        3.419750          41.000000              2.675750   \n",
       "max    4.420000e+07        5.959000          59.000000              9.360000   \n",
       "\n",
       "            z_price     z_sc_dist  z_travel_min    z_hos_dist  \n",
       "count  1.976000e+03  1.976000e+03  1.976000e+03  1.976000e+03  \n",
       "mean  -1.561953e-17  1.047506e-17  9.888626e-17 -6.472555e-17  \n",
       "std    1.000253e+00  1.000253e+00  1.000253e+00  1.000253e+00  \n",
       "min   -1.399782e+00 -1.712672e+00 -2.368136e+00 -1.164311e+00  \n",
       "25%   -6.485103e-01 -8.077758e-01 -8.159486e-01 -6.659916e-01  \n",
       "50%   -2.739030e-01 -1.640757e-01  9.922359e-04 -2.953592e-01  \n",
       "75%    3.233604e-01  6.499299e-01  6.545449e-01  3.016924e-01  \n",
       "max    6.002033e+00  2.499976e+00  2.125038e+00  4.078217e+00  "
      ]
     },
     "execution_count": 67,
     "metadata": {},
     "output_type": "execute_result"
    }
   ],
   "source": [
    "# statistical info for scaled data\n",
    "std_df.describe()"
   ]
  },
  {
   "cell_type": "markdown",
   "metadata": {},
   "source": [
    "#### We obeserve that the values for distance, travel time and price are now more clustered near zero. Since the columns Distance to shopping center and Distance to hospital already had a standard deviation cloes to one, we do not see a significant change in spread. Although the values are now scaled we observe that they follow the exact same distribution as they did earlier."
   ]
  },
  {
   "cell_type": "code",
   "execution_count": 68,
   "metadata": {},
   "outputs": [
    {
     "data": {
      "text/plain": [
       "(<matplotlib.axes._subplots.AxesSubplot at 0x194eefd4548>,\n",
       " <matplotlib.axes._subplots.AxesSubplot at 0x194eefd4548>)"
      ]
     },
     "execution_count": 68,
     "metadata": {},
     "output_type": "execute_result"
    },
    {
     "data": {
      "image/png": "[encoded data removed]",
      "text/plain": [
       "<Figure size 432x288 with 1 Axes>"
      ]
     },
     "metadata": {
      "needs_background": "light"
     },
     "output_type": "display_data"
    }
   ],
   "source": [
    "# plotting the original and scaled values\n",
    "std_df['Distance_to_sc'].plot(), std_df['z_sc_dist'].plot()"
   ]
  },
  {
   "cell_type": "code",
   "execution_count": 69,
   "metadata": {},
   "outputs": [
    {
     "data": {
      "text/plain": [
       "(<matplotlib.axes._subplots.AxesSubplot at 0x194f1c6efc8>,\n",
       " <matplotlib.axes._subplots.AxesSubplot at 0x194f1c6efc8>)"
      ]
     },
     "execution_count": 69,
     "metadata": {},
     "output_type": "execute_result"
    },
    {
     "data": {
      "image/png": "[encoded data removed]",
      "text/plain": [
       "<Figure size 432x288 with 1 Axes>"
      ]
     },
     "metadata": {
      "needs_background": "light"
     },
     "output_type": "display_data"
    }
   ],
   "source": [
    "# plotting the original and scaled values\n",
    "std_df['travel_min_to_CBD'].plot(), std_df['z_travel_min'].plot()"
   ]
  },
  {
   "cell_type": "markdown",
   "metadata": {},
   "source": [
    "#### Since the mean and standard deviation of values in the price column were so high, we see a line when we plot the normalised values along with the original values, which on plotting separately shows a graph with same distribution as the original values but now centered around 0."
   ]
  },
  {
   "cell_type": "code",
   "execution_count": 70,
   "metadata": {},
   "outputs": [
    {
     "data": {
      "text/plain": [
       "(<matplotlib.axes._subplots.AxesSubplot at 0x194f1c6a2c8>,\n",
       " <matplotlib.axes._subplots.AxesSubplot at 0x194f1c6a2c8>)"
      ]
     },
     "execution_count": 70,
     "metadata": {},
     "output_type": "execute_result"
    },
    {
     "data": {
      "image/png": "[encoded data removed]",
      "text/plain": [
       "<Figure size 432x288 with 1 Axes>"
      ]
     },
     "metadata": {
      "needs_background": "light"
     },
     "output_type": "display_data"
    }
   ],
   "source": [
    "# plotting the original and scaled values\n",
    "std_df['price'].plot(), std_df['z_price'].plot()"
   ]
  },
  {
   "cell_type": "code",
   "execution_count": 71,
   "metadata": {},
   "outputs": [
    {
     "data": {
      "text/plain": [
       "<matplotlib.axes._subplots.AxesSubplot at 0x194f4043ac8>"
      ]
     },
     "execution_count": 71,
     "metadata": {},
     "output_type": "execute_result"
    },
    {
     "data": {
      "image/png": "[encoded data removed]",
      "text/plain": [
       "<Figure size 432x288 with 1 Axes>"
      ]
     },
     "metadata": {
      "needs_background": "light"
     },
     "output_type": "display_data"
    }
   ],
   "source": [
    "# plotting the scaled values\n",
    "std_df['z_price'].plot(color='orange')"
   ]
  },
  {
   "cell_type": "code",
   "execution_count": 72,
   "metadata": {},
   "outputs": [
    {
     "data": {
      "text/plain": [
       "(<matplotlib.axes._subplots.AxesSubplot at 0x194f4677788>,\n",
       " <matplotlib.axes._subplots.AxesSubplot at 0x194f4677788>)"
      ]
     },
     "execution_count": 72,
     "metadata": {},
     "output_type": "execute_result"
    },
    {
     "data": {
      "image/png": "[encoded data removed]",
      "text/plain": [
       "<Figure size 432x288 with 1 Axes>"
      ]
     },
     "metadata": {
      "needs_background": "light"
     },
     "output_type": "display_data"
    }
   ],
   "source": [
    "# plotting the original and scaled values\n",
    "std_df['Distance_to_hospital'].plot(), std_df['z_hos_dist'].plot()"
   ]
  },
  {
   "cell_type": "markdown",
   "metadata": {},
   "source": [
    "### MinMax Noramlisation:\n",
    "\n",
    "#### Another form of standardization is scaling the features to lie between a given minimum and maximum value, often [0, 1] so that the maximum absolute value of each feature is scaled to unit size. The motivation to use this scaling include robustness to very small standard deviations of features and preserving zero entries in sparse data."
   ]
  },
  {
   "cell_type": "code",
   "execution_count": 73,
   "metadata": {},
   "outputs": [
    {
     "data": {
      "text/plain": [
       "array([[0.35808073, 0.44067797, 0.21818182, 0.16693609],\n",
       "       [0.56047519, 0.40850917, 0.29090909, 0.13762259],\n",
       "       [0.25202047, 0.13507437, 0.89090909, 0.06961957],\n",
       "       [0.53592849, 0.56883431, 0.27272727, 0.0039875 ],\n",
       "       [0.10670866, 0.03943272, 0.83636364, 0.22825736]])"
      ]
     },
     "execution_count": 73,
     "metadata": {},
     "output_type": "execute_result"
    }
   ],
   "source": [
    "# using minmax scaler to fit the model on the complete dataset\n",
    "minmax_scale = preprocessing.MinMaxScaler().fit(trans_df)\n",
    "# using the model to transform data\n",
    "minmax_df = minmax_scale.transform(trans_df)\n",
    "# 2-d array of scaled values\n",
    "minmax_df[0:5]"
   ]
  },
  {
   "cell_type": "code",
   "execution_count": 74,
   "metadata": {},
   "outputs": [
    {
     "data": {
      "text/html": [
       "<div>\n",
       "<style scoped>\n",
       "    .dataframe tbody tr th:only-of-type {\n",
       "        vertical-align: middle;\n",
       "    }\n",
       "\n",
       "    .dataframe tbody tr th {\n",
       "        vertical-align: top;\n",
       "    }\n",
       "\n",
       "    .dataframe thead th {\n",
       "        text-align: right;\n",
       "    }\n",
       "</style>\n",
       "<table border=\"1\" class=\"dataframe\">\n",
       "  <thead>\n",
       "    <tr style=\"text-align: right;\">\n",
       "      <th></th>\n",
       "      <th>price</th>\n",
       "      <th>Distance_to_sc</th>\n",
       "      <th>travel_min_to_CBD</th>\n",
       "      <th>Distance_to_hospital</th>\n",
       "      <th>mm_price</th>\n",
       "      <th>mm_sc_dist</th>\n",
       "      <th>mm_travel_min</th>\n",
       "      <th>mm_hos_dist</th>\n",
       "    </tr>\n",
       "  </thead>\n",
       "  <tbody>\n",
       "    <tr>\n",
       "      <th>0</th>\n",
       "      <td>16480000</td>\n",
       "      <td>2.725</td>\n",
       "      <td>16</td>\n",
       "      <td>1.630</td>\n",
       "      <td>0.358081</td>\n",
       "      <td>0.440678</td>\n",
       "      <td>0.218182</td>\n",
       "      <td>0.166936</td>\n",
       "    </tr>\n",
       "    <tr>\n",
       "      <th>1</th>\n",
       "      <td>25220000</td>\n",
       "      <td>2.539</td>\n",
       "      <td>20</td>\n",
       "      <td>1.358</td>\n",
       "      <td>0.560475</td>\n",
       "      <td>0.408509</td>\n",
       "      <td>0.290909</td>\n",
       "      <td>0.137623</td>\n",
       "    </tr>\n",
       "    <tr>\n",
       "      <th>2</th>\n",
       "      <td>11900000</td>\n",
       "      <td>0.958</td>\n",
       "      <td>53</td>\n",
       "      <td>0.727</td>\n",
       "      <td>0.252020</td>\n",
       "      <td>0.135074</td>\n",
       "      <td>0.890909</td>\n",
       "      <td>0.069620</td>\n",
       "    </tr>\n",
       "    <tr>\n",
       "      <th>3</th>\n",
       "      <td>24160000</td>\n",
       "      <td>3.466</td>\n",
       "      <td>19</td>\n",
       "      <td>0.118</td>\n",
       "      <td>0.535928</td>\n",
       "      <td>0.568834</td>\n",
       "      <td>0.272727</td>\n",
       "      <td>0.003987</td>\n",
       "    </tr>\n",
       "    <tr>\n",
       "      <th>4</th>\n",
       "      <td>5625000</td>\n",
       "      <td>0.405</td>\n",
       "      <td>50</td>\n",
       "      <td>2.199</td>\n",
       "      <td>0.106709</td>\n",
       "      <td>0.039433</td>\n",
       "      <td>0.836364</td>\n",
       "      <td>0.228257</td>\n",
       "    </tr>\n",
       "  </tbody>\n",
       "</table>\n",
       "</div>"
      ],
      "text/plain": [
       "      price  Distance_to_sc  travel_min_to_CBD  Distance_to_hospital  \\\n",
       "0  16480000           2.725                 16                 1.630   \n",
       "1  25220000           2.539                 20                 1.358   \n",
       "2  11900000           0.958                 53                 0.727   \n",
       "3  24160000           3.466                 19                 0.118   \n",
       "4   5625000           0.405                 50                 2.199   \n",
       "\n",
       "   mm_price  mm_sc_dist  mm_travel_min  mm_hos_dist  \n",
       "0  0.358081    0.440678       0.218182     0.166936  \n",
       "1  0.560475    0.408509       0.290909     0.137623  \n",
       "2  0.252020    0.135074       0.890909     0.069620  \n",
       "3  0.535928    0.568834       0.272727     0.003987  \n",
       "4  0.106709    0.039433       0.836364     0.228257  "
      ]
     },
     "execution_count": 74,
     "metadata": {},
     "output_type": "execute_result"
    }
   ],
   "source": [
    "# converting array to df\n",
    "minmax_df = pd.DataFrame(minmax_df, columns = ['mm_price', 'mm_sc_dist', 'mm_travel_min', 'mm_hos_dist'])\n",
    "# concatinating it with the original df\n",
    "minmax_df = pd.concat([trans_df, minmax_df], axis=1)\n",
    "# first few rows\n",
    "minmax_df.head()"
   ]
  },
  {
   "cell_type": "markdown",
   "metadata": {},
   "source": [
    "#### Scaled data lies in the range [0-1] with a reduced standard deviation."
   ]
  },
  {
   "cell_type": "code",
   "execution_count": 75,
   "metadata": {},
   "outputs": [
    {
     "data": {
      "text/html": [
       "<div>\n",
       "<style scoped>\n",
       "    .dataframe tbody tr th:only-of-type {\n",
       "        vertical-align: middle;\n",
       "    }\n",
       "\n",
       "    .dataframe tbody tr th {\n",
       "        vertical-align: top;\n",
       "    }\n",
       "\n",
       "    .dataframe thead th {\n",
       "        text-align: right;\n",
       "    }\n",
       "</style>\n",
       "<table border=\"1\" class=\"dataframe\">\n",
       "  <thead>\n",
       "    <tr style=\"text-align: right;\">\n",
       "      <th></th>\n",
       "      <th>price</th>\n",
       "      <th>Distance_to_sc</th>\n",
       "      <th>travel_min_to_CBD</th>\n",
       "      <th>Distance_to_hospital</th>\n",
       "      <th>mm_price</th>\n",
       "      <th>mm_sc_dist</th>\n",
       "      <th>mm_travel_min</th>\n",
       "      <th>mm_hos_dist</th>\n",
       "    </tr>\n",
       "  </thead>\n",
       "  <tbody>\n",
       "    <tr>\n",
       "      <th>count</th>\n",
       "      <td>1.976000e+03</td>\n",
       "      <td>1976.000000</td>\n",
       "      <td>1976.000000</td>\n",
       "      <td>1976.000000</td>\n",
       "      <td>1976.000000</td>\n",
       "      <td>1976.000000</td>\n",
       "      <td>1976.000000</td>\n",
       "      <td>1976.000000</td>\n",
       "    </tr>\n",
       "    <tr>\n",
       "      <th>mean</th>\n",
       "      <td>9.183480e+06</td>\n",
       "      <td>2.527699</td>\n",
       "      <td>32.987854</td>\n",
       "      <td>2.141770</td>\n",
       "      <td>0.189113</td>\n",
       "      <td>0.406555</td>\n",
       "      <td>0.527052</td>\n",
       "      <td>0.222090</td>\n",
       "    </tr>\n",
       "    <tr>\n",
       "      <th>std</th>\n",
       "      <td>5.835586e+06</td>\n",
       "      <td>1.372881</td>\n",
       "      <td>12.243887</td>\n",
       "      <td>1.770396</td>\n",
       "      <td>0.135136</td>\n",
       "      <td>0.237441</td>\n",
       "      <td>0.222616</td>\n",
       "      <td>0.190796</td>\n",
       "    </tr>\n",
       "    <tr>\n",
       "      <th>min</th>\n",
       "      <td>1.017000e+06</td>\n",
       "      <td>0.177000</td>\n",
       "      <td>4.000000</td>\n",
       "      <td>0.081000</td>\n",
       "      <td>0.000000</td>\n",
       "      <td>0.000000</td>\n",
       "      <td>0.000000</td>\n",
       "      <td>0.000000</td>\n",
       "    </tr>\n",
       "    <tr>\n",
       "      <th>25%</th>\n",
       "      <td>5.400000e+06</td>\n",
       "      <td>1.419000</td>\n",
       "      <td>23.000000</td>\n",
       "      <td>0.963000</td>\n",
       "      <td>0.101498</td>\n",
       "      <td>0.214805</td>\n",
       "      <td>0.345455</td>\n",
       "      <td>0.095053</td>\n",
       "    </tr>\n",
       "    <tr>\n",
       "      <th>50%</th>\n",
       "      <td>7.585500e+06</td>\n",
       "      <td>2.302500</td>\n",
       "      <td>33.000000</td>\n",
       "      <td>1.619000</td>\n",
       "      <td>0.152108</td>\n",
       "      <td>0.367606</td>\n",
       "      <td>0.527273</td>\n",
       "      <td>0.165751</td>\n",
       "    </tr>\n",
       "    <tr>\n",
       "      <th>75%</th>\n",
       "      <td>1.107000e+07</td>\n",
       "      <td>3.419750</td>\n",
       "      <td>41.000000</td>\n",
       "      <td>2.675750</td>\n",
       "      <td>0.232800</td>\n",
       "      <td>0.560835</td>\n",
       "      <td>0.672727</td>\n",
       "      <td>0.279637</td>\n",
       "    </tr>\n",
       "    <tr>\n",
       "      <th>max</th>\n",
       "      <td>4.420000e+07</td>\n",
       "      <td>5.959000</td>\n",
       "      <td>59.000000</td>\n",
       "      <td>9.360000</td>\n",
       "      <td>1.000000</td>\n",
       "      <td>1.000000</td>\n",
       "      <td>1.000000</td>\n",
       "      <td>1.000000</td>\n",
       "    </tr>\n",
       "  </tbody>\n",
       "</table>\n",
       "</div>"
      ],
      "text/plain": [
       "              price  Distance_to_sc  travel_min_to_CBD  Distance_to_hospital  \\\n",
       "count  1.976000e+03     1976.000000        1976.000000           1976.000000   \n",
       "mean   9.183480e+06        2.527699          32.987854              2.141770   \n",
       "std    5.835586e+06        1.372881          12.243887              1.770396   \n",
       "min    1.017000e+06        0.177000           4.000000              0.081000   \n",
       "25%    5.400000e+06        1.419000          23.000000              0.963000   \n",
       "50%    7.585500e+06        2.302500          33.000000              1.619000   \n",
       "75%    1.107000e+07        3.419750          41.000000              2.675750   \n",
       "max    4.420000e+07        5.959000          59.000000              9.360000   \n",
       "\n",
       "          mm_price   mm_sc_dist  mm_travel_min  mm_hos_dist  \n",
       "count  1976.000000  1976.000000    1976.000000  1976.000000  \n",
       "mean      0.189113     0.406555       0.527052     0.222090  \n",
       "std       0.135136     0.237441       0.222616     0.190796  \n",
       "min       0.000000     0.000000       0.000000     0.000000  \n",
       "25%       0.101498     0.214805       0.345455     0.095053  \n",
       "50%       0.152108     0.367606       0.527273     0.165751  \n",
       "75%       0.232800     0.560835       0.672727     0.279637  \n",
       "max       1.000000     1.000000       1.000000     1.000000  "
      ]
     },
     "execution_count": 75,
     "metadata": {},
     "output_type": "execute_result"
    }
   ],
   "source": [
    "# statistical info for scaled data\n",
    "minmax_df.describe()"
   ]
  },
  {
   "cell_type": "markdown",
   "metadata": {},
   "source": [
    "#### We obeserve that the values for distance, travel time and price are now in the range [0-1]. Since there were no negative or 0 values in the datawe observe that the data follows the same distribution as earlier."
   ]
  },
  {
   "cell_type": "code",
   "execution_count": 76,
   "metadata": {},
   "outputs": [
    {
     "data": {
      "text/plain": [
       "(<matplotlib.axes._subplots.AxesSubplot at 0x194f1c62ec8>,\n",
       " <matplotlib.axes._subplots.AxesSubplot at 0x194f1c62ec8>)"
      ]
     },
     "execution_count": 76,
     "metadata": {},
     "output_type": "execute_result"
    },
    {
     "data": {
      "image/png": "[encoded data removed]",
      "text/plain": [
       "<Figure size 432x288 with 1 Axes>"
      ]
     },
     "metadata": {
      "needs_background": "light"
     },
     "output_type": "display_data"
    }
   ],
   "source": [
    "# plotting the original and scaled values\n",
    "minmax_df['Distance_to_sc'].plot(), minmax_df['mm_sc_dist'].plot()"
   ]
  },
  {
   "cell_type": "code",
   "execution_count": 77,
   "metadata": {},
   "outputs": [
    {
     "data": {
      "text/plain": [
       "(<matplotlib.axes._subplots.AxesSubplot at 0x194f0c33108>,\n",
       " <matplotlib.axes._subplots.AxesSubplot at 0x194f0c33108>)"
      ]
     },
     "execution_count": 77,
     "metadata": {},
     "output_type": "execute_result"
    },
    {
     "data": {
      "image/png": "[encoded data removed]",
      "text/plain": [
       "<Figure size 432x288 with 1 Axes>"
      ]
     },
     "metadata": {
      "needs_background": "light"
     },
     "output_type": "display_data"
    }
   ],
   "source": [
    "# plotting the original and scaled values\n",
    "minmax_df['travel_min_to_CBD'].plot(), minmax_df['mm_travel_min'].plot()"
   ]
  },
  {
   "cell_type": "markdown",
   "metadata": {},
   "source": [
    "#### Since the mean and standard deviation of values in the price column were so high, we see a line when we plot the minmax values along with the original values, which on plotting separately shows a graph with same distribution as the original values but now lying in the range [0-1]."
   ]
  },
  {
   "cell_type": "code",
   "execution_count": 78,
   "metadata": {},
   "outputs": [
    {
     "data": {
      "text/plain": [
       "(<matplotlib.axes._subplots.AxesSubplot at 0x194f9063d08>,\n",
       " <matplotlib.axes._subplots.AxesSubplot at 0x194f9063d08>)"
      ]
     },
     "execution_count": 78,
     "metadata": {},
     "output_type": "execute_result"
    },
    {
     "data": {
      "image/png": "[encoded data removed]",
      "text/plain": [
       "<Figure size 432x288 with 1 Axes>"
      ]
     },
     "metadata": {
      "needs_background": "light"
     },
     "output_type": "display_data"
    }
   ],
   "source": [
    "# plotting the original and scaled values\n",
    "minmax_df['price'].plot(), minmax_df['mm_price'].plot()"
   ]
  },
  {
   "cell_type": "code",
   "execution_count": 79,
   "metadata": {},
   "outputs": [
    {
     "data": {
      "text/plain": [
       "<matplotlib.axes._subplots.AxesSubplot at 0x194f2327a48>"
      ]
     },
     "execution_count": 79,
     "metadata": {},
     "output_type": "execute_result"
    },
    {
     "data": {
      "image/png": "[encoded data removed]",
      "text/plain": [
       "<Figure size 432x288 with 1 Axes>"
      ]
     },
     "metadata": {
      "needs_background": "light"
     },
     "output_type": "display_data"
    }
   ],
   "source": [
    "# plotting the scaled values\n",
    "minmax_df['mm_price'].plot(color='orange')"
   ]
  },
  {
   "cell_type": "code",
   "execution_count": 80,
   "metadata": {},
   "outputs": [
    {
     "data": {
      "text/plain": [
       "(<matplotlib.axes._subplots.AxesSubplot at 0x194f3aadcc8>,\n",
       " <matplotlib.axes._subplots.AxesSubplot at 0x194f3aadcc8>)"
      ]
     },
     "execution_count": 80,
     "metadata": {},
     "output_type": "execute_result"
    },
    {
     "data": {
      "image/png": "[encoded data removed]",
      "text/plain": [
       "<Figure size 432x288 with 1 Axes>"
      ]
     },
     "metadata": {
      "needs_background": "light"
     },
     "output_type": "display_data"
    }
   ],
   "source": [
    "# plotting the original and scaled values\n",
    "minmax_df['Distance_to_hospital'].plot(), minmax_df['mm_hos_dist'].plot()"
   ]
  },
  {
   "cell_type": "markdown",
   "metadata": {},
   "source": [
    "### Plotting normalized, minmax and original data\n",
    "#### The plot below shows a sample of normalized(red), minmax(blue) and original data(green) for the columns Distance to Hospital and Shopcenter. We can see how standarization and minmax normalization reduce the spread of the data without affecting its distibution."
   ]
  },
  {
   "cell_type": "code",
   "execution_count": 81,
   "metadata": {},
   "outputs": [
    {
     "data": {
      "image/png": "[encoded data removed]",
      "text/plain": [
       "<Figure size 576x432 with 1 Axes>"
      ]
     },
     "metadata": {
      "needs_background": "light"
     },
     "output_type": "display_data"
    }
   ],
   "source": [
    "# plot size\n",
    "plt.figure(figsize=(8,6))\n",
    "# standardized values scatter plot\n",
    "plt.scatter(std_df['z_hos_dist'].sample(frac=0.05), std_df['z_sc_dist'].sample(frac=0.05), color='red',\n",
    "             label='standardized u=0, s=1', alpha=0.3)\n",
    "# minmax normalized values plot\n",
    "plt.scatter(minmax_df['mm_hos_dist'].sample(frac=0.05), minmax_df['mm_sc_dist'].sample(frac=0.05),\n",
    "            color='blue', label='min-max scaled [min=0, max=1]', alpha=0.3)\n",
    "# original values plot\n",
    "plt.scatter(trans_df['Distance_to_hospital'].sample(frac=0.05), trans_df['Distance_to_sc'].sample(frac=0.05),\n",
    "            color='green', label='input scale', alpha=0.5)\n",
    "plt.title('Hospital and Shopcenter Distance')\n",
    "plt.xlabel('Distance to Hospital')\n",
    "plt.ylabel('Distance to Shopcenter')\n",
    "plt.legend(loc='lower right')\n",
    "plt.tight_layout()\n",
    "plt.grid()"
   ]
  },
  {
   "cell_type": "markdown",
   "metadata": {},
   "source": [
    "### Log Transformation\n",
    "#### We can see from the scatter plot below that there is no such defined linear relation between the distance to hospital and the price of the property. But when we apply the log transformation we see that there is a slight negative correlation between price and distance to hospital i.e when the distance to hospital increases, the price decreases. Also we can see that the price is positively skewed but when we apply the log transformation to it, the distribution becomes close to normal distribution."
   ]
  },
  {
   "cell_type": "code",
   "execution_count": 82,
   "metadata": {
    "scrolled": false
   },
   "outputs": [
    {
     "data": {
      "text/plain": [
       "<matplotlib.collections.PathCollection at 0x194f3378f48>"
      ]
     },
     "execution_count": 82,
     "metadata": {},
     "output_type": "execute_result"
    },
    {
     "data": {
      "image/png": "[encoded data removed]",
      "text/plain": [
       "<Figure size 432x288 with 1 Axes>"
      ]
     },
     "metadata": {
      "needs_background": "light"
     },
     "output_type": "display_data"
    }
   ],
   "source": [
    "# plotting scatter pot of original values\n",
    "plt.scatter(trans_df.Distance_to_hospital, trans_df.price)"
   ]
  },
  {
   "cell_type": "code",
   "execution_count": 83,
   "metadata": {},
   "outputs": [
    {
     "data": {
      "text/plain": [
       "<matplotlib.axes._subplots.AxesSubplot at 0x194eef32848>"
      ]
     },
     "execution_count": 83,
     "metadata": {},
     "output_type": "execute_result"
    },
    {
     "data": {
      "image/png": "[encoded data removed]",
      "text/plain": [
       "<Figure size 432x288 with 1 Axes>"
      ]
     },
     "metadata": {
      "needs_background": "light"
     },
     "output_type": "display_data"
    }
   ],
   "source": [
    "# histogram of price\n",
    "trans_df.price.hist()"
   ]
  },
  {
   "cell_type": "code",
   "execution_count": 84,
   "metadata": {},
   "outputs": [
    {
     "name": "stderr",
     "output_type": "stream",
     "text": [
      "D:\\Anaconda\\lib\\site-packages\\ipykernel_launcher.py:2: SettingWithCopyWarning: \n",
      "A value is trying to be set on a copy of a slice from a DataFrame.\n",
      "Try using .loc[row_indexer,col_indexer] = value instead\n",
      "\n",
      "See the caveats in the documentation: https://pandas.pydata.org/pandas-docs/stable/user_guide/indexing.html#returning-a-view-versus-a-copy\n",
      "  \n",
      "D:\\Anaconda\\lib\\site-packages\\ipykernel_launcher.py:3: SettingWithCopyWarning: \n",
      "A value is trying to be set on a copy of a slice from a DataFrame.\n",
      "Try using .loc[row_indexer,col_indexer] = value instead\n",
      "\n",
      "See the caveats in the documentation: https://pandas.pydata.org/pandas-docs/stable/user_guide/indexing.html#returning-a-view-versus-a-copy\n",
      "  This is separate from the ipykernel package so we can avoid doing imports until\n",
      "D:\\Anaconda\\lib\\site-packages\\ipykernel_launcher.py:9: SettingWithCopyWarning: \n",
      "A value is trying to be set on a copy of a slice from a DataFrame\n",
      "\n",
      "See the caveats in the documentation: https://pandas.pydata.org/pandas-docs/stable/user_guide/indexing.html#returning-a-view-versus-a-copy\n",
      "  if __name__ == '__main__':\n",
      "D:\\Anaconda\\lib\\site-packages\\IPython\\core\\interactiveshell.py:3331: SettingWithCopyWarning: \n",
      "A value is trying to be set on a copy of a slice from a DataFrame\n",
      "\n",
      "See the caveats in the documentation: https://pandas.pydata.org/pandas-docs/stable/user_guide/indexing.html#returning-a-view-versus-a-copy\n",
      "  exec(code_obj, self.user_global_ns, self.user_ns)\n",
      "D:\\Anaconda\\lib\\site-packages\\ipykernel_launcher.py:10: SettingWithCopyWarning: \n",
      "A value is trying to be set on a copy of a slice from a DataFrame\n",
      "\n",
      "See the caveats in the documentation: https://pandas.pydata.org/pandas-docs/stable/user_guide/indexing.html#returning-a-view-versus-a-copy\n",
      "  # Remove the CWD from sys.path while we load stuff.\n"
     ]
    },
    {
     "data": {
      "text/html": [
       "<div>\n",
       "<style scoped>\n",
       "    .dataframe tbody tr th:only-of-type {\n",
       "        vertical-align: middle;\n",
       "    }\n",
       "\n",
       "    .dataframe tbody tr th {\n",
       "        vertical-align: top;\n",
       "    }\n",
       "\n",
       "    .dataframe thead th {\n",
       "        text-align: right;\n",
       "    }\n",
       "</style>\n",
       "<table border=\"1\" class=\"dataframe\">\n",
       "  <thead>\n",
       "    <tr style=\"text-align: right;\">\n",
       "      <th></th>\n",
       "      <th>price</th>\n",
       "      <th>Distance_to_sc</th>\n",
       "      <th>travel_min_to_CBD</th>\n",
       "      <th>Distance_to_hospital</th>\n",
       "      <th>log_price</th>\n",
       "      <th>log_dist_hos</th>\n",
       "    </tr>\n",
       "  </thead>\n",
       "  <tbody>\n",
       "    <tr>\n",
       "      <th>0</th>\n",
       "      <td>16480000</td>\n",
       "      <td>2.725</td>\n",
       "      <td>16</td>\n",
       "      <td>1.630</td>\n",
       "      <td>16.6177</td>\n",
       "      <td>0.48858</td>\n",
       "    </tr>\n",
       "    <tr>\n",
       "      <th>1</th>\n",
       "      <td>25220000</td>\n",
       "      <td>2.539</td>\n",
       "      <td>20</td>\n",
       "      <td>1.358</td>\n",
       "      <td>17.0431</td>\n",
       "      <td>0.306013</td>\n",
       "    </tr>\n",
       "    <tr>\n",
       "      <th>2</th>\n",
       "      <td>11900000</td>\n",
       "      <td>0.958</td>\n",
       "      <td>53</td>\n",
       "      <td>0.727</td>\n",
       "      <td>16.292</td>\n",
       "      <td>-0.318829</td>\n",
       "    </tr>\n",
       "    <tr>\n",
       "      <th>3</th>\n",
       "      <td>24160000</td>\n",
       "      <td>3.466</td>\n",
       "      <td>19</td>\n",
       "      <td>0.118</td>\n",
       "      <td>17.0002</td>\n",
       "      <td>-2.13707</td>\n",
       "    </tr>\n",
       "    <tr>\n",
       "      <th>4</th>\n",
       "      <td>5625000</td>\n",
       "      <td>0.405</td>\n",
       "      <td>50</td>\n",
       "      <td>2.199</td>\n",
       "      <td>15.5427</td>\n",
       "      <td>0.788003</td>\n",
       "    </tr>\n",
       "  </tbody>\n",
       "</table>\n",
       "</div>"
      ],
      "text/plain": [
       "      price  Distance_to_sc  travel_min_to_CBD  Distance_to_hospital  \\\n",
       "0  16480000           2.725                 16                 1.630   \n",
       "1  25220000           2.539                 20                 1.358   \n",
       "2  11900000           0.958                 53                 0.727   \n",
       "3  24160000           3.466                 19                 0.118   \n",
       "4   5625000           0.405                 50                 2.199   \n",
       "\n",
       "  log_price log_dist_hos  \n",
       "0   16.6177      0.48858  \n",
       "1   17.0431     0.306013  \n",
       "2    16.292    -0.318829  \n",
       "3   17.0002     -2.13707  \n",
       "4   15.5427     0.788003  "
      ]
     },
     "execution_count": 84,
     "metadata": {},
     "output_type": "execute_result"
    }
   ],
   "source": [
    "# naming new columns\n",
    "trans_df['log_price'] = None\n",
    "trans_df['log_dist_hos'] = None\n",
    "# counter\n",
    "i = 0\n",
    "# for all rows\n",
    "for i in range(len(trans_df)):\n",
    "    # transforming to log scale\n",
    "    trans_df['log_price'][i] = math.log(trans_df['price'][i])\n",
    "    trans_df['log_dist_hos'][i] = math.log(trans_df['Distance_to_hospital'][i])\n",
    "# first few rows\n",
    "trans_df.head()"
   ]
  },
  {
   "cell_type": "code",
   "execution_count": 85,
   "metadata": {},
   "outputs": [
    {
     "data": {
      "text/plain": [
       "<matplotlib.collections.PathCollection at 0x194f42be188>"
      ]
     },
     "execution_count": 85,
     "metadata": {},
     "output_type": "execute_result"
    },
    {
     "data": {
      "image/png": "[encoded data removed]",
      "text/plain": [
       "<Figure size 432x288 with 1 Axes>"
      ]
     },
     "metadata": {
      "needs_background": "light"
     },
     "output_type": "display_data"
    }
   ],
   "source": [
    "# plotting scatter plot of log transformed values\n",
    "plt.scatter(trans_df.log_dist_hos, trans_df.log_price)"
   ]
  },
  {
   "cell_type": "code",
   "execution_count": 86,
   "metadata": {},
   "outputs": [
    {
     "data": {
      "text/plain": [
       "<matplotlib.axes._subplots.AxesSubplot at 0x194f23a4648>"
      ]
     },
     "execution_count": 86,
     "metadata": {},
     "output_type": "execute_result"
    },
    {
     "data": {
      "image/png": "[encoded data removed]",
      "text/plain": [
       "<Figure size 432x288 with 1 Axes>"
      ]
     },
     "metadata": {
      "needs_background": "light"
     },
     "output_type": "display_data"
    }
   ],
   "source": [
    "# histogram of log(price)\n",
    "trans_df.log_price.hist()"
   ]
  },
  {
   "cell_type": "markdown",
   "metadata": {},
   "source": [
    "### Power Transformation\n",
    "#### When we apply the root transformation we see that there is a slight linear relationship between price and distance to hospital (when the distance to hospital increases, the price decreases). Also we can see that the price is positively skewed but when we apply the root transformation to it, the distribution is becomes a bit less positive skewed."
   ]
  },
  {
   "cell_type": "code",
   "execution_count": 87,
   "metadata": {},
   "outputs": [
    {
     "name": "stderr",
     "output_type": "stream",
     "text": [
      "D:\\Anaconda\\lib\\site-packages\\ipykernel_launcher.py:2: SettingWithCopyWarning: \n",
      "A value is trying to be set on a copy of a slice from a DataFrame.\n",
      "Try using .loc[row_indexer,col_indexer] = value instead\n",
      "\n",
      "See the caveats in the documentation: https://pandas.pydata.org/pandas-docs/stable/user_guide/indexing.html#returning-a-view-versus-a-copy\n",
      "  \n",
      "D:\\Anaconda\\lib\\site-packages\\ipykernel_launcher.py:3: SettingWithCopyWarning: \n",
      "A value is trying to be set on a copy of a slice from a DataFrame.\n",
      "Try using .loc[row_indexer,col_indexer] = value instead\n",
      "\n",
      "See the caveats in the documentation: https://pandas.pydata.org/pandas-docs/stable/user_guide/indexing.html#returning-a-view-versus-a-copy\n",
      "  This is separate from the ipykernel package so we can avoid doing imports until\n",
      "D:\\Anaconda\\lib\\site-packages\\ipykernel_launcher.py:9: SettingWithCopyWarning: \n",
      "A value is trying to be set on a copy of a slice from a DataFrame\n",
      "\n",
      "See the caveats in the documentation: https://pandas.pydata.org/pandas-docs/stable/user_guide/indexing.html#returning-a-view-versus-a-copy\n",
      "  if __name__ == '__main__':\n",
      "D:\\Anaconda\\lib\\site-packages\\IPython\\core\\interactiveshell.py:3331: SettingWithCopyWarning: \n",
      "A value is trying to be set on a copy of a slice from a DataFrame\n",
      "\n",
      "See the caveats in the documentation: https://pandas.pydata.org/pandas-docs/stable/user_guide/indexing.html#returning-a-view-versus-a-copy\n",
      "  exec(code_obj, self.user_global_ns, self.user_ns)\n",
      "D:\\Anaconda\\lib\\site-packages\\ipykernel_launcher.py:10: SettingWithCopyWarning: \n",
      "A value is trying to be set on a copy of a slice from a DataFrame\n",
      "\n",
      "See the caveats in the documentation: https://pandas.pydata.org/pandas-docs/stable/user_guide/indexing.html#returning-a-view-versus-a-copy\n",
      "  # Remove the CWD from sys.path while we load stuff.\n"
     ]
    },
    {
     "data": {
      "text/html": [
       "<div>\n",
       "<style scoped>\n",
       "    .dataframe tbody tr th:only-of-type {\n",
       "        vertical-align: middle;\n",
       "    }\n",
       "\n",
       "    .dataframe tbody tr th {\n",
       "        vertical-align: top;\n",
       "    }\n",
       "\n",
       "    .dataframe thead th {\n",
       "        text-align: right;\n",
       "    }\n",
       "</style>\n",
       "<table border=\"1\" class=\"dataframe\">\n",
       "  <thead>\n",
       "    <tr style=\"text-align: right;\">\n",
       "      <th></th>\n",
       "      <th>price</th>\n",
       "      <th>Distance_to_sc</th>\n",
       "      <th>travel_min_to_CBD</th>\n",
       "      <th>Distance_to_hospital</th>\n",
       "      <th>log_price</th>\n",
       "      <th>log_dist_hos</th>\n",
       "      <th>root_price</th>\n",
       "      <th>root_dist_hos</th>\n",
       "    </tr>\n",
       "  </thead>\n",
       "  <tbody>\n",
       "    <tr>\n",
       "      <th>0</th>\n",
       "      <td>16480000</td>\n",
       "      <td>2.725</td>\n",
       "      <td>16</td>\n",
       "      <td>1.630</td>\n",
       "      <td>16.6177</td>\n",
       "      <td>0.48858</td>\n",
       "      <td>4059.56</td>\n",
       "      <td>1.27671</td>\n",
       "    </tr>\n",
       "    <tr>\n",
       "      <th>1</th>\n",
       "      <td>25220000</td>\n",
       "      <td>2.539</td>\n",
       "      <td>20</td>\n",
       "      <td>1.358</td>\n",
       "      <td>17.0431</td>\n",
       "      <td>0.306013</td>\n",
       "      <td>5021.95</td>\n",
       "      <td>1.16533</td>\n",
       "    </tr>\n",
       "    <tr>\n",
       "      <th>2</th>\n",
       "      <td>11900000</td>\n",
       "      <td>0.958</td>\n",
       "      <td>53</td>\n",
       "      <td>0.727</td>\n",
       "      <td>16.292</td>\n",
       "      <td>-0.318829</td>\n",
       "      <td>3449.64</td>\n",
       "      <td>0.852643</td>\n",
       "    </tr>\n",
       "    <tr>\n",
       "      <th>3</th>\n",
       "      <td>24160000</td>\n",
       "      <td>3.466</td>\n",
       "      <td>19</td>\n",
       "      <td>0.118</td>\n",
       "      <td>17.0002</td>\n",
       "      <td>-2.13707</td>\n",
       "      <td>4915.28</td>\n",
       "      <td>0.343511</td>\n",
       "    </tr>\n",
       "    <tr>\n",
       "      <th>4</th>\n",
       "      <td>5625000</td>\n",
       "      <td>0.405</td>\n",
       "      <td>50</td>\n",
       "      <td>2.199</td>\n",
       "      <td>15.5427</td>\n",
       "      <td>0.788003</td>\n",
       "      <td>2371.71</td>\n",
       "      <td>1.4829</td>\n",
       "    </tr>\n",
       "  </tbody>\n",
       "</table>\n",
       "</div>"
      ],
      "text/plain": [
       "      price  Distance_to_sc  travel_min_to_CBD  Distance_to_hospital  \\\n",
       "0  16480000           2.725                 16                 1.630   \n",
       "1  25220000           2.539                 20                 1.358   \n",
       "2  11900000           0.958                 53                 0.727   \n",
       "3  24160000           3.466                 19                 0.118   \n",
       "4   5625000           0.405                 50                 2.199   \n",
       "\n",
       "  log_price log_dist_hos root_price root_dist_hos  \n",
       "0   16.6177      0.48858    4059.56       1.27671  \n",
       "1   17.0431     0.306013    5021.95       1.16533  \n",
       "2    16.292    -0.318829    3449.64      0.852643  \n",
       "3   17.0002     -2.13707    4915.28      0.343511  \n",
       "4   15.5427     0.788003    2371.71        1.4829  "
      ]
     },
     "execution_count": 87,
     "metadata": {},
     "output_type": "execute_result"
    }
   ],
   "source": [
    "# naming new columns\n",
    "trans_df['root_price'] = None\n",
    "trans_df['root_dist_hos'] = None\n",
    "# counter\n",
    "i = 0\n",
    "# for all rows\n",
    "for i in range(len(trans_df)):\n",
    "    # root transformation\n",
    "    trans_df['root_price'][i] = math.sqrt(trans_df['price'][i])\n",
    "    trans_df['root_dist_hos'][i] = math.sqrt(trans_df['Distance_to_hospital'][i])\n",
    "trans_df.head()"
   ]
  },
  {
   "cell_type": "code",
   "execution_count": 88,
   "metadata": {},
   "outputs": [
    {
     "data": {
      "text/plain": [
       "<matplotlib.collections.PathCollection at 0x194f25a83c8>"
      ]
     },
     "execution_count": 88,
     "metadata": {},
     "output_type": "execute_result"
    },
    {
     "data": {
      "image/png": "[encoded data removed]",
      "text/plain": [
       "<Figure size 432x288 with 1 Axes>"
      ]
     },
     "metadata": {
      "needs_background": "light"
     },
     "output_type": "display_data"
    }
   ],
   "source": [
    "# plotting scatter plot of power transformed values\n",
    "plt.scatter(trans_df.root_dist_hos, trans_df.root_price)"
   ]
  },
  {
   "cell_type": "code",
   "execution_count": 89,
   "metadata": {},
   "outputs": [
    {
     "data": {
      "text/plain": [
       "<matplotlib.axes._subplots.AxesSubplot at 0x194f2395ac8>"
      ]
     },
     "execution_count": 89,
     "metadata": {},
     "output_type": "execute_result"
    },
    {
     "data": {
      "image/png": "[encoded data removed]",
      "text/plain": [
       "<Figure size 432x288 with 1 Axes>"
      ]
     },
     "metadata": {
      "needs_background": "light"
     },
     "output_type": "display_data"
    }
   ],
   "source": [
    "# histogram of sqrt(price)\n",
    "trans_df.root_price.hist()"
   ]
  },
  {
   "cell_type": "markdown",
   "metadata": {},
   "source": [
    "### Boxcox Transformation\n",
    "\n",
    "#### We can see from the scatter plot that there is no such defined linear relation between the distance to hospital and the price of the property. But when we apply the boxcox transformation we observe the price to vary linearly with distance to hospital(when the distance to hospital increases, the price decreases). Also we can see that the price is positively skewed but when we apply the boxcox transformation to it, the distribution becomes close to normal distribution."
   ]
  },
  {
   "cell_type": "code",
   "execution_count": 90,
   "metadata": {},
   "outputs": [
    {
     "name": "stderr",
     "output_type": "stream",
     "text": [
      "D:\\Anaconda\\lib\\site-packages\\ipykernel_launcher.py:2: SettingWithCopyWarning: \n",
      "A value is trying to be set on a copy of a slice from a DataFrame.\n",
      "Try using .loc[row_indexer,col_indexer] = value instead\n",
      "\n",
      "See the caveats in the documentation: https://pandas.pydata.org/pandas-docs/stable/user_guide/indexing.html#returning-a-view-versus-a-copy\n",
      "  \n",
      "D:\\Anaconda\\lib\\site-packages\\ipykernel_launcher.py:3: SettingWithCopyWarning: \n",
      "A value is trying to be set on a copy of a slice from a DataFrame.\n",
      "Try using .loc[row_indexer,col_indexer] = value instead\n",
      "\n",
      "See the caveats in the documentation: https://pandas.pydata.org/pandas-docs/stable/user_guide/indexing.html#returning-a-view-versus-a-copy\n",
      "  This is separate from the ipykernel package so we can avoid doing imports until\n",
      "D:\\Anaconda\\lib\\site-packages\\ipykernel_launcher.py:5: SettingWithCopyWarning: \n",
      "A value is trying to be set on a copy of a slice from a DataFrame.\n",
      "Try using .loc[row_indexer,col_indexer] = value instead\n",
      "\n",
      "See the caveats in the documentation: https://pandas.pydata.org/pandas-docs/stable/user_guide/indexing.html#returning-a-view-versus-a-copy\n",
      "  \"\"\"\n",
      "D:\\Anaconda\\lib\\site-packages\\ipykernel_launcher.py:6: SettingWithCopyWarning: \n",
      "A value is trying to be set on a copy of a slice from a DataFrame.\n",
      "Try using .loc[row_indexer,col_indexer] = value instead\n",
      "\n",
      "See the caveats in the documentation: https://pandas.pydata.org/pandas-docs/stable/user_guide/indexing.html#returning-a-view-versus-a-copy\n",
      "  \n"
     ]
    }
   ],
   "source": [
    "# naming new columns\n",
    "trans_df['box_price'] = None\n",
    "trans_df['box_dist_hos'] = None\n",
    "# applying boxcox transformation\n",
    "trans_df['box_price'], f_lambda = stats.boxcox(trans_df.price)\n",
    "trans_df['box_dist_hos'], f_lambda = stats.boxcox(trans_df.Distance_to_hospital)"
   ]
  },
  {
   "cell_type": "code",
   "execution_count": 91,
   "metadata": {},
   "outputs": [
    {
     "data": {
      "text/plain": [
       "<matplotlib.collections.PathCollection at 0x194f288ed48>"
      ]
     },
     "execution_count": 91,
     "metadata": {},
     "output_type": "execute_result"
    },
    {
     "data": {
      "image/png": "[encoded data removed]",
      "text/plain": [
       "<Figure size 432x288 with 1 Axes>"
      ]
     },
     "metadata": {
      "needs_background": "light"
     },
     "output_type": "display_data"
    }
   ],
   "source": [
    "# plotting scatter plot of boxcox transformed values\n",
    "plt.scatter(trans_df.box_dist_hos, trans_df.box_price)"
   ]
  },
  {
   "cell_type": "code",
   "execution_count": 92,
   "metadata": {
    "scrolled": true
   },
   "outputs": [
    {
     "data": {
      "text/plain": [
       "<matplotlib.axes._subplots.AxesSubplot at 0x194f2fc5888>"
      ]
     },
     "execution_count": 92,
     "metadata": {},
     "output_type": "execute_result"
    },
    {
     "data": {
      "image/png": "[encoded data removed]",
      "text/plain": [
       "<Figure size 432x288 with 1 Axes>"
      ]
     },
     "metadata": {
      "needs_background": "light"
     },
     "output_type": "display_data"
    }
   ],
   "source": [
    "# histogram of boxcox transformed price\n",
    "trans_df.box_price.hist()"
   ]
  },
  {
   "cell_type": "markdown",
   "metadata": {},
   "source": [
    "### Conlusion\n",
    "#### Both standarisation and minmax normalization can be used to scale the data as they both preserve the data distribution. In order to preserve the condition of linearity while fitting a linear regression model to the data, the best transforamtion that can be used is the log transformation."
   ]
  },
  {
   "cell_type": "markdown",
   "metadata": {},
   "source": [
    "## References\n",
    "#### https://towardsdatascience.com/heres-how-to-calculate-distance-between-2-geolocations-in-python-93ecab5bbba4\n",
    "#### https://scikit-learn.org/stable/modules/preprocessing.html\n",
    "#### https://sebastianraschka.com/Articles/2014_about_feature_scaling.html\n",
    "#### https://stackoverflow.com/questions/8031594/how-do-i-work-out-which-shapefile-suburb-contains-a-given-lat-lon-point-in-php\n",
    "#### https://stackoverflow.com/questions/45265044/how-to-check-a-time-is-between-two-times-in-python\n",
    "#### https://stackoverflow.com/questions/23667369/drop-all-duplicate-rows-across-multiple-columns-in-python-pandas"
   ]
  }
 ],
 "metadata": {
  "kernelspec": {
   "display_name": "Python 3",
   "language": "python",
   "name": "python3"
  },
  "language_info": {
   "codemirror_mode": {
    "name": "ipython",
    "version": 3
   },
   "file_extension": ".py",
   "mimetype": "text/x-python",
   "name": "python",
   "nbconvert_exporter": "python",
   "pygments_lexer": "ipython3",
   "version": "3.7.6"
  }
 },
 "nbformat": 4,
 "nbformat_minor": 4
}
